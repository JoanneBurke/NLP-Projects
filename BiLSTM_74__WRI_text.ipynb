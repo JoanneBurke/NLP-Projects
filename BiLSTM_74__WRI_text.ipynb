{
  "nbformat": 4,
  "nbformat_minor": 0,
  "metadata": {
    "colab": {
      "name": " BiLSTM_74%_WRI_text.ipynb",
      "provenance": [],
      "collapsed_sections": [],
      "include_colab_link": true
    },
    "kernelspec": {
      "name": "python3",
      "display_name": "Python 3"
    }
  },
  "cells": [
    {
      "cell_type": "markdown",
      "metadata": {
        "id": "view-in-github",
        "colab_type": "text"
      },
      "source": [
        "<a href=\"https://colab.research.google.com/github/JoanneBurke/NLP-Projects/blob/master/BiLSTM_74__WRI_text.ipynb\" target=\"_parent\"><img src=\"https://colab.research.google.com/assets/colab-badge.svg\" alt=\"Open In Colab\"/></a>"
      ]
    },
    {
      "cell_type": "code",
      "metadata": {
        "id": "hYwdEwMb-y6n",
        "colab_type": "code",
        "outputId": "0ee9e1b1-d28d-4c59-8728-87f4b16730b2",
        "colab": {
          "base_uri": "https://localhost:8080/",
          "height": 34
        }
      },
      "source": [
        "from google.colab import drive\n",
        "drive.mount('/content/drive')"
      ],
      "execution_count": 0,
      "outputs": [
        {
          "output_type": "stream",
          "text": [
            "Drive already mounted at /content/drive; to attempt to forcibly remount, call drive.mount(\"/content/drive\", force_remount=True).\n"
          ],
          "name": "stdout"
        }
      ]
    },
    {
      "cell_type": "code",
      "metadata": {
        "id": "yX_07-Q5__Jz",
        "colab_type": "code",
        "outputId": "9b59b492-31b0-4ab6-c026-70a92946738c",
        "colab": {
          "base_uri": "https://localhost:8080/",
          "height": 51
        }
      },
      "source": [
        "import pandas as pd\n",
        "import nltk\n",
        "nltk.download('stopwords')\n",
        "from nltk.corpus import stopwords\n",
        "\n",
        "import gensim\n",
        "from gensim.utils import simple_preprocess\n",
        "from tqdm import tqdm as tqdm\n",
        "\n",
        "from collections import Counter\n",
        "import numpy as np"
      ],
      "execution_count": 0,
      "outputs": [
        {
          "output_type": "stream",
          "text": [
            "[nltk_data] Downloading package stopwords to /root/nltk_data...\n",
            "[nltk_data]   Package stopwords is already up-to-date!\n"
          ],
          "name": "stdout"
        }
      ]
    },
    {
      "cell_type": "code",
      "metadata": {
        "id": "_XazWdlbODrt",
        "colab_type": "code",
        "outputId": "2f0d2933-5d15-4c2f-bf6b-568ae1ff5ef6",
        "colab": {
          "base_uri": "https://localhost:8080/",
          "height": 34
        }
      },
      "source": [
        "pwd"
      ],
      "execution_count": 0,
      "outputs": [
        {
          "output_type": "execute_result",
          "data": {
            "text/plain": [
              "'/content'"
            ]
          },
          "metadata": {
            "tags": []
          },
          "execution_count": 30
        }
      ]
    },
    {
      "cell_type": "code",
      "metadata": {
        "id": "fK51t6RAwIaA",
        "colab_type": "code",
        "outputId": "f3bf30bc-9c7c-4a3d-cf30-b8e6dbd26d0f",
        "colab": {
          "base_uri": "https://localhost:8080/",
          "height": 170
        }
      },
      "source": [
        "import os\n",
        "\n",
        "% cd drive/My Drive/Colab Notebooks/Omdena_WRI_JB/\n",
        "\n",
        "% pwd\n",
        "% ls"
      ],
      "execution_count": 0,
      "outputs": [
        {
          "output_type": "stream",
          "text": [
            "[Errno 2] No such file or directory: 'drive/My Drive/Colab Notebooks/Omdena_WRI_JB/'\n",
            "/content/drive/My Drive/Colab Notebooks/Omdena_WRI_JB\n",
            "'Copy of Attempt Bert.ipynb'          NER_ents.csv\n",
            " \u001b[0m\u001b[01;34menvironmental-conflict-tracker\u001b[0m/      PolicyMatch.csv\n",
            "'Gabriella -  LSTM_WRI.ipynb'         PolicyMatch.gsheet\n",
            "' Gabriella -  LSTM_WRI_text.ipynb'   Unlabelled1023.csv\n",
            " gold_standard.csv                   'wri_102919 (1).csv'\n",
            " manually_annotated.csv               wri.csv\n",
            "'NER and Matcher attempts.ipynb'     'WRI titles NN - 1st pass.ipynb'\n"
          ],
          "name": "stdout"
        }
      ]
    },
    {
      "cell_type": "code",
      "metadata": {
        "id": "RyuoI7dD_h08",
        "colab_type": "code",
        "colab": {}
      },
      "source": [
        "total= pd.read_csv('/content/drive/My Drive/Colab Notebooks/Omdena_WRI_JB/wri_102919 (1).csv', encoding='utf-8')"
      ],
      "execution_count": 0,
      "outputs": []
    },
    {
      "cell_type": "code",
      "metadata": {
        "id": "SshloRUOAkc1",
        "colab_type": "code",
        "outputId": "4e53ecc9-fcf8-4429-8815-89a60e2344f2",
        "colab": {
          "base_uri": "https://localhost:8080/",
          "height": 68
        }
      },
      "source": [
        "total['labels'].value_counts()"
      ],
      "execution_count": 0,
      "outputs": [
        {
          "output_type": "execute_result",
          "data": {
            "text/plain": [
              "negative    1344\n",
              "positive     459\n",
              "Name: labels, dtype: int64"
            ]
          },
          "metadata": {
            "tags": []
          },
          "execution_count": 51
        }
      ]
    },
    {
      "cell_type": "code",
      "metadata": {
        "id": "GFCdFn-ATElt",
        "colab_type": "code",
        "colab": {}
      },
      "source": [
        "total['class_binary']=total['labels'].map({'negative':0,'positive':1})"
      ],
      "execution_count": 0,
      "outputs": []
    },
    {
      "cell_type": "code",
      "metadata": {
        "id": "KvS_rVwHYkAS",
        "colab_type": "code",
        "colab": {}
      },
      "source": [
        "total['text']= total['text'].str.replace(r'\\d+','')\n",
        "total['text ']= total['text'].str.replace(r'\\s+',' ')\n",
        "total['text']= total['text'].str.lower().str.strip()"
      ],
      "execution_count": 0,
      "outputs": []
    },
    {
      "cell_type": "code",
      "metadata": {
        "id": "y3wxk5G9fROq",
        "colab_type": "code",
        "colab": {}
      },
      "source": [
        "total= total[~total.text.isna()]"
      ],
      "execution_count": 0,
      "outputs": []
    },
    {
      "cell_type": "code",
      "metadata": {
        "id": "NMuORBFyH-_j",
        "colab_type": "code",
        "colab": {}
      },
      "source": [
        "X= total.text.values\n",
        "y= total['class_binary'].values"
      ],
      "execution_count": 0,
      "outputs": []
    },
    {
      "cell_type": "code",
      "metadata": {
        "id": "o-TLtO-MazPK",
        "colab_type": "code",
        "colab": {}
      },
      "source": [
        "def sent_to_words(X):\n",
        "    '''Tokenizar las normas y eliminar puntuacion restante (acentos)'''\n",
        "    for linea in X:\n",
        "        yield(gensim.utils.simple_preprocess(str(linea), deacc=True))  # deacc=True removes punctuations\n",
        "\n",
        "X_token = list(sent_to_words(X))"
      ],
      "execution_count": 0,
      "outputs": []
    },
    {
      "cell_type": "code",
      "metadata": {
        "id": "K9NgmXwKH8xg",
        "colab_type": "code",
        "colab": {}
      },
      "source": [
        "stop_words= stopwords.words('english')"
      ],
      "execution_count": 0,
      "outputs": []
    },
    {
      "cell_type": "code",
      "metadata": {
        "id": "xwSja1EDTRFX",
        "colab_type": "code",
        "colab": {}
      },
      "source": [
        "def no_stopwords(X):\n",
        "    return [[word for word in line if word not in stop_words] for line in tqdm(X)]"
      ],
      "execution_count": 0,
      "outputs": []
    },
    {
      "cell_type": "code",
      "metadata": {
        "id": "5ZUYEXO7cGbv",
        "colab_type": "code",
        "outputId": "bd91c645-c568-4bb8-fde2-3c85dc8fca90",
        "colab": {
          "base_uri": "https://localhost:8080/",
          "height": 34
        }
      },
      "source": [
        "X_no_stopwords= no_stopwords(X_token)"
      ],
      "execution_count": 0,
      "outputs": [
        {
          "output_type": "stream",
          "text": [
            "100%|██████████| 1803/1803 [00:01<00:00, 1463.27it/s]\n"
          ],
          "name": "stderr"
        }
      ]
    },
    {
      "cell_type": "code",
      "metadata": {
        "id": "SVitL_szeMSH",
        "colab_type": "code",
        "colab": {}
      },
      "source": [
        "vocab= Counter()\n",
        "for line in X_no_stopwords:\n",
        "    for word in line:\n",
        "        vocab[word]+=1\n",
        "\n",
        "vocab= sorted(vocab, key= vocab.get, reverse=True)\n",
        "word_to_id= {word:i for i,word in enumerate(vocab,1)}"
      ],
      "execution_count": 0,
      "outputs": []
    },
    {
      "cell_type": "code",
      "metadata": {
        "id": "P6njOGL-eg50",
        "colab_type": "code",
        "colab": {}
      },
      "source": [
        "encoded_x= [[word_to_id[word] for word in line] for line in X_no_stopwords]"
      ],
      "execution_count": 0,
      "outputs": []
    },
    {
      "cell_type": "code",
      "metadata": {
        "id": "H1Hu5HSRe28v",
        "colab_type": "code",
        "colab": {}
      },
      "source": [
        "largo=[]\n",
        "for i,line in enumerate(X_no_stopwords):\n",
        "  largo.append(len(line))"
      ],
      "execution_count": 0,
      "outputs": []
    },
    {
      "cell_type": "code",
      "metadata": {
        "id": "kirsy3ehfAfC",
        "colab_type": "code",
        "outputId": "41f5221b-0392-4ac1-96eb-de35b7cc27a3",
        "colab": {
          "base_uri": "https://localhost:8080/",
          "height": 281
        }
      },
      "source": [
        "import matplotlib.pyplot as plt\n",
        "plt.hist(largo)\n",
        "plt.title('Length of sentences')\n",
        "plt.show()"
      ],
      "execution_count": 0,
      "outputs": [
        {
          "output_type": "display_data",
          "data": {
            "image/png": "[encoded data removed]",
            "text/plain": [
              "<Figure size 432x288 with 1 Axes>"
            ]
          },
          "metadata": {
            "tags": []
          }
        }
      ]
    },
    {
      "cell_type": "code",
      "metadata": {
        "id": "0FI8XiovgYg9",
        "colab_type": "code",
        "colab": {}
      },
      "source": [
        "MAX_LENGTH = 300\n",
        "EPOCHS = 15\n",
        "S_DROPOUT = .05\n",
        "DROPOUT = .05\n",
        "R_DROPOUT = .05\n",
        "\n"
      ],
      "execution_count": 0,
      "outputs": []
    },
    {
      "cell_type": "code",
      "metadata": {
        "id": "9nKcnK4xewxj",
        "colab_type": "code",
        "outputId": "dbe819fb-bbe7-4bdf-bfb7-6b1b9d20635d",
        "colab": {
          "base_uri": "https://localhost:8080/",
          "height": 34
        }
      },
      "source": [
        "\"\"\"def cut_pad(text, length_seq):\n",
        "    seq=[]\n",
        "    for line in text:\n",
        "        if len(line)>=length_seq:\n",
        "            seq.append(line[:length_seq])\n",
        "        else:\n",
        "            padding=[0]*(length_seq-len(line))\n",
        "            seq.append(padding+line)\n",
        "    return seq\n",
        "  \n",
        "padded_X = cut_pad(encoded_x,12)\n",
        "padded_X= np.array(padded_X)\"\"\"\n",
        "\n",
        "from keras.preprocessing.sequence import pad_sequences\n",
        "\n",
        "padded_X= pad_sequences(encoded_x,maxlen=MAX_LENGTH)\n",
        "padded_X.shape"
      ],
      "execution_count": 0,
      "outputs": [
        {
          "output_type": "execute_result",
          "data": {
            "text/plain": [
              "(1803, 300)"
            ]
          },
          "metadata": {
            "tags": []
          },
          "execution_count": 65
        }
      ]
    },
    {
      "cell_type": "code",
      "metadata": {
        "id": "FdONuJdSH53i",
        "colab_type": "code",
        "colab": {}
      },
      "source": [
        "from sklearn.model_selection import train_test_split\n",
        "X_train, X_test, y_train, y_test = train_test_split(padded_X, y,\n",
        "                                                    stratify=y, \n",
        "                                                    test_size=0.2)"
      ],
      "execution_count": 0,
      "outputs": []
    },
    {
      "cell_type": "code",
      "metadata": {
        "id": "Kcv33icAcObn",
        "colab_type": "code",
        "colab": {}
      },
      "source": [
        "from keras.datasets import imdb\n",
        "from keras.models import Sequential\n",
        "from keras.layers import Dense, LSTM, SpatialDropout1D, Bidirectional\n",
        "from keras.layers.embeddings import Embedding\n",
        "from keras.preprocessing import sequence"
      ],
      "execution_count": 0,
      "outputs": []
    },
    {
      "cell_type": "code",
      "metadata": {
        "id": "UxK09WR2kjws",
        "colab_type": "code",
        "outputId": "2177c7d5-62f3-40a6-a87c-9d8f288dd9fc",
        "colab": {
          "base_uri": "https://localhost:8080/",
          "height": 833
        }
      },
      "source": [
        "np.random.seed(7)\n",
        "\n",
        "embedding_vector_length = 32\n",
        "\n",
        "model = Sequential()\n",
        "model.add(Embedding(len(word_to_id)+1, embedding_vector_length, input_length=MAX_LENGTH))\n",
        "model.add(SpatialDropout1D(S_DROPOUT))\n",
        "model.add(Bidirectional(LSTM(60,dropout = DROPOUT, recurrent_dropout = R_DROPOUT)))\n",
        "model.add(Dense(1, activation='sigmoid'))\n",
        "model.compile(loss='binary_crossentropy', optimizer='adam', metrics=['accuracy'])\n",
        "print(model.summary())\n",
        "model.fit(X_train, y_train, epochs=EPOCHS, batch_size=128)\n",
        "# Final evaluation of the model\n",
        "scores = model.evaluate(X_test, y_test, verbose=0)\n",
        "print(\"Accuracy: %.2f%%\" % (scores[1]*100))"
      ],
      "execution_count": 0,
      "outputs": [
        {
          "output_type": "stream",
          "text": [
            "Model: \"sequential_3\"\n",
            "_________________________________________________________________\n",
            "Layer (type)                 Output Shape              Param #   \n",
            "=================================================================\n",
            "embedding_3 (Embedding)      (None, 300, 32)           1120192   \n",
            "_________________________________________________________________\n",
            "spatial_dropout1d_3 (Spatial (None, 300, 32)           0         \n",
            "_________________________________________________________________\n",
            "bidirectional_3 (Bidirection (None, 120)               44640     \n",
            "_________________________________________________________________\n",
            "dense_3 (Dense)              (None, 1)                 121       \n",
            "=================================================================\n",
            "Total params: 1,164,953\n",
            "Trainable params: 1,164,953\n",
            "Non-trainable params: 0\n",
            "_________________________________________________________________\n",
            "None\n",
            "Epoch 1/15\n",
            "1442/1442 [==============================] - 15s 10ms/step - loss: 0.6595 - acc: 0.7393\n",
            "Epoch 2/15\n",
            "1442/1442 [==============================] - 12s 8ms/step - loss: 0.5641 - acc: 0.7455\n",
            "Epoch 3/15\n",
            "1442/1442 [==============================] - 12s 8ms/step - loss: 0.5349 - acc: 0.7455\n",
            "Epoch 4/15\n",
            "1442/1442 [==============================] - 12s 8ms/step - loss: 0.4875 - acc: 0.7455\n",
            "Epoch 5/15\n",
            "1442/1442 [==============================] - 12s 8ms/step - loss: 0.3518 - acc: 0.8162\n",
            "Epoch 6/15\n",
            "1442/1442 [==============================] - 12s 8ms/step - loss: 0.2384 - acc: 0.9542\n",
            "Epoch 7/15\n",
            "1442/1442 [==============================] - 12s 8ms/step - loss: 0.1426 - acc: 0.9730\n",
            "Epoch 8/15\n",
            "1442/1442 [==============================] - 12s 8ms/step - loss: 0.0840 - acc: 0.9834\n",
            "Epoch 9/15\n",
            "1442/1442 [==============================] - 12s 8ms/step - loss: 0.0549 - acc: 0.9903\n",
            "Epoch 10/15\n",
            "1442/1442 [==============================] - 12s 8ms/step - loss: 0.0469 - acc: 0.9958\n",
            "Epoch 11/15\n",
            "1442/1442 [==============================] - 12s 8ms/step - loss: 0.0343 - acc: 0.9903\n",
            "Epoch 12/15\n",
            "1442/1442 [==============================] - 12s 8ms/step - loss: 0.0241 - acc: 0.9979\n",
            "Epoch 13/15\n",
            "1442/1442 [==============================] - 12s 8ms/step - loss: 0.0234 - acc: 0.9945\n",
            "Epoch 14/15\n",
            "1442/1442 [==============================] - 12s 8ms/step - loss: 0.0182 - acc: 0.9972\n",
            "Epoch 15/15\n",
            "1442/1442 [==============================] - 12s 8ms/step - loss: 0.0154 - acc: 0.9972\n",
            "Accuracy: 87.81%\n"
          ],
          "name": "stdout"
        }
      ]
    },
    {
      "cell_type": "code",
      "metadata": {
        "id": "K6MqNgp-l6fZ",
        "colab_type": "code",
        "outputId": "04d87fb3-ee69-43eb-d41c-a31408cf9a01",
        "colab": {
          "base_uri": "https://localhost:8080/",
          "height": 153
        }
      },
      "source": [
        "prediction = np.array([1 if pred>=0.5 else 0 for pred in model.predict(X_test)])\n",
        "\n",
        "true_positive= np.sum(prediction*y_test)\n",
        "false_positive= np.sum((y_test[np.where(prediction==1)]*prediction[np.where(prediction==1)])==0)\n",
        "false_negative=np.sum((y_test[np.where(prediction==0)]+prediction[np.where(prediction==0)])==1)\n",
        "true_negative = len(prediction) - true_positive - false_negative - false_positive\n",
        "\n",
        "precision= true_positive/(true_positive+false_positive)\n",
        "recall= true_positive/(true_positive+false_negative)\n",
        "\n",
        "f1= 2* precision* recall/(precision+recall)\n",
        "\n",
        "print('Precision: ', precision)\n",
        "print('Recall: ', recall)\n",
        "print('F1: ', f1)\n",
        "print('-'*65)\n",
        "print('True Positives: ', true_positive)\n",
        "print('True Negatives: ', true_negative)\n",
        "print('False Positives: ', false_positive)\n",
        "print('False Negatives: ', false_negative)\n"
      ],
      "execution_count": 0,
      "outputs": [
        {
          "output_type": "stream",
          "text": [
            "Precision:  0.8076923076923077\n",
            "Recall:  0.6847826086956522\n",
            "F1:  0.7411764705882354\n",
            "-----------------------------------------------------------------\n",
            "True Positives:  63\n",
            "True Negatives:  254\n",
            "False Positives:  15\n",
            "False Negatives:  29\n"
          ],
          "name": "stdout"
        }
      ]
    },
    {
      "cell_type": "code",
      "metadata": {
        "id": "M9Q0b6j4zN1e",
        "colab_type": "code",
        "colab": {}
      },
      "source": [
        "from tensorflow.keras.models import save_model\n",
        "model.save_weights('text_bilstm_weights.hdf5')\n",
        "model.save('text_bilstm_model.hdf5')"
      ],
      "execution_count": 0,
      "outputs": []
    },
    {
      "cell_type": "code",
      "metadata": {
        "id": "suEHAZXQ7KA0",
        "colab_type": "code",
        "outputId": "8ba92e01-6c25-4f63-b975-aed0aac9fc20",
        "colab": {
          "base_uri": "https://localhost:8080/",
          "height": 1000
        }
      },
      "source": [
        "dir(model)"
      ],
      "execution_count": 0,
      "outputs": [
        {
          "output_type": "execute_result",
          "data": {
            "text/plain": [
              "['__call__',\n",
              " '__class__',\n",
              " '__delattr__',\n",
              " '__dict__',\n",
              " '__dir__',\n",
              " '__doc__',\n",
              " '__eq__',\n",
              " '__format__',\n",
              " '__ge__',\n",
              " '__getattribute__',\n",
              " '__getstate__',\n",
              " '__gt__',\n",
              " '__hash__',\n",
              " '__init__',\n",
              " '__init_subclass__',\n",
              " '__le__',\n",
              " '__lt__',\n",
              " '__module__',\n",
              " '__ne__',\n",
              " '__new__',\n",
              " '__reduce__',\n",
              " '__reduce_ex__',\n",
              " '__repr__',\n",
              " '__setattr__',\n",
              " '__setstate__',\n",
              " '__sizeof__',\n",
              " '__str__',\n",
              " '__subclasshook__',\n",
              " '__weakref__',\n",
              " '_add_inbound_node',\n",
              " '_base_init',\n",
              " '_build_input_shape',\n",
              " '_built',\n",
              " '_check_trainable_weights_consistency',\n",
              " '_collected_trainable_weights',\n",
              " '_compute_previous_mask',\n",
              " '_expects_training_arg',\n",
              " '_feed_input_names',\n",
              " '_feed_input_shapes',\n",
              " '_feed_inputs',\n",
              " '_feed_loss_fns',\n",
              " '_feed_output_names',\n",
              " '_feed_output_shapes',\n",
              " '_feed_outputs',\n",
              " '_feed_sample_weight_modes',\n",
              " '_feed_sample_weights',\n",
              " '_feed_targets',\n",
              " '_function_kwargs',\n",
              " '_get_callback_model',\n",
              " '_get_node_attribute_at_index',\n",
              " '_inbound_nodes',\n",
              " '_init_graph_network',\n",
              " '_init_subclassed_network',\n",
              " '_initial_weights',\n",
              " '_input_coordinates',\n",
              " '_input_layers',\n",
              " '_is_compiled',\n",
              " '_is_graph_network',\n",
              " '_layers',\n",
              " '_layers_by_depth',\n",
              " '_losses',\n",
              " '_make_predict_function',\n",
              " '_make_test_function',\n",
              " '_make_train_function',\n",
              " '_network_nodes',\n",
              " '_node_key',\n",
              " '_nodes_by_depth',\n",
              " '_non_trainable_weights',\n",
              " '_outbound_nodes',\n",
              " '_output_coordinates',\n",
              " '_output_layers',\n",
              " '_output_mask_cache',\n",
              " '_output_shape_cache',\n",
              " '_output_tensor_cache',\n",
              " '_per_input_losses',\n",
              " '_per_input_updates',\n",
              " '_set_inputs',\n",
              " '_standardize_user_data',\n",
              " '_trainable_weights',\n",
              " '_updated_config',\n",
              " '_updates',\n",
              " '_uses_dynamic_learning_phase',\n",
              " '_uses_inputs_arg',\n",
              " '_validate_or_infer_batch_size',\n",
              " 'add',\n",
              " 'add_loss',\n",
              " 'add_update',\n",
              " 'add_weight',\n",
              " 'assert_input_compatibility',\n",
              " 'build',\n",
              " 'built',\n",
              " 'call',\n",
              " 'compile',\n",
              " 'compute_mask',\n",
              " 'compute_output_shape',\n",
              " 'count_params',\n",
              " 'dtype',\n",
              " 'evaluate',\n",
              " 'evaluate_generator',\n",
              " 'fit',\n",
              " 'fit_generator',\n",
              " 'from_config',\n",
              " 'get_config',\n",
              " 'get_input_at',\n",
              " 'get_input_mask_at',\n",
              " 'get_input_shape_at',\n",
              " 'get_layer',\n",
              " 'get_losses_for',\n",
              " 'get_output_at',\n",
              " 'get_output_mask_at',\n",
              " 'get_output_shape_at',\n",
              " 'get_updates_for',\n",
              " 'get_weights',\n",
              " 'history',\n",
              " 'input',\n",
              " 'input_mask',\n",
              " 'input_names',\n",
              " 'input_shape',\n",
              " 'input_spec',\n",
              " 'inputs',\n",
              " 'layers',\n",
              " 'load_weights',\n",
              " 'loss',\n",
              " 'loss_functions',\n",
              " 'loss_weights',\n",
              " 'losses',\n",
              " 'metrics',\n",
              " 'metrics_names',\n",
              " 'metrics_tensors',\n",
              " 'metrics_updates',\n",
              " 'model',\n",
              " 'name',\n",
              " 'non_trainable_weights',\n",
              " 'optimizer',\n",
              " 'output',\n",
              " 'output_mask',\n",
              " 'output_names',\n",
              " 'output_shape',\n",
              " 'outputs',\n",
              " 'pop',\n",
              " 'predict',\n",
              " 'predict_classes',\n",
              " 'predict_function',\n",
              " 'predict_generator',\n",
              " 'predict_on_batch',\n",
              " 'predict_proba',\n",
              " 'reset_states',\n",
              " 'run_internal_graph',\n",
              " 'sample_weight_mode',\n",
              " 'sample_weight_modes',\n",
              " 'sample_weights',\n",
              " 'save',\n",
              " 'save_weights',\n",
              " 'set_weights',\n",
              " 'state_updates',\n",
              " 'stateful',\n",
              " 'stateful_metric_functions',\n",
              " 'stateful_metric_names',\n",
              " 'stop_training',\n",
              " 'summary',\n",
              " 'supports_masking',\n",
              " 'targets',\n",
              " 'test_function',\n",
              " 'test_on_batch',\n",
              " 'to_json',\n",
              " 'to_yaml',\n",
              " 'total_loss',\n",
              " 'train_function',\n",
              " 'train_on_batch',\n",
              " 'trainable',\n",
              " 'trainable_weights',\n",
              " 'updates',\n",
              " 'uses_learning_phase',\n",
              " 'weighted_metrics',\n",
              " 'weights']"
            ]
          },
          "metadata": {
            "tags": []
          },
          "execution_count": 75
        }
      ]
    },
    {
      "cell_type": "code",
      "metadata": {
        "id": "kwLyS1537349",
        "colab_type": "code",
        "colab": {}
      },
      "source": [
        ""
      ],
      "execution_count": 0,
      "outputs": []
    }
  ]
}