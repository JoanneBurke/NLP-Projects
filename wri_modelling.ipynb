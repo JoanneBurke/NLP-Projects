{
  "nbformat": 4,
  "nbformat_minor": 0,
  "metadata": {
    "colab": {
      "name": "wri_modelling.ipynb",
      "provenance": [],
      "include_colab_link": true
    },
    "kernelspec": {
      "name": "python3",
      "display_name": "Python 3"
    }
  },
  "cells": [
    {
      "cell_type": "markdown",
      "metadata": {
        "id": "view-in-github",
        "colab_type": "text"
      },
      "source": [
        "<a href=\"https://colab.research.google.com/github/JoanneBurke/NLP-Projects/blob/master/wri_modelling.ipynb\" target=\"_parent\"><img src=\"https://colab.research.google.com/assets/colab-badge.svg\" alt=\"Open In Colab\"/></a>"
      ]
    },
    {
      "cell_type": "code",
      "metadata": {
        "id": "mFWPwvszb7em",
        "colab_type": "code",
        "outputId": "d72efdd6-b176-4837-b6ff-a376ef30934a",
        "colab": {
          "base_uri": "https://localhost:8080/",
          "height": 125
        }
      },
      "source": [
        "from google.colab import drive\n",
        "drive.mount('/content/drive')"
      ],
      "execution_count": 0,
      "outputs": [
        {
          "output_type": "stream",
          "text": [
            "Go to this URL in a browser: https://accounts.google.com/o/oauth2/auth?client_id=947318989803-6bn6qk8qdgf4n4g3pfee6491hc0brc4i.apps.googleusercontent.com&redirect_uri=urn%3Aietf%3Awg%3Aoauth%3A2.0%3Aoob&scope=email%20https%3A%2F%2Fwww.googleapis.com%2Fauth%2Fdocs.test%20https%3A%2F%2Fwww.googleapis.com%2Fauth%2Fdrive%20https%3A%2F%2Fwww.googleapis.com%2Fauth%2Fdrive.photos.readonly%20https%3A%2F%2Fwww.googleapis.com%2Fauth%2Fpeopleapi.readonly&response_type=code\n",
            "\n",
            "Enter your authorization code:\n",
            "··········\n",
            "Mounted at /content/drive\n"
          ],
          "name": "stdout"
        }
      ]
    },
    {
      "cell_type": "code",
      "metadata": {
        "id": "m-x0txK1fALy",
        "colab_type": "code",
        "colab": {}
      },
      "source": [
        "#!pip install scikit-plot"
      ],
      "execution_count": 0,
      "outputs": []
    },
    {
      "cell_type": "code",
      "metadata": {
        "id": "bfhMFUFCb8_5",
        "colab_type": "code",
        "outputId": "04ffb50b-89f2-4b6e-ed86-5096ef4bfa48",
        "colab": {
          "base_uri": "https://localhost:8080/",
          "height": 52
        }
      },
      "source": [
        "import numpy as np\n",
        "import pandas as pd\n",
        "import matplotlib.pyplot as plt\n",
        "import seaborn as sns\n",
        "from nltk.corpus import stopwords\n",
        "import nltk\n",
        "nltk.download('stopwords')\n",
        "import time\n",
        "from sklearn.feature_extraction.text import CountVectorizer\n",
        "from sklearn.naive_bayes import MultinomialNB\n",
        "from sklearn.metrics import accuracy_score\n",
        "from sklearn.metrics import classification_report\n",
        "from sklearn.decomposition import TruncatedSVD\n",
        "from sklearn.feature_extraction.text import TfidfVectorizer\n",
        "from sklearn import metrics\n",
        "import scikitplot as skplt\n",
        "import gensim\n",
        "from datetime import timedelta\n",
        "import os\n",
        "from scipy import sparse\n",
        "from prettytable import PrettyTable\n",
        "import re\n",
        "import pickle\n",
        "%matplotlib inline"
      ],
      "execution_count": 0,
      "outputs": [
        {
          "output_type": "stream",
          "text": [
            "[nltk_data] Downloading package stopwords to /root/nltk_data...\n",
            "[nltk_data]   Package stopwords is already up-to-date!\n"
          ],
          "name": "stdout"
        }
      ]
    },
    {
      "cell_type": "code",
      "metadata": {
        "id": "GbSCSBv3cW8p",
        "colab_type": "code",
        "outputId": "50df1863-f917-4d60-f271-dddce651dc60",
        "colab": {
          "base_uri": "https://localhost:8080/",
          "height": 81
        }
      },
      "source": [
        "from keras.preprocessing.text import text_to_word_sequence"
      ],
      "execution_count": 0,
      "outputs": [
        {
          "output_type": "stream",
          "text": [
            "Using TensorFlow backend.\n"
          ],
          "name": "stderr"
        },
        {
          "output_type": "display_data",
          "data": {
            "text/html": [
              "<p style=\"color: red;\">\n",
              "The default version of TensorFlow in Colab will soon switch to TensorFlow 2.x.<br>\n",
              "We recommend you <a href=\"https://www.tensorflow.org/guide/migrate\" target=\"_blank\">upgrade</a> now \n",
              "or ensure your notebook will continue to use TensorFlow 1.x via the <code>%tensorflow_version 1.x</code> magic:\n",
              "<a href=\"https://colab.research.google.com/notebooks/tensorflow_version.ipynb\" target=\"_blank\">more info</a>.</p>\n"
            ],
            "text/plain": [
              "<IPython.core.display.HTML object>"
            ]
          },
          "metadata": {
            "tags": []
          }
        }
      ]
    },
    {
      "cell_type": "markdown",
      "metadata": {
        "id": "aLqMm9dYdEA1",
        "colab_type": "text"
      },
      "source": [
        "## EDA:"
      ]
    },
    {
      "cell_type": "code",
      "metadata": {
        "id": "YPn9klZydDoc",
        "colab_type": "code",
        "colab": {}
      },
      "source": [
        "# changing the directory\n",
        "os.chdir(\"./drive/My Drive/omdena_projects/environmental-conflict-tracker\")"
      ],
      "execution_count": 0,
      "outputs": []
    },
    {
      "cell_type": "code",
      "metadata": {
        "id": "QHIppsHkdB5k",
        "colab_type": "code",
        "outputId": "f59d993b-2cea-4063-aa85-0a709bb49c01",
        "colab": {
          "base_uri": "https://localhost:8080/",
          "height": 176
        }
      },
      "source": [
        "os.listdir('./data')"
      ],
      "execution_count": 0,
      "outputs": [
        {
          "output_type": "execute_result",
          "data": {
            "text/plain": [
              "['gold-standard',\n",
              " 'metadata',\n",
              " 'policy',\n",
              " 'reference',\n",
              " 'texts',\n",
              " 'urls',\n",
              " 'missing_coref.csv',\n",
              " 'wri_102919.csv',\n",
              " 'wri_coref_110319.csv']"
            ]
          },
          "metadata": {
            "tags": []
          },
          "execution_count": 8
        }
      ]
    },
    {
      "cell_type": "code",
      "metadata": {
        "id": "m3if6o0EgAxP",
        "colab_type": "code",
        "colab": {}
      },
      "source": [
        "wri_coref_110319_df = pd.read_csv(\"./data/wri_coref_110319.csv\")\n",
        "wri_gs = pd.read_csv(\"./data/gold-standard/wri.csv\")"
      ],
      "execution_count": 0,
      "outputs": []
    },
    {
      "cell_type": "code",
      "metadata": {
        "id": "zNWjqpH6gpO9",
        "colab_type": "code",
        "outputId": "0a77e8f2-2411-49a6-bc55-dcfbdf8f0b92",
        "colab": {
          "base_uri": "https://localhost:8080/",
          "height": 297
        }
      },
      "source": [
        "wri_coref_110319_df.head()"
      ],
      "execution_count": 0,
      "outputs": [
        {
          "output_type": "execute_result",
          "data": {
            "text/html": [
              "<div>\n",
              "<style scoped>\n",
              "    .dataframe tbody tr th:only-of-type {\n",
              "        vertical-align: middle;\n",
              "    }\n",
              "\n",
              "    .dataframe tbody tr th {\n",
              "        vertical-align: top;\n",
              "    }\n",
              "\n",
              "    .dataframe thead th {\n",
              "        text-align: right;\n",
              "    }\n",
              "</style>\n",
              "<table border=\"1\" class=\"dataframe\">\n",
              "  <thead>\n",
              "    <tr style=\"text-align: right;\">\n",
              "      <th></th>\n",
              "      <th>Unnamed: 0</th>\n",
              "      <th>class</th>\n",
              "      <th>text</th>\n",
              "      <th>text_coref</th>\n",
              "      <th>title</th>\n",
              "    </tr>\n",
              "  </thead>\n",
              "  <tbody>\n",
              "    <tr>\n",
              "      <th>0</th>\n",
              "      <td>0</td>\n",
              "      <td>positive</td>\n",
              "      <td>Andhra Pradesh Chief Minister N Chandrababu Na...</td>\n",
              "      <td>Andhra Pradesh Chief Minister N Chandrababu Na...</td>\n",
              "      <td>Maoists using bauxite mining as pretext to kil...</td>\n",
              "    </tr>\n",
              "    <tr>\n",
              "      <th>1</th>\n",
              "      <td>1</td>\n",
              "      <td>negative</td>\n",
              "      <td>A 24-year-old woman was stabbed to death alleg...</td>\n",
              "      <td>A 24-year-old woman was stabbed to death alleg...</td>\n",
              "      <td>Youth kills woman for rejecting marriage proposal</td>\n",
              "    </tr>\n",
              "    <tr>\n",
              "      <th>2</th>\n",
              "      <td>2</td>\n",
              "      <td>negative</td>\n",
              "      <td>Road construction gathers pace in areas surrou...</td>\n",
              "      <td>Road construction gathers pace in areas surrou...</td>\n",
              "      <td>Road construction gathers pace in areas surrou...</td>\n",
              "    </tr>\n",
              "    <tr>\n",
              "      <th>3</th>\n",
              "      <td>3</td>\n",
              "      <td>negative</td>\n",
              "      <td>Allu Arjun, one of the most crowd-pulling Sout...</td>\n",
              "      <td>Allu Arjun, one of the most crowd-pulling Sout...</td>\n",
              "      <td>Allu Arjun says 'Na Peru Parle Agro'</td>\n",
              "    </tr>\n",
              "    <tr>\n",
              "      <th>4</th>\n",
              "      <td>4</td>\n",
              "      <td>positive</td>\n",
              "      <td>This story is from January 16, 2018\\r\\r\\n\\r\\r\\...</td>\n",
              "      <td>This story is from January 16, 2018\\r\\nBHOPAL:...</td>\n",
              "      <td>In Madhya Pradesh, even the dead talk</td>\n",
              "    </tr>\n",
              "  </tbody>\n",
              "</table>\n",
              "</div>"
            ],
            "text/plain": [
              "   Unnamed: 0  ...                                              title\n",
              "0           0  ...  Maoists using bauxite mining as pretext to kil...\n",
              "1           1  ...  Youth kills woman for rejecting marriage proposal\n",
              "2           2  ...  Road construction gathers pace in areas surrou...\n",
              "3           3  ...               Allu Arjun says 'Na Peru Parle Agro'\n",
              "4           4  ...              In Madhya Pradesh, even the dead talk\n",
              "\n",
              "[5 rows x 5 columns]"
            ]
          },
          "metadata": {
            "tags": []
          },
          "execution_count": 10
        }
      ]
    },
    {
      "cell_type": "code",
      "metadata": {
        "id": "Yzh5TbZHgx5N",
        "colab_type": "code",
        "outputId": "d410f8b9-7736-4969-e48f-075ebe1f03fb",
        "colab": {
          "base_uri": "https://localhost:8080/",
          "height": 197
        }
      },
      "source": [
        "wri_gs.head()"
      ],
      "execution_count": 0,
      "outputs": [
        {
          "output_type": "execute_result",
          "data": {
            "text/html": [
              "<div>\n",
              "<style scoped>\n",
              "    .dataframe tbody tr th:only-of-type {\n",
              "        vertical-align: middle;\n",
              "    }\n",
              "\n",
              "    .dataframe tbody tr th {\n",
              "        vertical-align: top;\n",
              "    }\n",
              "\n",
              "    .dataframe thead th {\n",
              "        text-align: right;\n",
              "    }\n",
              "</style>\n",
              "<table border=\"1\" class=\"dataframe\">\n",
              "  <thead>\n",
              "    <tr style=\"text-align: right;\">\n",
              "      <th></th>\n",
              "      <th>Unnamed: 0</th>\n",
              "      <th>labels</th>\n",
              "      <th>text</th>\n",
              "    </tr>\n",
              "  </thead>\n",
              "  <tbody>\n",
              "    <tr>\n",
              "      <th>0</th>\n",
              "      <td>0</td>\n",
              "      <td>negative</td>\n",
              "      <td>Agartala Tripura India January  ANI Bharatiya ...</td>\n",
              "    </tr>\n",
              "    <tr>\n",
              "      <th>1</th>\n",
              "      <td>1</td>\n",
              "      <td>negative</td>\n",
              "      <td>A civil disobedience is underway in the suprem...</td>\n",
              "    </tr>\n",
              "    <tr>\n",
              "      <th>2</th>\n",
              "      <td>2</td>\n",
              "      <td>negative</td>\n",
              "      <td>By Lalit K JhaWashington Jan  PTI The Trump ad...</td>\n",
              "    </tr>\n",
              "    <tr>\n",
              "      <th>3</th>\n",
              "      <td>3</td>\n",
              "      <td>positive</td>\n",
              "      <td>Rashtriya Swayamsevak Sangh chief Mohan Bhagwa...</td>\n",
              "    </tr>\n",
              "    <tr>\n",
              "      <th>4</th>\n",
              "      <td>4</td>\n",
              "      <td>negative</td>\n",
              "      <td>New Delhi Jan  PTI A yearold doctor hailing fr...</td>\n",
              "    </tr>\n",
              "  </tbody>\n",
              "</table>\n",
              "</div>"
            ],
            "text/plain": [
              "   Unnamed: 0    labels                                               text\n",
              "0           0  negative  Agartala Tripura India January  ANI Bharatiya ...\n",
              "1           1  negative  A civil disobedience is underway in the suprem...\n",
              "2           2  negative  By Lalit K JhaWashington Jan  PTI The Trump ad...\n",
              "3           3  positive  Rashtriya Swayamsevak Sangh chief Mohan Bhagwa...\n",
              "4           4  negative  New Delhi Jan  PTI A yearold doctor hailing fr..."
            ]
          },
          "metadata": {
            "tags": []
          },
          "execution_count": 11
        }
      ]
    },
    {
      "cell_type": "code",
      "metadata": {
        "id": "DowfxEEsg1PR",
        "colab_type": "code",
        "colab": {}
      },
      "source": [
        "wri_gs = wri_gs.rename(columns={\"labels\":\"class\"})"
      ],
      "execution_count": 0,
      "outputs": []
    },
    {
      "cell_type": "code",
      "metadata": {
        "id": "2R7VZN-FifXd",
        "colab_type": "code",
        "outputId": "c8690677-26a4-4d0d-b2be-2b23090b3817",
        "colab": {
          "base_uri": "https://localhost:8080/",
          "height": 197
        }
      },
      "source": [
        "wri_gs.head()"
      ],
      "execution_count": 0,
      "outputs": [
        {
          "output_type": "execute_result",
          "data": {
            "text/html": [
              "<div>\n",
              "<style scoped>\n",
              "    .dataframe tbody tr th:only-of-type {\n",
              "        vertical-align: middle;\n",
              "    }\n",
              "\n",
              "    .dataframe tbody tr th {\n",
              "        vertical-align: top;\n",
              "    }\n",
              "\n",
              "    .dataframe thead th {\n",
              "        text-align: right;\n",
              "    }\n",
              "</style>\n",
              "<table border=\"1\" class=\"dataframe\">\n",
              "  <thead>\n",
              "    <tr style=\"text-align: right;\">\n",
              "      <th></th>\n",
              "      <th>Unnamed: 0</th>\n",
              "      <th>class</th>\n",
              "      <th>text</th>\n",
              "    </tr>\n",
              "  </thead>\n",
              "  <tbody>\n",
              "    <tr>\n",
              "      <th>0</th>\n",
              "      <td>0</td>\n",
              "      <td>negative</td>\n",
              "      <td>Agartala Tripura India January  ANI Bharatiya ...</td>\n",
              "    </tr>\n",
              "    <tr>\n",
              "      <th>1</th>\n",
              "      <td>1</td>\n",
              "      <td>negative</td>\n",
              "      <td>A civil disobedience is underway in the suprem...</td>\n",
              "    </tr>\n",
              "    <tr>\n",
              "      <th>2</th>\n",
              "      <td>2</td>\n",
              "      <td>negative</td>\n",
              "      <td>By Lalit K JhaWashington Jan  PTI The Trump ad...</td>\n",
              "    </tr>\n",
              "    <tr>\n",
              "      <th>3</th>\n",
              "      <td>3</td>\n",
              "      <td>positive</td>\n",
              "      <td>Rashtriya Swayamsevak Sangh chief Mohan Bhagwa...</td>\n",
              "    </tr>\n",
              "    <tr>\n",
              "      <th>4</th>\n",
              "      <td>4</td>\n",
              "      <td>negative</td>\n",
              "      <td>New Delhi Jan  PTI A yearold doctor hailing fr...</td>\n",
              "    </tr>\n",
              "  </tbody>\n",
              "</table>\n",
              "</div>"
            ],
            "text/plain": [
              "   Unnamed: 0     class                                               text\n",
              "0           0  negative  Agartala Tripura India January  ANI Bharatiya ...\n",
              "1           1  negative  A civil disobedience is underway in the suprem...\n",
              "2           2  negative  By Lalit K JhaWashington Jan  PTI The Trump ad...\n",
              "3           3  positive  Rashtriya Swayamsevak Sangh chief Mohan Bhagwa...\n",
              "4           4  negative  New Delhi Jan  PTI A yearold doctor hailing fr..."
            ]
          },
          "metadata": {
            "tags": []
          },
          "execution_count": 13
        }
      ]
    },
    {
      "cell_type": "code",
      "metadata": {
        "id": "p6f_7robig1N",
        "colab_type": "code",
        "colab": {}
      },
      "source": [
        "wri_gs = wri_gs.drop(['Unnamed: 0'], axis=1)"
      ],
      "execution_count": 0,
      "outputs": []
    },
    {
      "cell_type": "code",
      "metadata": {
        "id": "4Z2zsEPWi454",
        "colab_type": "code",
        "outputId": "4aa2b4c2-998b-4768-9b53-ff5bc231311d",
        "colab": {
          "base_uri": "https://localhost:8080/",
          "height": 197
        }
      },
      "source": [
        "wri_gs.head()"
      ],
      "execution_count": 0,
      "outputs": [
        {
          "output_type": "execute_result",
          "data": {
            "text/html": [
              "<div>\n",
              "<style scoped>\n",
              "    .dataframe tbody tr th:only-of-type {\n",
              "        vertical-align: middle;\n",
              "    }\n",
              "\n",
              "    .dataframe tbody tr th {\n",
              "        vertical-align: top;\n",
              "    }\n",
              "\n",
              "    .dataframe thead th {\n",
              "        text-align: right;\n",
              "    }\n",
              "</style>\n",
              "<table border=\"1\" class=\"dataframe\">\n",
              "  <thead>\n",
              "    <tr style=\"text-align: right;\">\n",
              "      <th></th>\n",
              "      <th>class</th>\n",
              "      <th>text</th>\n",
              "    </tr>\n",
              "  </thead>\n",
              "  <tbody>\n",
              "    <tr>\n",
              "      <th>0</th>\n",
              "      <td>negative</td>\n",
              "      <td>Agartala Tripura India January  ANI Bharatiya ...</td>\n",
              "    </tr>\n",
              "    <tr>\n",
              "      <th>1</th>\n",
              "      <td>negative</td>\n",
              "      <td>A civil disobedience is underway in the suprem...</td>\n",
              "    </tr>\n",
              "    <tr>\n",
              "      <th>2</th>\n",
              "      <td>negative</td>\n",
              "      <td>By Lalit K JhaWashington Jan  PTI The Trump ad...</td>\n",
              "    </tr>\n",
              "    <tr>\n",
              "      <th>3</th>\n",
              "      <td>positive</td>\n",
              "      <td>Rashtriya Swayamsevak Sangh chief Mohan Bhagwa...</td>\n",
              "    </tr>\n",
              "    <tr>\n",
              "      <th>4</th>\n",
              "      <td>negative</td>\n",
              "      <td>New Delhi Jan  PTI A yearold doctor hailing fr...</td>\n",
              "    </tr>\n",
              "  </tbody>\n",
              "</table>\n",
              "</div>"
            ],
            "text/plain": [
              "      class                                               text\n",
              "0  negative  Agartala Tripura India January  ANI Bharatiya ...\n",
              "1  negative  A civil disobedience is underway in the suprem...\n",
              "2  negative  By Lalit K JhaWashington Jan  PTI The Trump ad...\n",
              "3  positive  Rashtriya Swayamsevak Sangh chief Mohan Bhagwa...\n",
              "4  negative  New Delhi Jan  PTI A yearold doctor hailing fr..."
            ]
          },
          "metadata": {
            "tags": []
          },
          "execution_count": 15
        }
      ]
    },
    {
      "cell_type": "code",
      "metadata": {
        "id": "3yZDnjs0i6Us",
        "colab_type": "code",
        "colab": {}
      },
      "source": [
        "wri_coref = wri_coref_110319_df[['class','text']]"
      ],
      "execution_count": 0,
      "outputs": []
    },
    {
      "cell_type": "code",
      "metadata": {
        "id": "mZdMQQf0jHXX",
        "colab_type": "code",
        "outputId": "cd45ef71-11a3-452e-dc67-75cc79c7ef31",
        "colab": {
          "base_uri": "https://localhost:8080/",
          "height": 197
        }
      },
      "source": [
        "wri_coref.head()"
      ],
      "execution_count": 0,
      "outputs": [
        {
          "output_type": "execute_result",
          "data": {
            "text/html": [
              "<div>\n",
              "<style scoped>\n",
              "    .dataframe tbody tr th:only-of-type {\n",
              "        vertical-align: middle;\n",
              "    }\n",
              "\n",
              "    .dataframe tbody tr th {\n",
              "        vertical-align: top;\n",
              "    }\n",
              "\n",
              "    .dataframe thead th {\n",
              "        text-align: right;\n",
              "    }\n",
              "</style>\n",
              "<table border=\"1\" class=\"dataframe\">\n",
              "  <thead>\n",
              "    <tr style=\"text-align: right;\">\n",
              "      <th></th>\n",
              "      <th>class</th>\n",
              "      <th>text</th>\n",
              "    </tr>\n",
              "  </thead>\n",
              "  <tbody>\n",
              "    <tr>\n",
              "      <th>0</th>\n",
              "      <td>positive</td>\n",
              "      <td>Andhra Pradesh Chief Minister N Chandrababu Na...</td>\n",
              "    </tr>\n",
              "    <tr>\n",
              "      <th>1</th>\n",
              "      <td>negative</td>\n",
              "      <td>A 24-year-old woman was stabbed to death alleg...</td>\n",
              "    </tr>\n",
              "    <tr>\n",
              "      <th>2</th>\n",
              "      <td>negative</td>\n",
              "      <td>Road construction gathers pace in areas surrou...</td>\n",
              "    </tr>\n",
              "    <tr>\n",
              "      <th>3</th>\n",
              "      <td>negative</td>\n",
              "      <td>Allu Arjun, one of the most crowd-pulling Sout...</td>\n",
              "    </tr>\n",
              "    <tr>\n",
              "      <th>4</th>\n",
              "      <td>positive</td>\n",
              "      <td>This story is from January 16, 2018\\r\\r\\n\\r\\r\\...</td>\n",
              "    </tr>\n",
              "  </tbody>\n",
              "</table>\n",
              "</div>"
            ],
            "text/plain": [
              "      class                                               text\n",
              "0  positive  Andhra Pradesh Chief Minister N Chandrababu Na...\n",
              "1  negative  A 24-year-old woman was stabbed to death alleg...\n",
              "2  negative  Road construction gathers pace in areas surrou...\n",
              "3  negative  Allu Arjun, one of the most crowd-pulling Sout...\n",
              "4  positive  This story is from January 16, 2018\\r\\r\\n\\r\\r\\..."
            ]
          },
          "metadata": {
            "tags": []
          },
          "execution_count": 17
        }
      ]
    },
    {
      "cell_type": "code",
      "metadata": {
        "id": "zqa-w-Z7jJ-2",
        "colab_type": "code",
        "colab": {}
      },
      "source": [
        "final_df = wri_gs.append(wri_coref, ignore_index=True)"
      ],
      "execution_count": 0,
      "outputs": []
    },
    {
      "cell_type": "code",
      "metadata": {
        "id": "2sfPabBqjnLQ",
        "colab_type": "code",
        "outputId": "504df3b5-f096-413c-cd8c-01b90d5757c4",
        "colab": {
          "base_uri": "https://localhost:8080/",
          "height": 197
        }
      },
      "source": [
        "final_df.head()"
      ],
      "execution_count": 0,
      "outputs": [
        {
          "output_type": "execute_result",
          "data": {
            "text/html": [
              "<div>\n",
              "<style scoped>\n",
              "    .dataframe tbody tr th:only-of-type {\n",
              "        vertical-align: middle;\n",
              "    }\n",
              "\n",
              "    .dataframe tbody tr th {\n",
              "        vertical-align: top;\n",
              "    }\n",
              "\n",
              "    .dataframe thead th {\n",
              "        text-align: right;\n",
              "    }\n",
              "</style>\n",
              "<table border=\"1\" class=\"dataframe\">\n",
              "  <thead>\n",
              "    <tr style=\"text-align: right;\">\n",
              "      <th></th>\n",
              "      <th>class</th>\n",
              "      <th>text</th>\n",
              "    </tr>\n",
              "  </thead>\n",
              "  <tbody>\n",
              "    <tr>\n",
              "      <th>0</th>\n",
              "      <td>negative</td>\n",
              "      <td>Agartala Tripura India January  ANI Bharatiya ...</td>\n",
              "    </tr>\n",
              "    <tr>\n",
              "      <th>1</th>\n",
              "      <td>negative</td>\n",
              "      <td>A civil disobedience is underway in the suprem...</td>\n",
              "    </tr>\n",
              "    <tr>\n",
              "      <th>2</th>\n",
              "      <td>negative</td>\n",
              "      <td>By Lalit K JhaWashington Jan  PTI The Trump ad...</td>\n",
              "    </tr>\n",
              "    <tr>\n",
              "      <th>3</th>\n",
              "      <td>positive</td>\n",
              "      <td>Rashtriya Swayamsevak Sangh chief Mohan Bhagwa...</td>\n",
              "    </tr>\n",
              "    <tr>\n",
              "      <th>4</th>\n",
              "      <td>negative</td>\n",
              "      <td>New Delhi Jan  PTI A yearold doctor hailing fr...</td>\n",
              "    </tr>\n",
              "  </tbody>\n",
              "</table>\n",
              "</div>"
            ],
            "text/plain": [
              "      class                                               text\n",
              "0  negative  Agartala Tripura India January  ANI Bharatiya ...\n",
              "1  negative  A civil disobedience is underway in the suprem...\n",
              "2  negative  By Lalit K JhaWashington Jan  PTI The Trump ad...\n",
              "3  positive  Rashtriya Swayamsevak Sangh chief Mohan Bhagwa...\n",
              "4  negative  New Delhi Jan  PTI A yearold doctor hailing fr..."
            ]
          },
          "metadata": {
            "tags": []
          },
          "execution_count": 19
        }
      ]
    },
    {
      "cell_type": "code",
      "metadata": {
        "id": "Bu0ULv8cpsVa",
        "colab_type": "code",
        "colab": {}
      },
      "source": [
        "final_df.to_csv(\"final_wri_gs_df.csv\", index=False)"
      ],
      "execution_count": 0,
      "outputs": []
    },
    {
      "cell_type": "code",
      "metadata": {
        "id": "Ruzk-Vtajpac",
        "colab_type": "code",
        "outputId": "4c5d7e77-ee9d-4430-da31-13378aaf5329",
        "colab": {
          "base_uri": "https://localhost:8080/",
          "height": 34
        }
      },
      "source": [
        "final_df.shape"
      ],
      "execution_count": 0,
      "outputs": [
        {
          "output_type": "execute_result",
          "data": {
            "text/plain": [
              "(3503, 2)"
            ]
          },
          "metadata": {
            "tags": []
          },
          "execution_count": 20
        }
      ]
    },
    {
      "cell_type": "code",
      "metadata": {
        "id": "oA5LkPSljrWP",
        "colab_type": "code",
        "outputId": "cde49752-a1ea-4dfe-f7ae-ef9b7a43b7a7",
        "colab": {
          "base_uri": "https://localhost:8080/",
          "height": 34
        }
      },
      "source": [
        "wri_gs.shape[0] + wri_coref.shape[0]"
      ],
      "execution_count": 0,
      "outputs": [
        {
          "output_type": "execute_result",
          "data": {
            "text/plain": [
              "3503"
            ]
          },
          "metadata": {
            "tags": []
          },
          "execution_count": 21
        }
      ]
    },
    {
      "cell_type": "code",
      "metadata": {
        "id": "AK8yH-1R6MNE",
        "colab_type": "code",
        "outputId": "38f46b62-7f4d-4cf9-f58b-ddd54940312e",
        "colab": {
          "base_uri": "https://localhost:8080/",
          "height": 34
        }
      },
      "source": [
        "final_df['class'].unique()"
      ],
      "execution_count": 0,
      "outputs": [
        {
          "output_type": "execute_result",
          "data": {
            "text/plain": [
              "array(['negative', 'positive'], dtype=object)"
            ]
          },
          "metadata": {
            "tags": []
          },
          "execution_count": 22
        }
      ]
    },
    {
      "cell_type": "code",
      "metadata": {
        "id": "PVa9t5mcjyQk",
        "colab_type": "code",
        "outputId": "eda9eb2f-d75f-4d0a-ac9a-2504ccbce55e",
        "colab": {
          "base_uri": "https://localhost:8080/",
          "height": 406
        }
      },
      "source": [
        "# seeing the duplicate rows \n",
        "final_df[final_df.duplicated(keep=False)]"
      ],
      "execution_count": 0,
      "outputs": [
        {
          "output_type": "execute_result",
          "data": {
            "text/html": [
              "<div>\n",
              "<style scoped>\n",
              "    .dataframe tbody tr th:only-of-type {\n",
              "        vertical-align: middle;\n",
              "    }\n",
              "\n",
              "    .dataframe tbody tr th {\n",
              "        vertical-align: top;\n",
              "    }\n",
              "\n",
              "    .dataframe thead th {\n",
              "        text-align: right;\n",
              "    }\n",
              "</style>\n",
              "<table border=\"1\" class=\"dataframe\">\n",
              "  <thead>\n",
              "    <tr style=\"text-align: right;\">\n",
              "      <th></th>\n",
              "      <th>class</th>\n",
              "      <th>text</th>\n",
              "    </tr>\n",
              "  </thead>\n",
              "  <tbody>\n",
              "    <tr>\n",
              "      <th>1514</th>\n",
              "      <td>positive</td>\n",
              "      <td>Elephants are used by armed forest rangers who...</td>\n",
              "    </tr>\n",
              "    <tr>\n",
              "      <th>1596</th>\n",
              "      <td>positive</td>\n",
              "      <td>Elephants are used by armed forest rangers who...</td>\n",
              "    </tr>\n",
              "    <tr>\n",
              "      <th>1724</th>\n",
              "      <td>negative</td>\n",
              "      <td>Road construction gathers pace in areas surrou...</td>\n",
              "    </tr>\n",
              "    <tr>\n",
              "      <th>1730</th>\n",
              "      <td>negative</td>\n",
              "      <td>Brasilia: Nine inmates have been killed and th...</td>\n",
              "    </tr>\n",
              "    <tr>\n",
              "      <th>1736</th>\n",
              "      <td>negative</td>\n",
              "      <td>This story is from January 18, 2018\\r\\r\\r\\nJAI...</td>\n",
              "    </tr>\n",
              "    <tr>\n",
              "      <th>...</th>\n",
              "      <td>...</td>\n",
              "      <td>...</td>\n",
              "    </tr>\n",
              "    <tr>\n",
              "      <th>3492</th>\n",
              "      <td>negative</td>\n",
              "      <td>A minor rape survivor, unhappy over alleged po...</td>\n",
              "    </tr>\n",
              "    <tr>\n",
              "      <th>3496</th>\n",
              "      <td>negative</td>\n",
              "      <td>January 30, 2018 12:01 IST\\r\\r\\r\\nChief minist...</td>\n",
              "    </tr>\n",
              "    <tr>\n",
              "      <th>3499</th>\n",
              "      <td>positive</td>\n",
              "      <td>Chinese troops intrude into Arunachal with roa...</td>\n",
              "    </tr>\n",
              "    <tr>\n",
              "      <th>3500</th>\n",
              "      <td>negative</td>\n",
              "      <td>Kochi: The BJP in Kerala on Saturday pressed f...</td>\n",
              "    </tr>\n",
              "    <tr>\n",
              "      <th>3501</th>\n",
              "      <td>negative</td>\n",
              "      <td>Pakistan Army today said it lost four of its s...</td>\n",
              "    </tr>\n",
              "  </tbody>\n",
              "</table>\n",
              "<p>529 rows × 2 columns</p>\n",
              "</div>"
            ],
            "text/plain": [
              "         class                                               text\n",
              "1514  positive  Elephants are used by armed forest rangers who...\n",
              "1596  positive  Elephants are used by armed forest rangers who...\n",
              "1724  negative  Road construction gathers pace in areas surrou...\n",
              "1730  negative  Brasilia: Nine inmates have been killed and th...\n",
              "1736  negative  This story is from January 18, 2018\\r\\r\\r\\nJAI...\n",
              "...        ...                                                ...\n",
              "3492  negative  A minor rape survivor, unhappy over alleged po...\n",
              "3496  negative  January 30, 2018 12:01 IST\\r\\r\\r\\nChief minist...\n",
              "3499  positive  Chinese troops intrude into Arunachal with roa...\n",
              "3500  negative  Kochi: The BJP in Kerala on Saturday pressed f...\n",
              "3501  negative  Pakistan Army today said it lost four of its s...\n",
              "\n",
              "[529 rows x 2 columns]"
            ]
          },
          "metadata": {
            "tags": []
          },
          "execution_count": 23
        }
      ]
    },
    {
      "cell_type": "code",
      "metadata": {
        "id": "pKqYx9yWlXpX",
        "colab_type": "code",
        "outputId": "66d754da-53c2-457a-92a6-fddaf34af481",
        "colab": {
          "base_uri": "https://localhost:8080/",
          "height": 34
        }
      },
      "source": [
        "# lets drop the duplicated ones\n",
        "final_df = final_df.drop_duplicates()\n",
        "final_df.shape"
      ],
      "execution_count": 0,
      "outputs": [
        {
          "output_type": "execute_result",
          "data": {
            "text/plain": [
              "(3142, 2)"
            ]
          },
          "metadata": {
            "tags": []
          },
          "execution_count": 24
        }
      ]
    },
    {
      "cell_type": "code",
      "metadata": {
        "id": "cvHpWvevldvV",
        "colab_type": "code",
        "outputId": "c3b053eb-b50a-4aca-a2ee-416d5efdb1ec",
        "colab": {
          "base_uri": "https://localhost:8080/",
          "height": 47
        }
      },
      "source": [
        "# lets see whether all the duplicated rows are deleted\n",
        "final_df[final_df.duplicated(keep=False)]"
      ],
      "execution_count": 0,
      "outputs": [
        {
          "output_type": "execute_result",
          "data": {
            "text/html": [
              "<div>\n",
              "<style scoped>\n",
              "    .dataframe tbody tr th:only-of-type {\n",
              "        vertical-align: middle;\n",
              "    }\n",
              "\n",
              "    .dataframe tbody tr th {\n",
              "        vertical-align: top;\n",
              "    }\n",
              "\n",
              "    .dataframe thead th {\n",
              "        text-align: right;\n",
              "    }\n",
              "</style>\n",
              "<table border=\"1\" class=\"dataframe\">\n",
              "  <thead>\n",
              "    <tr style=\"text-align: right;\">\n",
              "      <th></th>\n",
              "      <th>class</th>\n",
              "      <th>text</th>\n",
              "    </tr>\n",
              "  </thead>\n",
              "  <tbody>\n",
              "  </tbody>\n",
              "</table>\n",
              "</div>"
            ],
            "text/plain": [
              "Empty DataFrame\n",
              "Columns: [class, text]\n",
              "Index: []"
            ]
          },
          "metadata": {
            "tags": []
          },
          "execution_count": 25
        }
      ]
    },
    {
      "cell_type": "markdown",
      "metadata": {
        "id": "ANx6VJFyl2rH",
        "colab_type": "text"
      },
      "source": [
        "* So all the duplicated rows are deleted."
      ]
    },
    {
      "cell_type": "markdown",
      "metadata": {
        "id": "T3EkLDYIl89b",
        "colab_type": "text"
      },
      "source": [
        "## Vectorization:"
      ]
    },
    {
      "cell_type": "code",
      "metadata": {
        "id": "hbVv7wm-lzdW",
        "colab_type": "code",
        "outputId": "f058c499-c389-44fc-b828-73110fda7b54",
        "colab": {
          "base_uri": "https://localhost:8080/",
          "height": 161
        }
      },
      "source": [
        "for sent in final_df['text'].values[:50]:\n",
        "    if len(re.findall('[?|!|\\'|\"|#]', sent)):\n",
        "        print(sent)"
      ],
      "execution_count": 0,
      "outputs": [
        {
          "output_type": "stream",
          "text": [
            "A civil disobedience is underway in the supreme court of India. It’s unique The custodians of power are disobeying praying to the people’s court. It has flashed a rare spotlight on the court’s inner workings—for a dismayed people to see study and summate.Ordinarily judges shun the media speak only in court to lawyers and litigants and through their decisions. Not this time. Four senior judges abandoned the honoured code; they went public. What they alleged reveals disquiet in the office of the chief justice.This act will haunt India. It exposes divisions among judges doubts the practice of impartial justice and diminishes the court. Something is rotten; it needs a prompt incision. Else the decay may infect the democratic way of life we take for granted.The letter the said the unsaidIt all began with an undated letter. Jasti Chelameswar Ranjan Gogoi Madan Lokur and Kurian Joseph India’s four seniormost judges wrote to the only person senior to them chief justice Dipak Misra. They conveyed two things a grievance and an allegation.The grievance The supreme court formally has  judges. Usually they sit in pairs. The chief justice is empowered to design these benches and assign cases to them. That power is a limited one—conventions govern these allocations. He can’t act arbitrarily. But chief justices occasionally have done exactly that the judges claimed. They posted selected cases to “preferred benches.” This must be guarded against the letter underlined.Once upon a time lawyers used to hunt for sympathetic benches. If these judges are right chief justices do it now. It’s a depressing prospect.What do judges decide cases based upon—the law or something else?The allegation In October  five judges declared the National Judicial Appointments Commission an executiveled process of judicial appointments invalid. So India reverted to its judiciaryled collegium system of appointing judges. But some kinks needed ironing out. The collegium proposed a Memorandum of Procedure MoP. The Modi government has sat on it for almost a year. Its silence should have meant acceptance the judges reminded the chief justice. Instead in October  two judges held out a different impression that the MoP remains a draft and that the government may still propose alternative procedures. This went against what the larger five judgesbench had held the letter pointed out.Was the October  order an indirect nod to the Modi government to smuggle in its preferences regarding the MoP? One is left to wonder.Buried unsaid in this missive is a troubling idea What do judges decide cases based upon—the law or something else? Bench hunting the practice alleged here makes sense only if judges are swayed by reasons other than the law. Why else have preferred benches if the chief justice really does? Why else suggest as the letter does that preferred benches impair the court’s integrity?Performing the letterThe supreme court is a polyvocal body. Benches of two three five or more decide thousands of cases each year. They routinely disagree. Differences among them aren’t new or newsworthy.But this wasn’t an ordinary disagreement. It spoke to a core issue How should the court be run? Also the protestors didn’t just object in writing; they went public. Why?Nothing had changed they said. Attempts to make the chief justice see light failed. Questions remained.Justice Chelameswar spoke at the presser mostly. He stressed the need for equanimity and impartial judges and obliquely turned to history.“Twenty years hence wise men shouldn’t say we the seniormost judges sold our souls” he said. “We don’t want this to be said. So we place it before the people of this country. Please take care of the institution.”The last time wise men said this about judges India had an Emergency a constitutional takeover by the executive. Has an undeclared Emergency gripped India?A short Q&A with reporters followed. A few questions elicited cryptic replies. Others earned none.“Should the chief justice be impeached?” “Let the nation decide”.“Is the executive interfering with the judiciary?” “What if no remedial steps are taken?” Silence.What the judges said almost said and didn’t say is nothing short of a coup—a public call to mutiny against the chief justice of India. The supreme court shall pay for this; India shall pay more.Institutional costsAll systems face crises. But wellgoverned ones respond better. Settled norms help weather them. They project a stainless front; the scars stay closeted. It’s a mask—a handy one.The court’s mask has slipped. Its underbelly is on ugly parade. And three things are clear.One the quartet felt forlorn. It had exhausted its options. Existing norms offered no further avenues. A public address was the only way out. Clearly the court has fewer norms than it needs to fix discords. It needs a fatter rulebook.Pitching to the public is a breach.Two these judges had grave concerns too grave to neglect. But they must have known The unwritten code demands reticence. Pitching to the public is a breach. Still they persisted. What was the issue? The letter and its recital point to partiality—in assigning cases and deciding them.Three fairness induces faith in a judicial system. Courts must be fair and appear so. Charges of partiality come and go. But this one is unique. Sitting senior judges have alleged unfairness. Can the people any longer trust what the court says?And what of institutional balance? Consider this. The supreme court had a majestic run for nearly  years unmatched authority trust and respect. But that was also the era of rickety governments. Now India has a tough executive—a first in  years. And some judges are reduced to pleading helplessness in public.Just fortuity? Or a flavour of the timeless tussle between the executive and the judiciary? Is a simultaneously strong executive and a strong judiciary possible? Or are we forever locked into a seesaw battle one must be down when the other is up? This matters.The executive in India—the government—is the biggest litigant. Only impartial judges can hold it to account. A frail judiciary a compromised one can’t do it. A powerful government may muscle in laws and policies. Remedies against excesses will dry up. Can democracy still flourish?Waiting for sunshineWhat now?One in a bind. That’s how chief justice Misra must feel. Attending to the complaints reneging on recent decisions would paint the protesting judges in the right. It would cement the idea of a partial court. But inactivity risks more revelations. The letter in closing hints at that.Two the quartet must feel the heat too. It made an unprecedented move. It has gambled its honour. What if nothing changes—if no remedial actions happen? Democracy is under threat it had alleged. Can it carry on as if nothing happened?Justice Gogoi later reportedly said “There is no crisis.” Another member Justice Joseph said “The matter has been settled.” How? When? By whom? The hasty reversal doesn’t bode well.Reports tell a meeting of the full court that brings all sitting judges together may happen. What will it decide?Perhaps something to both sides? The chief justice and his complainants can move on with honour. The court can pretend its mask is back on. But the truth will die. What of the performance? What of the issues?Three is this a precedent? Will discord play out in public again? Justice Joseph thinks not “Such actions would not occur in future.” Why?Remember last time a sitting judge convened a media on his lawns India laughed it off as the rantings of a mad man. Of course the two aren’t the same. He was a high court judge these are four senior supreme court judges. Still. We must ask When is a breach of this scale justified? Other judges high and low deserve to know.Four should other bodies read a precedent in this? Former finance minister of India Yashwant Sinha has asked ministers in the Modi government to summon similar courage. “They must get rid of their fear and speak up” he said. If they do the prime minister will sack them. Cabinet form of government has an established protocol. What of agencies beyond political control? Should they speak up if dissent brews?Discipline above all else is a foolish insistence.Discipline above all else is a foolish insistence. But consistency? This performance invites a deeper analysis. What is institutional loyalty? When is it owed? When not?This civil disobedience—a rare statement of moral courage—is welcome. It has bared a practice many whispered but never articulated. Now some judges have. A few retired ones have joined in too. An open letter to the chief justice urges a new orderly system of case assignment. This reform must happen. The power to assign cases effectively is the power to decide them; it can’t rest in just one person.A big break from tradition demands big changes. If things stay the same the protesters the court and the system will lose credibility. No one again will have reason to believe the supreme court and its idea of impartial justice. It mustn’t come to that.We welcome your comments at ideas.indiaqz.com.\n",
            "Rashtriya Swayamsevak Sangh chief Mohan Bhagwat today stressed the need to foster social harmony and called for banishing discord in society his comments coming in wake of violent protests by Dalits in Maharashtra. PTIRashtriya Swayamsevak Sangh chief Mohan Bhagwat today stressed the need to foster social harmony and called for banishing discord in society his comments coming in wake of violent protests by Dalits in Maharashtra. He said India was more than just a piece of land and asked people to shun discrimination and treat all citizens equally. “While worshipping the ‘motherland’ we have to consider the entire society as ours. We should be free from barriers of ‘ours versus theirs’ and ‘big versus small’ and treat everyone the same” Bhagwat said addressing a gathering here after unveiling a feet statue of ‘Bharat Mata’ this evening. Bhagwat’s remarks came after violence in Maharashtra during the anniversary of the BhimaKoregaon battle in Pune district brought to fore the simmering caste tension and triggered protests by Dalits. Appealing to all Indians to live in harmony Bhagwat said “Where there are cordial ties there is no ego.”“India is not just a piece of land. There are people who say it is just a piece of land and keep doing something. Such people are neither our brothers and sisters nor the offsprings of ‘Bharat Mata’” the RSS chief said. “We should rid ourselves of discrimination and treat all equally” he said.Bhagwat said Dravida Munnetra Kazhagam founder C N Annadurai once considered Tamil Nadu as a “separate country” which had “nothing to do” with India. However when China attacked India in  Annadurai changed his stand and opined that when the country is in danger to advocate separatism would be to give way to the foreigner he said. “Who taught this to Annadurai? It is the soil of India which has sowed seed of patriotism in every citizen” Bhagwat said. Touching upon the RSS’ undivided India Akhand Bharat concept he said “We should always worship the undivided image of Mother India.” Bhagwat said the Indian ethos is rooted in the idea of ‘Vasudhaiva Kutumbakam’ the world is one family’. “We consider the world as one family. We find God in ourselves and everywhere. Indian ideology is based on this concept” the RSS leader maintained. Violence erupted in Pune district when Dalit groups were celebrating the bicentenary of the BhimaKoregaon battle in which the forces of the British East India Company defeated the Peshwa’s army. Rightwing groups have been blamed for the clashes which left one person dead. Dalit leaders commemorate the British victory as it is believed that soldiers from the Mahar Dalit community were part of the East India Company’s forces. The Peshwas were Brahmins and the victory is seen as a symbol of Dalit assertiveness.\n",
            "Trump Tower Delhi NCR National Capital Region is the latest luxury property in India being built in cooperation with the Trump Organization. Planned to begin construction in March the two foot meter buildings will feature  luxury residences with the priciest condos going for more than . million €. million each.Located in Gurgaon on the outskirts of New Delhi the project is being built by Indian property developers MM India and Tribeca Development. Promotional materials promise a Trump address as having power privilege and prestige.According to reports in the Indian media the promoters also promise the first  buyers a trip to the United States for a meeting with President Donald Trumps son Donald Trump Jr.An initial  buyers will fly to the US where Donald Trump Jr. will host them MM India Director Pankaj Bansal told Indian news agency Press Trust India PTI.Ethics groups in the US say the promotion crossed a red line with foreign business interests being offered direct access to the first family in exchange for a milliondollar property investment. There is concern that investors could potentially use Trump Jr. as a conduit of influence to his father.President Trump is inextricably linked to his business empire  it has his name on it his sons run it and he continues to profit off of it said Jordan Libowitz communications director at Citizens for Responsibility and Ethics in Washington CREW an ethics watchdog group.There is concern that investors could potentially use Trump Jr. as a conduit of influence to his fatherIf someone wished to influence the president the easiest way may be to get the ear of his son Libowitz told DW. There should be no link between the presidents policy decisions and his bank account but unless he divests we cannot know for sure that is happening here.Presidency for sale?After becoming president Trump said that no new deals would be done during his time in office and in January  announced he was turning over control of the Trump Organization to his sons Eric Trump and Donald Trump Jr. Critics have said that Trump placing control of his business with his children does not do enough to separate his interests as president from that of the Trump business.Trump also stopped short of completely divesting from Trump Organization assets. Before he was inaugurated US ethics officials recommended that Trump place all of his assets in a blind trust  a mechanism used to avoid conflicts of interest in which the owner doesnt receive information on how the money is being used.Trumps refusal to divest from his business and the fact that he continues to directly profit from it through his revocable trust will continue to create conflicts of interest and give the appearance of a presidency for sale Carolyn Kenny an analyst at the Washingtonbased policy institute Center for American Progress told DW.Read more Trump village in India wants toilets and a cleaner futureA big name in IndiaIndia is currently home to more Trumpbranded properties than anywhere outside of North America.The Delhi NCR project in Gurgaon is his fifth property in India and according to Tribeca the largest to date in terms of square feet.In Mumbai a storey luxury apartment Trump tower is currently under construction. In Kolkata a story residential project is also underway. In Pune a city to the southeast of Mumbai a twintower luxury residential complex has been completed. And a Trumpbranded commercial development is being constructed in Gurgaon.However the Trump Organization has not invested equity directly in any Indian realty and does not own the properties. Instead it lends the brand name Trump to developers under a license agreement. According to CNN Money the Trump brand draws much higher prices than similar luxury properties in India. And the name alone can generate millions of dollars in licensing fees.Watch video  Share Trump one year in office Send Facebook google+ Whatsapp Tumblr linkedin stumble Digg reddit Newsvine Permalink httpsp.dw.comprYk Trump one year in officeFinancial filings obtained by the Washington Post indicate that Trump brand licensing in India has brought in payments to the Trump Organization ranging between . million and  million since . Kalpesh Mehta founder of Tribeca who introduced the Trump brand to India told the Indian television channel NDTV that the Trump brand had great recall in the north Indian market and with buyers.I think it is very difficult for any Trump property not to be seen as a piece of the presidency said Kenney. This can be seen quite starkly in this case where the Trump Organizations Indian business partners are offering access to the first family as part of their marketing and sales strategy.Kenney added that Trump and his family have blurred the lines between the Trump business and the Trump administration such as by having official presidential visits at Trump properties and advertising Trump properties through official government channels.Business as usualTrumps foreign real estate interests have continuously generated controversy since he was elected president in November .A few weeks after being elected Trump met with Indian real estate moguls and Trump Organization partners Sagar and Atul Chordia along with Tribecas Kalpesh Mehta at Trump Towers in New York. While it was dubbed as informal the meeting quickly raised conflict of interest questions in US media and government circles. All three of the Indian executives are running ongoing Trumpbranded property development in India.In May  a real estate promotion in China from Kushner Companies formerly run by Trumps soninlaw and advisor Jared Kushner came under fire for allegedly using its connection to the presidency to lure property investors. The project had aimed to raise  million from Chinese investors as part of a US visa program.Read moreKleptocracy charge leveled at Donald TrumpChinese investors chase golden visas to the USOn Monday Kalpesh Mehta told the Economic Times in India that as a developer of ultraluxury properties it was very common to host customers.Given the tremendous success of our recent launches with Trump we have discussed preliminary plans to host a celebratory event for an exclusive group of owners in NYC where they would have the opportunity to experience the Trump brand firsthand Mehta said in a statement published by the Indian daily. He added that details would be finalized in the coming months.Kenney from the Center for American Progress said the promotion was troubling.There is no way to know what buyers will discuss with Trump Jr. in these meetings and whether they will use the meetings as an avenue to request favors from President Trump or his administration she said.By offering access to the Trump family in exchange for purchasing properties the developers and by extension the Trump family certainly seem to be profiting off of the Trump presidency.Trump Towers Delhi NCR is expected to take five years to complete. According to Indian media reports developers sold  units on the projects launch day January  generating over  million in sales.\n",
            "Annual fiveday Literature Festival will kick off from Thursday morning. Icons including the likes of Pico Iyer Amy Tan and Tom Stoppard already assembled in Jaipur. The th edition of Jaipur Literature Festival will feature over  sessions on a multitude of topics trends ideas and genres ranging from fiction poetry nonfiction gender environment science history liberal arts journalism economics travel and cinema.A sea of heavyweight literary icons including the likes of Pico Iyer Amy Tan and Tom Stoppard have begun to assemble in this Pink City to participate in the annual fiveday literary extravaganza that kicks off on Thursday morning. The th edition of Zee Jaipur Literature Festival will feature over  sessions on a multitude of topics trends ideas and genres ranging from fiction poetry nonfiction gender environment science history liberal arts journalism economics travel and cinema. Sticking to its usual format the festival will again open with a keynote address and reach its culmination with a debate where the audience has the opportunity to vote either in favour of or against the given motion.The festival will be inaugurated by Rajasthan Chief Minister Vasundhara Raje on Thursday morning followed immediately by the keynote address by Pico Iyer in which he will bbe talking about “A world without borders.” With as many as seven sessions taking place simultaneously throughout the day there’s a lot that visitors may look forward to. Tom Stoppard winner of an Academy Award for Best Original Screenplay for “Shakespeare in Love” will discus his life and work in a fascinating freeflowing session called “The Real Thing.” A discussion aptly titled “The Great Survivor” will see former Afghan President Hamid Karzai and William Dalrymple discuss his life legacy and leadership through the country’s recent turbulent times. In “The Bridget Jones’ Diaries” novelist Helen Fielding will be in conversation with publisher Meru Gokhale on the comic and the tragic film and fiction and Bridget Jones’ bumpy ride to motherhood.The programme also celebrates the diversity of languages their enigmatic roots and multifaceted trajectories. In “Lok Bhasha The Oxford Dictionaries Hindi Word of the Year” the announcement of the first ever Oxford Dictionaries Hindi Word of the Year’ will be made at the festival followed by a panel discussion with Ashok Vajpeyi Pankaj Dubey Saurabh Dwivedi Vinod Dua Yatindra Misra and Anu Singh Choudhary on new trends in Hindi usage and writing. In “Hindi Medium Language and Elitism” Annie Montaut Avinash Das Satya Vyas and Satyanand Nirupam will examine the value of Hindi its position as a common language in a multilingual nation a language steeped in deep literary traditions as well as one that is familiar within both popular culture and the marketplace.Further the festival will also witness book launches by acclaimed writers like Ashok Chopra Shashi Tharoor and Ashwin Sanghi among  book launches that are set to take place over the course of the next five days. The closing debate for the festival will see a noted panel deliberate on the motion “MeToo Do Men Still Have It too Easy?” Meanwhile with the Shree Rajput Karni Sena going on a rampage in many parts of the country against Sanjay Leela Bhansali’s “Padmaavat” the authorities are taking additional precautions to prevent any untowardly incident. Notably Mahipal Singh Makrana the president of the fringe group has warned it will be protesting against the presence of Central Board of Film Certification CBFC chief Prashoon Joshi at the festival.“We have strengthened deployment at the festival and have conducted a full security round with the concerned officers. We have also brought in two companies of Rajasthan Armed Constabulary along with Emergency Response Teams to counter any security issue. We have also installed face recognition camera to identify potential miscreants” said Additional Commissioner of Police Nitin Deep Blaggan. Zee Jaipur Literature Festival is produced by Teamwork Arts and acclaimed writers Namita Gokhale and William Dalrymple are its codirectors. The annual gathering held at Diggi palace here is one of the most anticipated literary events globally and witnesses massive footfall of book lovers from India and abroad.For all the latest Regional News News download NewsX App\n",
            "The recent cases of rape in Haryana have put a question mark on safety and security of women in the state. Photo for representation ReutersThere seems to be no end to the cases of rape being reported from Haryana in the last few days. In the latest incident a woman was allegedly pulled out of a car and raped while three other accused held her husband at gunpoint in Gurgaon.Going by statistics Haryanas record in crime against women is far from encouraging. According to the National Crime Records Bureau data for  Haryana reported a total of  cases of rape at a crime rate of .. Crime rate is the number of incidents per  of the population.Haryana reported  cases of gangrape under Section D of the IPC in  which is more than the  reported in Delhi during the same period as per the NCRB data. In terms of numbers the state was behind only Madhya Pradesh  cases Uttar Pradesh  cases and Rajasthan  cases all of which are big states.Haryanas crime rate in gangrape cases was the highest in the country for  at .. In comparison Delhis crime rate in the same category was .. The only other state with a crime rate of one or more for the same category was Rajasthan.The NCRB data points to the question that many now seem to be asking Is Haryana safe for women?For the Manohar Lal Khattar government the question comes a time when Haryanas sex ratio has finally started showing signs of improvement. The states sex ratio at birth rose to  in  up from  in  and  in . A total of  districts recorded a sex ratio of  or more in .For a state that is notorious for its skewed sex ratio the Beti Bachao Beti Padhao initiative seems to have yielded dividends. In  Haryana had recorded the worst sex ratio in the country at  girls per  boys.The states achievements in improving the sex ratio seems to have been overshadowed by the rising cases of crimes against women. The irony perhaps is not lost on the Haryana government.WATCH My Take Spate of rapes in Haryana are a blot on national conscience\n",
            "TNT | May  The yearold Cyanide Mallika who’s real name is KD Kempamma is known as the first lady serial killer of India. ‘Cyanide Mallika’ a woman convicted in six murder cases. All her victims were women who she met at temples and had poisoned them for their gold.India TimesHere are  facts you need to know about ‘Cyanide Mallika‘ Started with small thefts at homes where she worked as a maid Kempamma committed her first murder in . Since  she killed five more women most of them ‘in distress’ and fell for her con job of offering to pray for them. She was arrested in  and was awarded the death penalty in . But it was commuted to life imprisonment in  which she is currently serving at the Parappana Agrahara jail. Mallika is a fan of her mentor Jayalalithaa and wanted to meet her when the latter was a prisoner there in . Malika has repeatedly tried to talk to Sasikala but she did not respond on her first day in prison as Sasikala the once most powerful person in Tamil Nadu is sharing the wall with a notorious killerTNT News with inputs from internet sources\n",
            "By Arab NewsBy Talmiz Ahmad*Popular agitation began in Iran in a lowkey manner in the holy city of Mashhad on Dec.  when hundreds of people came out on to the streets shouting slogans such as “No to high prices” and “Death to Rouhani.” Within a few days protests had spread to  towns and soon involved  others. The demonstrators were generally working class most of them very poor some even destitute. They were the latest of more than  strikes and public protests in Iran since March last year.On Jan.  the security authorities announced that the agitation had ended but most observers believe public anger has not been assuaged nor have the issues raised been addressed.The common driver of the protests was anger at high prices poverty unemployment and corruption embracing all aspects of national governance. This was reflected in the increasingly strident slogans “Death to the Dictator” a reference to Supreme Leader Ali Khamenei “Death to the Revolutionary Guards” “People are paupers while the mullahs live like gods” “Independence freedom Iranian republic” and “We don’t want the Islamic Republic.”The demonstrations were a sharp critique of the repression mismanagement and clerical greed that most of the Iranian poor have experienced over the past few years with the children of the revolutionaries of the s now rudely flaunting their wealth and power amid widespread national poverty.The demonstrators also chanted slogans criticizing Iran’s foreign policy such as “Leave Syria alone do something for us” and “Neither Gaza nor Lebanon my life for Iran.” They signaled widespread anger at Iran’s expensive regional interventions and sought to remind the leadership that its priority should be the welfare of its citizens.Today Iran is involved in several regional theaters of contention and conflict. In Lebanon Iran helped raise the militia Hezbollah which defended Shiite interests in the country and fought the Israelis in . It is now also deployed in Syria to defend the Assad regime and is part of the government of national unity in Beirut.In Iraq following the occupation of Mosul by Daesh in June  Iran financed and trained a largely Shiite militia the Popular Mobilization Units PMU which led the fight against Daesh and played an important role in the liberation of several towns from the terror group’s control. After the Kurdish referendum in favor of independence in September last year PMU militia besieged Kirkuk and an Iranian general negotiated the vacation of that oilrich city by Kurdish Peshmerga.In Yemen Iran is backing the Houthi militias in their fight against government forces by equipping them with weapons particularly shortrange missiles. Some Hezbollah fighters are also believed to have been deployed in Yemen.The most important battleground for Iran today is Syria where it has been an ally of the Assad family for a few decades. Hence not surprisingly it sprang to the defense of the Bashar Assad presidency in  when it was under attack from domestic forces seeking reform and regime change. Later Hezbollah militants were also deployed in Syria when the pressure upon the regime was at its height. Iran has itself announced that more than  of its revolutionary guards have been killed in Syria.The Ankarabased commentator on Iran Farhad Rezaei has recently provided some figures on Iran’s financial commitments to supporting its regional activities. He estimates that Iran’s annual assistance to Syria is in the range of  billion while aid to Hezbollah could be about  billion annually with another billion dollars spent in Iraq Yemen and on Hamas in Palestine. Rezaei also says that Iran is providing  a month to individual Iraqi and Lebanese fighters it has deployed in Yemen to fight on the side of the Houthis.While some of Rezaei’s figures could be disputed there is little doubt that a large part of Iran’s revenue is being used to fund its overseas interests. Linked with this in Iran itself the annual budget for the Islamic Revolutionary Guards Corps IRGC has been raised to  billion even as the same budget provides for increased fuel prices and cuts in cash subsidies. This is a source of popular anger in Iran.Are Iran’s regional policies likely to change in the wake of the popular protests? A simple yes or no answer is not possible due to Iran’s unique political system which empowers unelected cleric Khamenei who enjoys a lifetime appointment with full authority in the security area leaving the popularly elected president with full responsibility for steering the economy and providing for the welfare of his people with the meager resources made available to him.Khamenei and the IRGC have adopted the position that the recent protests are the result of external conspiracies aimed at undermining national interests. This posture is unlikely to lead to any policy changes in the region.• Talmiz Ahmad a former diplomat holds the Ram Sathe Chair for International Studies Symbiosis International University Pune.Please Donate TodayDid you enjoy this article? Then please consider donating today to ensure that Eurasia Review can continue to be able to provide similar content.\n"
          ],
          "name": "stdout"
        }
      ]
    },
    {
      "cell_type": "code",
      "metadata": {
        "id": "5UrDGXFRn22o",
        "colab_type": "code",
        "outputId": "9f91298e-4e2b-4bb4-f5a1-20e8145d1f16",
        "colab": {
          "base_uri": "https://localhost:8080/",
          "height": 214
        }
      },
      "source": [
        "for sent in final_df['text'].values[:10]:\n",
        "    if len(re.findall('[.|,|)|(|\\|/]', sent)):\n",
        "        print(sent)"
      ],
      "execution_count": 0,
      "outputs": [
        {
          "output_type": "stream",
          "text": [
            "Agartala Tripura India January  ANI Bharatiya Janata Party President Amit Shah on Sunday launched an attack on the Communist Party of India Marxist CPIM in Tripura for spreading violence saying that the former cannot stop them from rising in the Leftruled state.Ahead of the Assembly elections in Tripura the BJP Chief while addressing a public rally here said I would like to tell the Manik government that the BJP will not cower down by violence. The more you spread the mud of violence the better will be the Lotus blossom.He added that more than seven lakh people out of the  lakh population of Tripura are registered in the unemployment list.The health facilities here are inadequate. This is what was done here in the past  years by the ruling state government. But not the countdown has begun. The BJP will form the government here in March. Even if the corrupt goes underground our party will dig the earth and bring them out Shah asserted.He further said that the Tripura government is not taking any action against the culprits of chit fund because the entire Cabinet of Manik government will be behind the bars.The Assembly elections in the states will be held in March.Both Nagaland and Tripura have been two of the few states where the BJP has not formed a government.In the current Nagaland assembly the Naga Peoples Front NPF hold the majority.Meanwhile in Tripura Assembly the Communist Party of India Marxist has been enjoying majority while Chief Minister Manik Sarkar has been at the helm since . ANI\n",
            "A civil disobedience is underway in the supreme court of India. It’s unique The custodians of power are disobeying praying to the people’s court. It has flashed a rare spotlight on the court’s inner workings—for a dismayed people to see study and summate.Ordinarily judges shun the media speak only in court to lawyers and litigants and through their decisions. Not this time. Four senior judges abandoned the honoured code; they went public. What they alleged reveals disquiet in the office of the chief justice.This act will haunt India. It exposes divisions among judges doubts the practice of impartial justice and diminishes the court. Something is rotten; it needs a prompt incision. Else the decay may infect the democratic way of life we take for granted.The letter the said the unsaidIt all began with an undated letter. Jasti Chelameswar Ranjan Gogoi Madan Lokur and Kurian Joseph India’s four seniormost judges wrote to the only person senior to them chief justice Dipak Misra. They conveyed two things a grievance and an allegation.The grievance The supreme court formally has  judges. Usually they sit in pairs. The chief justice is empowered to design these benches and assign cases to them. That power is a limited one—conventions govern these allocations. He can’t act arbitrarily. But chief justices occasionally have done exactly that the judges claimed. They posted selected cases to “preferred benches.” This must be guarded against the letter underlined.Once upon a time lawyers used to hunt for sympathetic benches. If these judges are right chief justices do it now. It’s a depressing prospect.What do judges decide cases based upon—the law or something else?The allegation In October  five judges declared the National Judicial Appointments Commission an executiveled process of judicial appointments invalid. So India reverted to its judiciaryled collegium system of appointing judges. But some kinks needed ironing out. The collegium proposed a Memorandum of Procedure MoP. The Modi government has sat on it for almost a year. Its silence should have meant acceptance the judges reminded the chief justice. Instead in October  two judges held out a different impression that the MoP remains a draft and that the government may still propose alternative procedures. This went against what the larger five judgesbench had held the letter pointed out.Was the October  order an indirect nod to the Modi government to smuggle in its preferences regarding the MoP? One is left to wonder.Buried unsaid in this missive is a troubling idea What do judges decide cases based upon—the law or something else? Bench hunting the practice alleged here makes sense only if judges are swayed by reasons other than the law. Why else have preferred benches if the chief justice really does? Why else suggest as the letter does that preferred benches impair the court’s integrity?Performing the letterThe supreme court is a polyvocal body. Benches of two three five or more decide thousands of cases each year. They routinely disagree. Differences among them aren’t new or newsworthy.But this wasn’t an ordinary disagreement. It spoke to a core issue How should the court be run? Also the protestors didn’t just object in writing; they went public. Why?Nothing had changed they said. Attempts to make the chief justice see light failed. Questions remained.Justice Chelameswar spoke at the presser mostly. He stressed the need for equanimity and impartial judges and obliquely turned to history.“Twenty years hence wise men shouldn’t say we the seniormost judges sold our souls” he said. “We don’t want this to be said. So we place it before the people of this country. Please take care of the institution.”The last time wise men said this about judges India had an Emergency a constitutional takeover by the executive. Has an undeclared Emergency gripped India?A short Q&A with reporters followed. A few questions elicited cryptic replies. Others earned none.“Should the chief justice be impeached?” “Let the nation decide”.“Is the executive interfering with the judiciary?” “What if no remedial steps are taken?” Silence.What the judges said almost said and didn’t say is nothing short of a coup—a public call to mutiny against the chief justice of India. The supreme court shall pay for this; India shall pay more.Institutional costsAll systems face crises. But wellgoverned ones respond better. Settled norms help weather them. They project a stainless front; the scars stay closeted. It’s a mask—a handy one.The court’s mask has slipped. Its underbelly is on ugly parade. And three things are clear.One the quartet felt forlorn. It had exhausted its options. Existing norms offered no further avenues. A public address was the only way out. Clearly the court has fewer norms than it needs to fix discords. It needs a fatter rulebook.Pitching to the public is a breach.Two these judges had grave concerns too grave to neglect. But they must have known The unwritten code demands reticence. Pitching to the public is a breach. Still they persisted. What was the issue? The letter and its recital point to partiality—in assigning cases and deciding them.Three fairness induces faith in a judicial system. Courts must be fair and appear so. Charges of partiality come and go. But this one is unique. Sitting senior judges have alleged unfairness. Can the people any longer trust what the court says?And what of institutional balance? Consider this. The supreme court had a majestic run for nearly  years unmatched authority trust and respect. But that was also the era of rickety governments. Now India has a tough executive—a first in  years. And some judges are reduced to pleading helplessness in public.Just fortuity? Or a flavour of the timeless tussle between the executive and the judiciary? Is a simultaneously strong executive and a strong judiciary possible? Or are we forever locked into a seesaw battle one must be down when the other is up? This matters.The executive in India—the government—is the biggest litigant. Only impartial judges can hold it to account. A frail judiciary a compromised one can’t do it. A powerful government may muscle in laws and policies. Remedies against excesses will dry up. Can democracy still flourish?Waiting for sunshineWhat now?One in a bind. That’s how chief justice Misra must feel. Attending to the complaints reneging on recent decisions would paint the protesting judges in the right. It would cement the idea of a partial court. But inactivity risks more revelations. The letter in closing hints at that.Two the quartet must feel the heat too. It made an unprecedented move. It has gambled its honour. What if nothing changes—if no remedial actions happen? Democracy is under threat it had alleged. Can it carry on as if nothing happened?Justice Gogoi later reportedly said “There is no crisis.” Another member Justice Joseph said “The matter has been settled.” How? When? By whom? The hasty reversal doesn’t bode well.Reports tell a meeting of the full court that brings all sitting judges together may happen. What will it decide?Perhaps something to both sides? The chief justice and his complainants can move on with honour. The court can pretend its mask is back on. But the truth will die. What of the performance? What of the issues?Three is this a precedent? Will discord play out in public again? Justice Joseph thinks not “Such actions would not occur in future.” Why?Remember last time a sitting judge convened a media on his lawns India laughed it off as the rantings of a mad man. Of course the two aren’t the same. He was a high court judge these are four senior supreme court judges. Still. We must ask When is a breach of this scale justified? Other judges high and low deserve to know.Four should other bodies read a precedent in this? Former finance minister of India Yashwant Sinha has asked ministers in the Modi government to summon similar courage. “They must get rid of their fear and speak up” he said. If they do the prime minister will sack them. Cabinet form of government has an established protocol. What of agencies beyond political control? Should they speak up if dissent brews?Discipline above all else is a foolish insistence.Discipline above all else is a foolish insistence. But consistency? This performance invites a deeper analysis. What is institutional loyalty? When is it owed? When not?This civil disobedience—a rare statement of moral courage—is welcome. It has bared a practice many whispered but never articulated. Now some judges have. A few retired ones have joined in too. An open letter to the chief justice urges a new orderly system of case assignment. This reform must happen. The power to assign cases effectively is the power to decide them; it can’t rest in just one person.A big break from tradition demands big changes. If things stay the same the protesters the court and the system will lose credibility. No one again will have reason to believe the supreme court and its idea of impartial justice. It mustn’t come to that.We welcome your comments at ideas.indiaqz.com.\n",
            "By Lalit K JhaWashington Jan  PTI The Trump administration has no qualms admitting immigrants who are skilled employed and can speak English a top official has said while giving insight into what its meritbased system would look like.Such individuals could be from any part of the world given that they fulfil the requirements the official said.If such a policy is developed and implemented it could benefit individuals from countries like India the majority of whom meet the criterion.The Trump administration wants to reform the immigration system to serve the US national interest the official said...And so our position is that a system that prioritise individuals based on their individual skills and merit will certainly produce better results than the system we have now said a senior administration official who spoke on the condition of anonymity.We want to bring in individuals wherever they may be from who love this country who love its people who have skills who have talent who have  who speak English who are committed to supporting our values and our very way of life said the official.The official said some of the existing programmes for immigrants ignored such requirements which are important for individuals to succeed in the US.So what we have with the Diversity Lottery Program or through chain migration is that in these cases there are identified examples of individuals who were not selected to come to the US based on their love of this country skills merit and individual attributes that will lead them to their success the official said.We would like to admit individuals from all backgrounds or any place in the world based on their own individual merit and their likelihood of success into the US the official said.The admission of any foreign national who goes on to commit a terrorismrelated offense or who conspires to support terrorists is simply an unacceptable outcome for the US no matter what the official said.Our goal is to eliminate terrorism in all of its forms wherever it may emanate from the official said. PTI LKJ CHT\n",
            "Rashtriya Swayamsevak Sangh chief Mohan Bhagwat today stressed the need to foster social harmony and called for banishing discord in society his comments coming in wake of violent protests by Dalits in Maharashtra. PTIRashtriya Swayamsevak Sangh chief Mohan Bhagwat today stressed the need to foster social harmony and called for banishing discord in society his comments coming in wake of violent protests by Dalits in Maharashtra. He said India was more than just a piece of land and asked people to shun discrimination and treat all citizens equally. “While worshipping the ‘motherland’ we have to consider the entire society as ours. We should be free from barriers of ‘ours versus theirs’ and ‘big versus small’ and treat everyone the same” Bhagwat said addressing a gathering here after unveiling a feet statue of ‘Bharat Mata’ this evening. Bhagwat’s remarks came after violence in Maharashtra during the anniversary of the BhimaKoregaon battle in Pune district brought to fore the simmering caste tension and triggered protests by Dalits. Appealing to all Indians to live in harmony Bhagwat said “Where there are cordial ties there is no ego.”“India is not just a piece of land. There are people who say it is just a piece of land and keep doing something. Such people are neither our brothers and sisters nor the offsprings of ‘Bharat Mata’” the RSS chief said. “We should rid ourselves of discrimination and treat all equally” he said.Bhagwat said Dravida Munnetra Kazhagam founder C N Annadurai once considered Tamil Nadu as a “separate country” which had “nothing to do” with India. However when China attacked India in  Annadurai changed his stand and opined that when the country is in danger to advocate separatism would be to give way to the foreigner he said. “Who taught this to Annadurai? It is the soil of India which has sowed seed of patriotism in every citizen” Bhagwat said. Touching upon the RSS’ undivided India Akhand Bharat concept he said “We should always worship the undivided image of Mother India.” Bhagwat said the Indian ethos is rooted in the idea of ‘Vasudhaiva Kutumbakam’ the world is one family’. “We consider the world as one family. We find God in ourselves and everywhere. Indian ideology is based on this concept” the RSS leader maintained. Violence erupted in Pune district when Dalit groups were celebrating the bicentenary of the BhimaKoregaon battle in which the forces of the British East India Company defeated the Peshwa’s army. Rightwing groups have been blamed for the clashes which left one person dead. Dalit leaders commemorate the British victory as it is believed that soldiers from the Mahar Dalit community were part of the East India Company’s forces. The Peshwas were Brahmins and the victory is seen as a symbol of Dalit assertiveness.\n",
            "New Delhi Jan  PTI A yearold doctor hailing from Tamil Nadu was found dead at his rented flat in northeast Delhis Shahdara today the police said.The deceased Sharath Prabhu was a student of PG medicine at GTB Hospital.He was staying in the flat with two others and around . pm last night the trio had dinner police said.Prabhu was found unconscious outside the washroom of the apartment around  am by his flatmates who rushed him to a hospital where he was declared brought dead.Police said an injection the contents of which will have to be examined was found in the room of the deceased.His flatmates are being questioned. He belongs to Coimbatore and was staying here since May . PTI SLB DV\n",
            "Army Chief Gen Bipin Singh Rawat takes a salute during the Army Day parade in New Delhi on Monday. PTI photoJammu Jan.  PTI Seven Pakistani soldiers died and four were injured when the Indian Army retaliated against a breach of the ceasefire across LoC in Jammu & Kashmir’s Poonch district.An Indian soldier was killed in Pakistani firing along the Line of Control in Rajouri district on Saturday.”Army has carried out retaliation against Pakistani troops across Jaglote area along the LoC in Mendhar sector of Poonch district” a senior army officer told PTI.”In the retaliatory action there were seven fatal causalities to Pakistani troops and four others injured” he said.The army’s statement as General Bipin Rawat said his force will not let antiIndia activities succeed at any cost in Jammu & Kashmir and warned of stronger reaction against Pakistansupported terrorism.In his Army Day address Gen Rawat said that disputes along the LoC along the northern border with China were continuing and transgressions were taking place and “We are working to stop them”.“Pakistan Army has been continuously trying to help terrorists sneak into India along LoC in J&K. We are using our might to teach them a lesson” he said.”If we are forced then we may resort to other action by stepping up military offensive” he added.\n",
            "Sunayana has tried to promote peace with her tireless efforts after the death of her husbandSunayana was invited as a guest by Congressman Kevin Yoder to attend the eventSunayana Dumala the wife of an Indian engineer who was shot dead in a hate crime shooting in the US last year on Wednesday attended President Donald Trumps first State of the Union Address.Sunayana  was invited as a guest by Congressman Kevin Yoder to attend the event.Mr Yoder said that he had asked Sunayana to be his guest as a recognition for her tireless efforts to promote peace and as a message to the Indian community that the US is a nation of immigrants and they are welcome here.Each year I have the privilege of inviting one guest to attend the presidents State of the Union address. This year I invited Sunayana Dumala widow of Srinivas Kuchibhotla the Indian immigrant who was tragically killed in the hate crime shooting last year at in Olathe Mr Yoder had said.Her husband Srinivas Kuchibhotla a software engineer from Hyderabad was shot dead while his colleague Alok Madasani also Indian sustained bullet injuries after an American navy veteran opened fire in a crowded suburban bar in Olathe city Kansas in February last year. Ian Grillot another man who tried to intervene was also injured.The shooter thought they were Middle Easterners and was heard telling them to get out of my country.Sunayana met a number of Congressional leaders including House Speaker Paul Ryan before the address.Paul Ryan acknowledged Sunayana and said he remembers her and is aware of her story.The IndianAmerican community welcomed the move.Brijpal Singh the chairman of the India Association of Kansas City said this step will not only assure the Indian community but also send a strong message about the unstinted support from the elected representatives and administration towards the Indian community.This further strengthens our belief and confidence in the American system and its Constitution where everyone is respected loved and is welcome Mr Singh said in a letter to Mr Yoder.The State of the Union Address is a traditional annual speech of the US president to a joint session of the Congress where he gives an account of the situation in the country.Several Democratic lawmakers have said they will not attend the address in protest against Mr Trump reportedly calling some African nations shithole countries a remark that the US President has denied saying.Get Breaking news live coverage and Latest News from India and around the world on NDTV.com. Catch all the Live TV action on NDTV x and NDTV India. Like us on Facebook or follow us on Twitter and Instagram for latest news and live news updates.\n",
            "punjabUpdated Jan    ISTA Chandigarh resident his wife and their threeyearold son were killed while their infant daughter had a miraculous escape in a freak accident with a truck on the LudhianaFerozepur road in Jagraon on Thursday morning.Police said the driver of the Hyundai i Sudarshan Kumar  lost control of the car after its tyre burst. The car jumped over the divider and rammed into an oncoming truck killing him his wife Seema  and their son Dhruv on the spot.Their domestic help Kajal  suffered serious injuries while their sixmonthold daughter Dhwani escaped without a scratch.The impact of the collision left the vehicle’s front side completely mangled making it difficult for rescuers to pull out the victims.Assistant subinspector ASI Baljinder Singh incharge bus stand police post said the family was travelling from Chandigarh to Faridkot to attend the memorial of Seema’s uncle. While Seema was in the navigator’s seat with Dhruv in her lap Kajal was in the back seat with the infant in her care.“As they reached near Gurdwara Nanaksar in Jagraon Sudarshan lost control of the car as its tyre burst and rammed into a truck coming from Moga. Onlookers rushed to the car as cries of the baby filled the air and informed the police” he said adding that the truck driver Parminder Singh escaped unscathed.Sudharshan Seema and their son were dead by the time they were rescued. A seriously injured Kajal was rushed to Dayanand Medical College and Hospital where doctors referred her to Post Graduate Institute of Medical Education and Research PGIMER Chandigarh.The baby was found unhurt after being medically examined and was handed over to the victims’ relatives who reached the city from Chandigarh and Faridkot after being informed.The ASI said they had initiated inquest proceedings under Section  of the Criminal Procedure Code CrPC on the statement of the victim’s family members and sent the bodies to the Jagraon civil hospital for postmortem examination.First Published Jan    IST\n",
            "SRINAGAR India – Police said four officers were killed Saturday when rebels fighting against Indian rule in disputed Kashmir detonated a bomb on a street the officers were patrolling.Streets were deserted and shops and businesses closed for a strike when the massive blast struck the northwestern town of Sopore hitting the police patrol. The town famous for apple orchards is observing a shutdown on the th anniversary of a massacre in which government forces killed at least  people after a paramilitary soldier died in a rebel attack.The strike was called by separatist leaders who challenge India’s sovereignty over Kashmir. The town was already on high alert with hundreds of police and paramilitary soldiers patrolling the area in anticipation of antiIndia protests and clashes.Police said at least half a dozen shuttered shops suffered extensive damage in the blast which was remotely detonated.The JasheMohammed militant group claimed responsibility for the attack according to the Englishlanguage Greater Kashmir newspaper.Reinforcements of police and paramilitary soldiers rushed to seal off the area.Nucleararmed rivals India and Pakistan each administer part of Kashmir but both claim the Himalayan territory in its entirety. Rebel groups demand that Kashmir be united either under Pakistani rule or as an independent country. India accuses Pakistan of arming and training the rebels which Pakistan denies.AntiIndia sentiment runs deep in the region and most people support the rebels’ cause against Indian rule while also participating in civilian street protests against Indian control.Nearly  people have been killed in the uprising and the ensuing Indian military crackdown since .\n",
            "Majid JahangirTribune News ServiceSrinagar January The Pakistanbased JaisheMohammad terror outfit suffered a major blow on Monday when the Army killed five of its members after they were intercepted near the banks of the Jhelum in the Uri sector. The terrorists wearing fatigues who crossed the river in a boat had come with a plan to carry out a fidayeen attack.It is for the first time in the nearly three decades of insurgency in Kashmir that militants infiltrated by crossing the Jhelum which serves as a natural barrier between India and Pakistan at Dulanja village. This tactic by the infiltrators has come as a surprise to the Army manning the Line of Control in the region.Brigadier YS Ahlawat Brigade Commander at Uri whose troops were engaged in foiling the first major infiltration bid of the year in Dulanja over  km from Srinagar said a major tragedy was averted on Army Day.“The infiltration bid by a fierce fidayeen group was made on January  night along the Jhelum river. Their movement was picked up by alert troops. We tracked their movement as they were crossing the Jhelum in a boat towards our side. As the terrorists were moving along the banks of the Jhelum they were challenged and in the ensuing fire fight the Indian Army neutralised the five terrorists” Brigadier Ahlawat told mediapersons at Uri after the operation.He said four bodies of militants had been recovered so far. “We can’t recover the body of the fifth terrorist as it is lying on the banks near the boat which they had used to cross the river” Brigadier Ahlawat said.The militants it appears used a rope to keep the boat in line as the river terrain in the Uri region is rough compared to its journey in the hinterland Kashmir. A senior defence officer said the militants crossed over to this side in a small inflatable kind of boat taking advantage of the low water level in the Jhelum which flows into Pakistan via Uri.“The boat was taken back by one of the terrorists to the other side” the officer said adding that it is for the first time that the militants tried to infiltrate by crossing the river in the Uri sector. There have been instances in the past when militants have used boats to cross the Kishanganga river in the Gurez sector in Bandipore district to infiltrate into Kashmir.Senior Superintendent of Police Baramulla Imtiyaz Hussain Mir said the Jaish militants had “come with a plan of carrying out a fidayeen attack.”\n"
          ],
          "name": "stdout"
        }
      ]
    },
    {
      "cell_type": "code",
      "metadata": {
        "id": "0XBDxpf0p3ef",
        "colab_type": "code",
        "outputId": "d6383a24-29da-404e-93b0-7fb60393314d",
        "colab": {
          "base_uri": "https://localhost:8080/",
          "height": 107
        }
      },
      "source": [
        "final_df.text[:3].values"
      ],
      "execution_count": 0,
      "outputs": [
        {
          "output_type": "execute_result",
          "data": {
            "text/plain": [
              "array(['Agartala Tripura India January  ANI Bharatiya Janata Party President Amit Shah on Sunday launched an attack on the Communist Party of India Marxist CPIM in Tripura for spreading violence saying that the former cannot stop them from rising in the Leftruled state.Ahead of the Assembly elections in Tripura the BJP Chief while addressing a public rally here said I would like to tell the Manik government that the BJP will not cower down by violence. The more you spread the mud of violence the better will be the Lotus blossom.He added that more than seven lakh people out of the  lakh population of Tripura are registered in the unemployment list.The health facilities here are inadequate. This is what was done here in the past  years by the ruling state government. But not the countdown has begun. The BJP will form the government here in March. Even if the corrupt goes underground our party will dig the earth and bring them out Shah asserted.He further said that the Tripura government is not taking any action against the culprits of chit fund because the entire Cabinet of Manik government will be behind the bars.The Assembly elections in the states will be held in March.Both Nagaland and Tripura have been two of the few states where the BJP has not formed a government.In the current Nagaland assembly the Naga Peoples Front NPF hold the majority.Meanwhile in Tripura Assembly the Communist Party of India Marxist has been enjoying majority while Chief Minister Manik Sarkar has been at the helm since . ANI',\n",
              "       'A civil disobedience is underway in the supreme court of India. It’s unique The custodians of power are disobeying praying to the people’s court. It has flashed a rare spotlight on the court’s inner workings—for a dismayed people to see study and summate.Ordinarily judges shun the media speak only in court to lawyers and litigants and through their decisions. Not this time. Four senior judges abandoned the honoured code; they went public. What they alleged reveals disquiet in the office of the chief justice.This act will haunt India. It exposes divisions among judges doubts the practice of impartial justice and diminishes the court. Something is rotten; it needs a prompt incision. Else the decay may infect the democratic way of life we take for granted.The letter the said the unsaidIt all began with an undated letter. Jasti Chelameswar Ranjan Gogoi Madan Lokur and Kurian Joseph India’s four seniormost judges wrote to the only person senior to them chief justice Dipak Misra. They conveyed two things a grievance and an allegation.The grievance The supreme court formally has  judges. Usually they sit in pairs. The chief justice is empowered to design these benches and assign cases to them. That power is a limited one—conventions govern these allocations. He can’t act arbitrarily. But chief justices occasionally have done exactly that the judges claimed. They posted selected cases to “preferred benches.” This must be guarded against the letter underlined.Once upon a time lawyers used to hunt for sympathetic benches. If these judges are right chief justices do it now. It’s a depressing prospect.What do judges decide cases based upon—the law or something else?The allegation In October  five judges declared the National Judicial Appointments Commission an executiveled process of judicial appointments invalid. So India reverted to its judiciaryled collegium system of appointing judges. But some kinks needed ironing out. The collegium proposed a Memorandum of Procedure MoP. The Modi government has sat on it for almost a year. Its silence should have meant acceptance the judges reminded the chief justice. Instead in October  two judges held out a different impression that the MoP remains a draft and that the government may still propose alternative procedures. This went against what the larger five judgesbench had held the letter pointed out.Was the October  order an indirect nod to the Modi government to smuggle in its preferences regarding the MoP? One is left to wonder.Buried unsaid in this missive is a troubling idea What do judges decide cases based upon—the law or something else? Bench hunting the practice alleged here makes sense only if judges are swayed by reasons other than the law. Why else have preferred benches if the chief justice really does? Why else suggest as the letter does that preferred benches impair the court’s integrity?Performing the letterThe supreme court is a polyvocal body. Benches of two three five or more decide thousands of cases each year. They routinely disagree. Differences among them aren’t new or newsworthy.But this wasn’t an ordinary disagreement. It spoke to a core issue How should the court be run? Also the protestors didn’t just object in writing; they went public. Why?Nothing had changed they said. Attempts to make the chief justice see light failed. Questions remained.Justice Chelameswar spoke at the presser mostly. He stressed the need for equanimity and impartial judges and obliquely turned to history.“Twenty years hence wise men shouldn’t say we the seniormost judges sold our souls” he said. “We don’t want this to be said. So we place it before the people of this country. Please take care of the institution.”The last time wise men said this about judges India had an Emergency a constitutional takeover by the executive. Has an undeclared Emergency gripped India?A short Q&A with reporters followed. A few questions elicited cryptic replies. Others earned none.“Should the chief justice be impeached?” “Let the nation decide”.“Is the executive interfering with the judiciary?” “What if no remedial steps are taken?” Silence.What the judges said almost said and didn’t say is nothing short of a coup—a public call to mutiny against the chief justice of India. The supreme court shall pay for this; India shall pay more.Institutional costsAll systems face crises. But wellgoverned ones respond better. Settled norms help weather them. They project a stainless front; the scars stay closeted. It’s a mask—a handy one.The court’s mask has slipped. Its underbelly is on ugly parade. And three things are clear.One the quartet felt forlorn. It had exhausted its options. Existing norms offered no further avenues. A public address was the only way out. Clearly the court has fewer norms than it needs to fix discords. It needs a fatter rulebook.Pitching to the public is a breach.Two these judges had grave concerns too grave to neglect. But they must have known The unwritten code demands reticence. Pitching to the public is a breach. Still they persisted. What was the issue? The letter and its recital point to partiality—in assigning cases and deciding them.Three fairness induces faith in a judicial system. Courts must be fair and appear so. Charges of partiality come and go. But this one is unique. Sitting senior judges have alleged unfairness. Can the people any longer trust what the court says?And what of institutional balance? Consider this. The supreme court had a majestic run for nearly  years unmatched authority trust and respect. But that was also the era of rickety governments. Now India has a tough executive—a first in  years. And some judges are reduced to pleading helplessness in public.Just fortuity? Or a flavour of the timeless tussle between the executive and the judiciary? Is a simultaneously strong executive and a strong judiciary possible? Or are we forever locked into a seesaw battle one must be down when the other is up? This matters.The executive in India—the government—is the biggest litigant. Only impartial judges can hold it to account. A frail judiciary a compromised one can’t do it. A powerful government may muscle in laws and policies. Remedies against excesses will dry up. Can democracy still flourish?Waiting for sunshineWhat now?One in a bind. That’s how chief justice Misra must feel. Attending to the complaints reneging on recent decisions would paint the protesting judges in the right. It would cement the idea of a partial court. But inactivity risks more revelations. The letter in closing hints at that.Two the quartet must feel the heat too. It made an unprecedented move. It has gambled its honour. What if nothing changes—if no remedial actions happen? Democracy is under threat it had alleged. Can it carry on as if nothing happened?Justice Gogoi later reportedly said “There is no crisis.” Another member Justice Joseph said “The matter has been settled.” How? When? By whom? The hasty reversal doesn’t bode well.Reports tell a meeting of the full court that brings all sitting judges together may happen. What will it decide?Perhaps something to both sides? The chief justice and his complainants can move on with honour. The court can pretend its mask is back on. But the truth will die. What of the performance? What of the issues?Three is this a precedent? Will discord play out in public again? Justice Joseph thinks not “Such actions would not occur in future.” Why?Remember last time a sitting judge convened a media on his lawns India laughed it off as the rantings of a mad man. Of course the two aren’t the same. He was a high court judge these are four senior supreme court judges. Still. We must ask When is a breach of this scale justified? Other judges high and low deserve to know.Four should other bodies read a precedent in this? Former finance minister of India Yashwant Sinha has asked ministers in the Modi government to summon similar courage. “They must get rid of their fear and speak up” he said. If they do the prime minister will sack them. Cabinet form of government has an established protocol. What of agencies beyond political control? Should they speak up if dissent brews?Discipline above all else is a foolish insistence.Discipline above all else is a foolish insistence. But consistency? This performance invites a deeper analysis. What is institutional loyalty? When is it owed? When not?This civil disobedience—a rare statement of moral courage—is welcome. It has bared a practice many whispered but never articulated. Now some judges have. A few retired ones have joined in too. An open letter to the chief justice urges a new orderly system of case assignment. This reform must happen. The power to assign cases effectively is the power to decide them; it can’t rest in just one person.A big break from tradition demands big changes. If things stay the same the protesters the court and the system will lose credibility. No one again will have reason to believe the supreme court and its idea of impartial justice. It mustn’t come to that.We welcome your comments at ideas.indiaqz.com.',\n",
              "       'By Lalit K JhaWashington Jan  PTI The Trump administration has no qualms admitting immigrants who are skilled employed and can speak English a top official has said while giving insight into what its meritbased system would look like.Such individuals could be from any part of the world given that they fulfil the requirements the official said.If such a policy is developed and implemented it could benefit individuals from countries like India the majority of whom meet the criterion.The Trump administration wants to reform the immigration system to serve the US national interest the official said...And so our position is that a system that prioritise individuals based on their individual skills and merit will certainly produce better results than the system we have now said a senior administration official who spoke on the condition of anonymity.We want to bring in individuals wherever they may be from who love this country who love its people who have skills who have talent who have  who speak English who are committed to supporting our values and our very way of life said the official.The official said some of the existing programmes for immigrants ignored such requirements which are important for individuals to succeed in the US.So what we have with the Diversity Lottery Program or through chain migration is that in these cases there are identified examples of individuals who were not selected to come to the US based on their love of this country skills merit and individual attributes that will lead them to their success the official said.We would like to admit individuals from all backgrounds or any place in the world based on their own individual merit and their likelihood of success into the US the official said.The admission of any foreign national who goes on to commit a terrorismrelated offense or who conspires to support terrorists is simply an unacceptable outcome for the US no matter what the official said.Our goal is to eliminate terrorism in all of its forms wherever it may emanate from the official said. PTI LKJ CHT'],\n",
              "      dtype=object)"
            ]
          },
          "metadata": {
            "tags": []
          },
          "execution_count": 28
        }
      ]
    },
    {
      "cell_type": "code",
      "metadata": {
        "id": "od9Ku0tTq4Oz",
        "colab_type": "code",
        "colab": {}
      },
      "source": [
        "stopw = set(stopwords.words('english'))\n",
        "snow = nltk.stem.SnowballStemmer('english')\n",
        "# lets remove words like not, very from stop words as they are meaninging in the reviews \n",
        "reqd_words = set(['only','very',\"doesn't\",'few','not'])\n",
        "stopw = stopw - reqd_words"
      ],
      "execution_count": 0,
      "outputs": []
    },
    {
      "cell_type": "code",
      "metadata": {
        "id": "E1blg6G-0GVJ",
        "colab_type": "code",
        "colab": {}
      },
      "source": [
        "final_df['article_length'] = final_df.text.apply(lambda x: len(x))"
      ],
      "execution_count": 0,
      "outputs": []
    },
    {
      "cell_type": "code",
      "metadata": {
        "id": "wFfkEUaw019X",
        "colab_type": "code",
        "outputId": "d1441baf-176e-4f39-f7c1-9b16094236db",
        "colab": {
          "base_uri": "https://localhost:8080/",
          "height": 34
        }
      },
      "source": [
        "(final_df['article_length'] < 2).sum()"
      ],
      "execution_count": 0,
      "outputs": [
        {
          "output_type": "execute_result",
          "data": {
            "text/plain": [
              "0"
            ]
          },
          "metadata": {
            "tags": []
          },
          "execution_count": 31
        }
      ]
    },
    {
      "cell_type": "code",
      "metadata": {
        "id": "bDU3aNDI1Vww",
        "colab_type": "code",
        "colab": {}
      },
      "source": [
        "def clean_text(article):\n",
        "  \n",
        "  cleaned_article = []\n",
        "  cleaned_words_list = text_to_word_sequence(article)\n",
        "  for word in cleaned_words_list:\n",
        "    if word not in stopw and len(word) > 2:\n",
        "      cleaned_article.append(snow.stem(word))\n",
        "  return ' '.join(cleaned_article)"
      ],
      "execution_count": 0,
      "outputs": []
    },
    {
      "cell_type": "code",
      "metadata": {
        "id": "4gQVYP--2uCx",
        "colab_type": "code",
        "outputId": "2d711461-683e-41f3-f808-ff16e7171b19",
        "colab": {
          "base_uri": "https://localhost:8080/",
          "height": 54
        }
      },
      "source": [
        "clean_text(final_df.text[0])"
      ],
      "execution_count": 0,
      "outputs": [
        {
          "output_type": "execute_result",
          "data": {
            "text/plain": [
              "'agartala tripura india januari ani bharatiya janata parti presid amit shah sunday launch attack communist parti india marxist cpim tripura spread violenc say former cannot stop rise leftrul state ahead assembl elect tripura bjp chief address public ralli said would like tell manik govern bjp not cower violenc spread mud violenc better lotus blossom ad seven lakh peopl lakh popul tripura regist unemploy list health facil inadequ done past year rule state govern not countdown begun bjp form govern march even corrupt goe underground parti dig earth bring shah assert said tripura govern not take action culprit chit fund entir cabinet manik govern behind bar assembl elect state held march nagaland tripura two few state bjp not form govern current nagaland assembl naga peopl front npf hold major meanwhil tripura assembl communist parti india marxist enjoy major chief minist manik sarkar helm sinc ani'"
            ]
          },
          "metadata": {
            "tags": []
          },
          "execution_count": 33
        }
      ]
    },
    {
      "cell_type": "code",
      "metadata": {
        "id": "uGbs26bB27b3",
        "colab_type": "code",
        "colab": {}
      },
      "source": [
        "final_df['stemmed_articles'] = final_df.text.apply(lambda x: clean_text(x))"
      ],
      "execution_count": 0,
      "outputs": []
    },
    {
      "cell_type": "code",
      "metadata": {
        "id": "YHHBVUpB3QE7",
        "colab_type": "code",
        "outputId": "25c77ec7-4cdc-4d45-b543-0487bbcfc042",
        "colab": {
          "base_uri": "https://localhost:8080/",
          "height": 230
        }
      },
      "source": [
        "final_df['stemmed_articles']"
      ],
      "execution_count": 0,
      "outputs": [
        {
          "output_type": "execute_result",
          "data": {
            "text/plain": [
              "0       agartala tripura india januari ani bharatiya j...\n",
              "1       civil disobedi underway suprem court india it ...\n",
              "2       lalit jhawashington jan pti trump administr qu...\n",
              "3       rashtriya swayamsevak sangh chief mohan bhagwa...\n",
              "4       new delhi jan pti yearold doctor hail tamil na...\n",
              "                              ...                        \n",
              "3494    new delhi ahead releas protest padmaavat conti...\n",
              "3495    clear not anim happi pose photograph one parti...\n",
              "3497    gorakhpur rahul gandhi arriv first visit state...\n",
              "3498    bengaluru bengaluruã¢ââ infam bellandur lake...\n",
              "3502    aditi pinto unseason rain snowfal impact agric...\n",
              "Name: stemmed_articles, Length: 3142, dtype: object"
            ]
          },
          "metadata": {
            "tags": []
          },
          "execution_count": 35
        }
      ]
    },
    {
      "cell_type": "code",
      "metadata": {
        "id": "YpY2jLzp7f4F",
        "colab_type": "code",
        "outputId": "0905b2d0-30f2-423d-aa5b-9b79cc69bcbf",
        "colab": {
          "base_uri": "https://localhost:8080/",
          "height": 176
        }
      },
      "source": [
        "final_df.info()"
      ],
      "execution_count": 0,
      "outputs": [
        {
          "output_type": "stream",
          "text": [
            "<class 'pandas.core.frame.DataFrame'>\n",
            "Int64Index: 3142 entries, 0 to 3502\n",
            "Data columns (total 4 columns):\n",
            "class               3142 non-null object\n",
            "text                3142 non-null object\n",
            "article_length      3142 non-null int64\n",
            "stemmed_articles    3142 non-null object\n",
            "dtypes: int64(1), object(3)\n",
            "memory usage: 202.7+ KB\n"
          ],
          "name": "stdout"
        }
      ]
    },
    {
      "cell_type": "code",
      "metadata": {
        "id": "F14h43vC3Ygi",
        "colab_type": "code",
        "colab": {}
      },
      "source": [
        "# lets check now\n",
        "for sent in final_df['stemmed_articles'].values:\n",
        "    if len(re.findall('[.|,|)|(|\\|/]', sent)):\n",
        "        print(sent)"
      ],
      "execution_count": 0,
      "outputs": []
    },
    {
      "cell_type": "code",
      "metadata": {
        "id": "cEgmHEzA3iPW",
        "colab_type": "code",
        "outputId": "66eb5d52-f4fa-4c7f-b14b-43be81044609",
        "colab": {
          "base_uri": "https://localhost:8080/",
          "height": 197
        }
      },
      "source": [
        "final_df.head()"
      ],
      "execution_count": 0,
      "outputs": [
        {
          "output_type": "execute_result",
          "data": {
            "text/html": [
              "<div>\n",
              "<style scoped>\n",
              "    .dataframe tbody tr th:only-of-type {\n",
              "        vertical-align: middle;\n",
              "    }\n",
              "\n",
              "    .dataframe tbody tr th {\n",
              "        vertical-align: top;\n",
              "    }\n",
              "\n",
              "    .dataframe thead th {\n",
              "        text-align: right;\n",
              "    }\n",
              "</style>\n",
              "<table border=\"1\" class=\"dataframe\">\n",
              "  <thead>\n",
              "    <tr style=\"text-align: right;\">\n",
              "      <th></th>\n",
              "      <th>class</th>\n",
              "      <th>text</th>\n",
              "      <th>article_length</th>\n",
              "      <th>stemmed_articles</th>\n",
              "    </tr>\n",
              "  </thead>\n",
              "  <tbody>\n",
              "    <tr>\n",
              "      <th>0</th>\n",
              "      <td>negative</td>\n",
              "      <td>Agartala Tripura India January  ANI Bharatiya ...</td>\n",
              "      <td>1519</td>\n",
              "      <td>agartala tripura india januari ani bharatiya j...</td>\n",
              "    </tr>\n",
              "    <tr>\n",
              "      <th>1</th>\n",
              "      <td>negative</td>\n",
              "      <td>A civil disobedience is underway in the suprem...</td>\n",
              "      <td>9090</td>\n",
              "      <td>civil disobedi underway suprem court india it ...</td>\n",
              "    </tr>\n",
              "    <tr>\n",
              "      <th>2</th>\n",
              "      <td>negative</td>\n",
              "      <td>By Lalit K JhaWashington Jan  PTI The Trump ad...</td>\n",
              "      <td>2064</td>\n",
              "      <td>lalit jhawashington jan pti trump administr qu...</td>\n",
              "    </tr>\n",
              "    <tr>\n",
              "      <th>3</th>\n",
              "      <td>positive</td>\n",
              "      <td>Rashtriya Swayamsevak Sangh chief Mohan Bhagwa...</td>\n",
              "      <td>2798</td>\n",
              "      <td>rashtriya swayamsevak sangh chief mohan bhagwa...</td>\n",
              "    </tr>\n",
              "    <tr>\n",
              "      <th>4</th>\n",
              "      <td>negative</td>\n",
              "      <td>New Delhi Jan  PTI A yearold doctor hailing fr...</td>\n",
              "      <td>693</td>\n",
              "      <td>new delhi jan pti yearold doctor hail tamil na...</td>\n",
              "    </tr>\n",
              "  </tbody>\n",
              "</table>\n",
              "</div>"
            ],
            "text/plain": [
              "      class  ...                                   stemmed_articles\n",
              "0  negative  ...  agartala tripura india januari ani bharatiya j...\n",
              "1  negative  ...  civil disobedi underway suprem court india it ...\n",
              "2  negative  ...  lalit jhawashington jan pti trump administr qu...\n",
              "3  positive  ...  rashtriya swayamsevak sangh chief mohan bhagwa...\n",
              "4  negative  ...  new delhi jan pti yearold doctor hail tamil na...\n",
              "\n",
              "[5 rows x 4 columns]"
            ]
          },
          "metadata": {
            "tags": []
          },
          "execution_count": 38
        }
      ]
    },
    {
      "cell_type": "code",
      "metadata": {
        "id": "ULZ-5ps43pGu",
        "colab_type": "code",
        "outputId": "fcf0fa8c-21ef-43d2-cf72-5551593fe1b0",
        "colab": {
          "base_uri": "https://localhost:8080/",
          "height": 70
        }
      },
      "source": [
        "final_df['class'].value_counts(normalize=True)"
      ],
      "execution_count": 0,
      "outputs": [
        {
          "output_type": "execute_result",
          "data": {
            "text/plain": [
              "negative    0.707829\n",
              "positive    0.292171\n",
              "Name: class, dtype: float64"
            ]
          },
          "metadata": {
            "tags": []
          },
          "execution_count": 39
        }
      ]
    },
    {
      "cell_type": "code",
      "metadata": {
        "id": "F09Xm0Rl39Vl",
        "colab_type": "code",
        "outputId": "6c0e6e4d-63f6-48b0-8893-d69e460cb4a0",
        "colab": {
          "base_uri": "https://localhost:8080/",
          "height": 278
        }
      },
      "source": [
        "sns.countplot(final_df['class']);\n",
        "plt.show()"
      ],
      "execution_count": 0,
      "outputs": [
        {
          "output_type": "display_data",
          "data": {
            "image/png": "[encoded data removed]",
            "text/plain": [
              "<Figure size 432x288 with 1 Axes>"
            ]
          },
          "metadata": {
            "tags": []
          }
        }
      ]
    },
    {
      "cell_type": "code",
      "metadata": {
        "id": "rhpdZTD-6tFB",
        "colab_type": "code",
        "outputId": "e51724f7-e0af-4147-fc5b-e88259798937",
        "colab": {
          "base_uri": "https://localhost:8080/",
          "height": 34
        }
      },
      "source": [
        "0.80*3142"
      ],
      "execution_count": 0,
      "outputs": [
        {
          "output_type": "execute_result",
          "data": {
            "text/plain": [
              "2513.6000000000004"
            ]
          },
          "metadata": {
            "tags": []
          },
          "execution_count": 41
        }
      ]
    },
    {
      "cell_type": "code",
      "metadata": {
        "id": "lyUDYw2E6jcb",
        "colab_type": "code",
        "outputId": "071c5089-af86-4e39-f48e-9610db889666",
        "colab": {
          "base_uri": "https://localhost:8080/",
          "height": 70
        }
      },
      "source": [
        "final_df[:2513]['class'].value_counts(normalize=True)"
      ],
      "execution_count": 0,
      "outputs": [
        {
          "output_type": "execute_result",
          "data": {
            "text/plain": [
              "negative    0.722244\n",
              "positive    0.277756\n",
              "Name: class, dtype: float64"
            ]
          },
          "metadata": {
            "tags": []
          },
          "execution_count": 42
        }
      ]
    },
    {
      "cell_type": "code",
      "metadata": {
        "id": "8LC3nDuv7Kba",
        "colab_type": "code",
        "outputId": "d250b517-e8ef-4365-cdac-3b04aadfb039",
        "colab": {
          "base_uri": "https://localhost:8080/",
          "height": 70
        }
      },
      "source": [
        "final_df[2513:]['class'].value_counts(normalize=True)"
      ],
      "execution_count": 0,
      "outputs": [
        {
          "output_type": "execute_result",
          "data": {
            "text/plain": [
              "negative    0.650238\n",
              "positive    0.349762\n",
              "Name: class, dtype: float64"
            ]
          },
          "metadata": {
            "tags": []
          },
          "execution_count": 43
        }
      ]
    },
    {
      "cell_type": "code",
      "metadata": {
        "id": "-sy9HsWE7QMq",
        "colab_type": "code",
        "colab": {}
      },
      "source": [
        "train_df = final_df[:2513]\n",
        "test_df = final_df[2513:]"
      ],
      "execution_count": 0,
      "outputs": []
    },
    {
      "cell_type": "markdown",
      "metadata": {
        "id": "gSg43fT_6FSW",
        "colab_type": "text"
      },
      "source": [
        "## Featurization:"
      ]
    },
    {
      "cell_type": "markdown",
      "metadata": {
        "id": "-X8tynkeKMOv",
        "colab_type": "text"
      },
      "source": [
        "## BAG OF WORDS"
      ]
    },
    {
      "cell_type": "markdown",
      "metadata": {
        "id": "y61K3-5TKTU6",
        "colab_type": "text"
      },
      "source": [
        "### converting data into vectors using BOW unigram"
      ]
    },
    {
      "cell_type": "code",
      "metadata": {
        "id": "bWmsExUxKWt9",
        "colab_type": "code",
        "colab": {}
      },
      "source": [
        "count_vect = CountVectorizer(min_df=5)\n",
        "unigram_xtrain_vect = count_vect.\\\n",
        "fit_transform(train_df.stemmed_articles)\n",
        "\n",
        "unigram_xtest_vect = count_vect.transform(test_df.stemmed_articles)"
      ],
      "execution_count": 0,
      "outputs": []
    },
    {
      "cell_type": "code",
      "metadata": {
        "id": "RRwOD3TkPH08",
        "colab_type": "code",
        "outputId": "92ef733e-1e71-40ba-c118-3453a0193862",
        "colab": {
          "base_uri": "https://localhost:8080/",
          "height": 34
        }
      },
      "source": [
        "print(unigram_xtrain_vect.shape, unigram_xtest_vect.shape)"
      ],
      "execution_count": 0,
      "outputs": [
        {
          "output_type": "stream",
          "text": [
            "(2513, 7817) (629, 7817)\n"
          ],
          "name": "stdout"
        }
      ]
    },
    {
      "cell_type": "code",
      "metadata": {
        "id": "vMXrDm3nPVd-",
        "colab_type": "code",
        "outputId": "ba42f0bc-f074-4dbd-af7a-0be9738a3307",
        "colab": {
          "base_uri": "https://localhost:8080/",
          "height": 1000
        }
      },
      "source": [
        "count_vect.get_feature_names()"
      ],
      "execution_count": 0,
      "outputs": [
        {
          "output_type": "execute_result",
          "data": {
            "text/plain": [
              "['000',\n",
              " '100',\n",
              " '103',\n",
              " '110',\n",
              " '120',\n",
              " '130',\n",
              " '13th',\n",
              " '140',\n",
              " '142',\n",
              " '144',\n",
              " '14th',\n",
              " '150',\n",
              " '151',\n",
              " '15th',\n",
              " '160',\n",
              " '163',\n",
              " '16th',\n",
              " '180',\n",
              " '1818',\n",
              " '1970s',\n",
              " '1980s',\n",
              " '1984',\n",
              " '1991',\n",
              " '1997',\n",
              " '1998',\n",
              " '200',\n",
              " '2000',\n",
              " '2001',\n",
              " '2002',\n",
              " '2003',\n",
              " '2004',\n",
              " '2005',\n",
              " '2006',\n",
              " '2007',\n",
              " '2008',\n",
              " '2009',\n",
              " '200th',\n",
              " '2010',\n",
              " '2011',\n",
              " '2012',\n",
              " '2013',\n",
              " '2014',\n",
              " '2015',\n",
              " '2016',\n",
              " '2017',\n",
              " '2018',\n",
              " '2019',\n",
              " '2020',\n",
              " '2022',\n",
              " '2030',\n",
              " '24x7',\n",
              " '250',\n",
              " '25th',\n",
              " '300',\n",
              " '305',\n",
              " '350',\n",
              " '390',\n",
              " '3rd',\n",
              " '400',\n",
              " '500',\n",
              " '600',\n",
              " '700',\n",
              " '750',\n",
              " '7th',\n",
              " '800',\n",
              " '8pm',\n",
              " '900',\n",
              " 'aadhaar',\n",
              " 'aadmi',\n",
              " 'aai',\n",
              " 'aam',\n",
              " 'aap',\n",
              " 'aayog',\n",
              " 'abandon',\n",
              " 'abba',\n",
              " 'abdomen',\n",
              " 'abduct',\n",
              " 'abdul',\n",
              " 'abdullah',\n",
              " 'abe',\n",
              " 'abet',\n",
              " 'abhishek',\n",
              " 'abhiyan',\n",
              " 'abid',\n",
              " 'abil',\n",
              " 'abl',\n",
              " 'ablaz',\n",
              " 'aboard',\n",
              " 'abolish',\n",
              " 'abort',\n",
              " 'about',\n",
              " 'abraham',\n",
              " 'abroad',\n",
              " 'abscond',\n",
              " 'absenc',\n",
              " 'absent',\n",
              " 'absolut',\n",
              " 'absorb',\n",
              " 'abu',\n",
              " 'abund',\n",
              " 'abus',\n",
              " 'abut',\n",
              " 'abvp',\n",
              " 'academ',\n",
              " 'academi',\n",
              " 'acceler',\n",
              " 'accept',\n",
              " 'access',\n",
              " 'accid',\n",
              " 'accident',\n",
              " 'acclaim',\n",
              " 'accommod',\n",
              " 'accompani',\n",
              " 'accomplic',\n",
              " 'accomplish',\n",
              " 'accord',\n",
              " 'account',\n",
              " 'accru',\n",
              " 'accumul',\n",
              " 'accur',\n",
              " 'accuraci',\n",
              " 'accus',\n",
              " 'accustom',\n",
              " 'ace',\n",
              " 'ach',\n",
              " 'acharya',\n",
              " 'achiev',\n",
              " 'acid',\n",
              " 'acknowledg',\n",
              " 'acquaint',\n",
              " 'acquir',\n",
              " 'acquisit',\n",
              " 'acquit',\n",
              " 'acquitt',\n",
              " 'acr',\n",
              " 'acropoli',\n",
              " 'across',\n",
              " 'act',\n",
              " 'action',\n",
              " 'activ',\n",
              " 'activist',\n",
              " 'actor',\n",
              " 'actress',\n",
              " 'actual',\n",
              " 'acut',\n",
              " 'ad',\n",
              " 'adam',\n",
              " 'adapt',\n",
              " 'adarsh',\n",
              " 'adb',\n",
              " 'add',\n",
              " 'addict',\n",
              " 'addit',\n",
              " 'address',\n",
              " 'adequ',\n",
              " 'adg',\n",
              " 'adher',\n",
              " 'adhikari',\n",
              " 'aditya',\n",
              " 'adityanath',\n",
              " 'adivasi',\n",
              " 'adjac',\n",
              " 'adjoin',\n",
              " 'adjourn',\n",
              " 'adjud',\n",
              " 'adjust',\n",
              " 'admi',\n",
              " 'administ',\n",
              " 'administr',\n",
              " 'admir',\n",
              " 'admiss',\n",
              " 'admit',\n",
              " 'adopt',\n",
              " 'adult',\n",
              " 'advanc',\n",
              " 'advantag',\n",
              " 'advent',\n",
              " 'adventur',\n",
              " 'advers',\n",
              " 'advertis',\n",
              " 'advertisement',\n",
              " 'advertisementth',\n",
              " 'advic',\n",
              " 'advis',\n",
              " 'advisor',\n",
              " 'advisori',\n",
              " 'advoc',\n",
              " 'advocaci',\n",
              " 'aegi',\n",
              " 'aerial',\n",
              " 'aeronaut',\n",
              " 'aerospac',\n",
              " 'aesthet',\n",
              " 'affair',\n",
              " 'affect',\n",
              " 'affidavit',\n",
              " 'affili',\n",
              " 'afflict',\n",
              " 'affluent',\n",
              " 'afford',\n",
              " 'afghan',\n",
              " 'afghanistan',\n",
              " 'afp',\n",
              " 'afraid',\n",
              " 'afresh',\n",
              " 'africa',\n",
              " 'african',\n",
              " 'after',\n",
              " 'aftermath',\n",
              " 'afternoon',\n",
              " 'afterward',\n",
              " 'again',\n",
              " 'agar',\n",
              " 'agartala',\n",
              " 'agarw',\n",
              " 'age',\n",
              " 'agenc',\n",
              " 'agenda',\n",
              " 'agent',\n",
              " 'aggarw',\n",
              " 'aggrav',\n",
              " 'aggreg',\n",
              " 'aggress',\n",
              " 'aggriev',\n",
              " 'aghadi',\n",
              " 'agil',\n",
              " 'agit',\n",
              " 'ago',\n",
              " 'agoni',\n",
              " 'agra',\n",
              " 'agrarian',\n",
              " 'agraw',\n",
              " 'agre',\n",
              " 'agreement',\n",
              " 'agri',\n",
              " 'agribusi',\n",
              " 'agricultur',\n",
              " 'agriculturalist',\n",
              " 'agro',\n",
              " 'agroforestri',\n",
              " 'agustawestland',\n",
              " 'ahead',\n",
              " 'ahm',\n",
              " 'ahmad',\n",
              " 'ahmar',\n",
              " 'ahmedabad',\n",
              " 'ahmednagar',\n",
              " 'aiadmk',\n",
              " 'aicc',\n",
              " 'aid',\n",
              " 'aig',\n",
              " 'aiim',\n",
              " 'aik',\n",
              " 'aikscc',\n",
              " 'ail',\n",
              " 'ailment',\n",
              " 'aim',\n",
              " 'aimim',\n",
              " 'aimplb',\n",
              " 'air',\n",
              " 'airbnb',\n",
              " 'aircelmaxi',\n",
              " 'aircraft',\n",
              " 'airlift',\n",
              " 'airlin',\n",
              " 'airplan',\n",
              " 'airport',\n",
              " 'airway',\n",
              " 'aishwarya',\n",
              " 'aisi',\n",
              " 'ajay',\n",
              " 'ajit',\n",
              " 'akali',\n",
              " 'akash',\n",
              " 'akhil',\n",
              " 'akhilesh',\n",
              " 'akhlaq',\n",
              " 'akhtar',\n",
              " 'akola',\n",
              " 'akshay',\n",
              " 'al',\n",
              " 'alappuzha',\n",
              " 'alarm',\n",
              " 'alauddin',\n",
              " 'albeit',\n",
              " 'alcohol',\n",
              " 'alert',\n",
              " 'ali',\n",
              " 'alia',\n",
              " 'alien',\n",
              " 'aligarh',\n",
              " 'align',\n",
              " 'alik',\n",
              " 'aliv',\n",
              " 'alka',\n",
              " 'all',\n",
              " 'allah',\n",
              " 'allahabad',\n",
              " 'allay',\n",
              " 'alleg',\n",
              " 'allegi',\n",
              " 'alli',\n",
              " 'allianc',\n",
              " 'allindia',\n",
              " 'alloc',\n",
              " 'allopathi',\n",
              " 'allot',\n",
              " 'allow',\n",
              " 'allparti',\n",
              " 'alltim',\n",
              " 'almost',\n",
              " 'alok',\n",
              " 'alon',\n",
              " 'along',\n",
              " 'alongsid',\n",
              " 'alpha',\n",
              " 'alreadi',\n",
              " 'also',\n",
              " 'altaf',\n",
              " 'alter',\n",
              " 'alterc',\n",
              " 'altern',\n",
              " 'although',\n",
              " 'altitud',\n",
              " 'altogeth',\n",
              " 'aluminium',\n",
              " 'alwar',\n",
              " 'alway',\n",
              " 'am',\n",
              " 'amalgam',\n",
              " 'aman',\n",
              " 'amar',\n",
              " 'amarind',\n",
              " 'amarnath',\n",
              " 'amaz',\n",
              " 'amazon',\n",
              " 'ambani',\n",
              " 'ambassador',\n",
              " 'ambedkar',\n",
              " 'ambit',\n",
              " 'ambiti',\n",
              " 'ambival',\n",
              " 'ambul',\n",
              " 'ambush',\n",
              " 'amc',\n",
              " 'amen',\n",
              " 'amend',\n",
              " 'america',\n",
              " 'american',\n",
              " 'amethi',\n",
              " 'amic',\n",
              " 'amid',\n",
              " 'amidst',\n",
              " 'amir',\n",
              " 'amit',\n",
              " 'ammunit',\n",
              " 'among',\n",
              " 'amongst',\n",
              " 'amount',\n",
              " 'amplifi',\n",
              " 'amrit',\n",
              " 'amritsar',\n",
              " 'amsterdam',\n",
              " 'amu',\n",
              " 'amus',\n",
              " 'an',\n",
              " 'analys',\n",
              " 'analysi',\n",
              " 'analyst',\n",
              " 'analyt',\n",
              " 'anand',\n",
              " 'anant',\n",
              " 'ananth',\n",
              " 'anantnag',\n",
              " 'ancestor',\n",
              " 'ancestr',\n",
              " 'ancient',\n",
              " 'and',\n",
              " 'anderson',\n",
              " 'andheri',\n",
              " 'andhra',\n",
              " 'andolan',\n",
              " 'andor',\n",
              " 'android',\n",
              " 'anganwadi',\n",
              " 'angela',\n",
              " 'anger',\n",
              " 'angl',\n",
              " 'angri',\n",
              " 'anguish',\n",
              " 'ani',\n",
              " 'anil',\n",
              " 'anim',\n",
              " 'aninewsup',\n",
              " 'anita',\n",
              " 'ankl',\n",
              " 'anna',\n",
              " 'annadurai',\n",
              " 'annex',\n",
              " 'anni',\n",
              " 'anniversari',\n",
              " 'announc',\n",
              " 'annoy',\n",
              " 'annual',\n",
              " 'annum',\n",
              " 'anonym',\n",
              " 'anoth',\n",
              " 'answer',\n",
              " 'ant',\n",
              " 'anthropogen',\n",
              " 'anti',\n",
              " 'antibjp',\n",
              " 'anticip',\n",
              " 'antidalit',\n",
              " 'antifarm',\n",
              " 'antigovern',\n",
              " 'antiindia',\n",
              " 'antin',\n",
              " 'antipeopl',\n",
              " 'antisoci',\n",
              " 'antitank',\n",
              " 'antiterror',\n",
              " 'anu',\n",
              " 'anubhav',\n",
              " 'anuj',\n",
              " 'anurag',\n",
              " 'anxieti',\n",
              " 'anxious',\n",
              " 'anybodi',\n",
              " 'anymor',\n",
              " 'anyon',\n",
              " 'anyth',\n",
              " 'anytim',\n",
              " 'anyway',\n",
              " 'anywher',\n",
              " 'apach',\n",
              " 'apart',\n",
              " 'apathi',\n",
              " 'apex',\n",
              " 'apollo',\n",
              " 'apolog',\n",
              " 'apologis',\n",
              " 'app',\n",
              " 'appar',\n",
              " 'appeal',\n",
              " 'appear',\n",
              " 'appeas',\n",
              " 'appel',\n",
              " 'appl',\n",
              " 'appli',\n",
              " 'applic',\n",
              " 'appoint',\n",
              " 'apprais',\n",
              " 'appreci',\n",
              " 'apprehend',\n",
              " 'apprehens',\n",
              " 'appris',\n",
              " 'approach',\n",
              " 'appropri',\n",
              " 'approv',\n",
              " 'approxim',\n",
              " 'april',\n",
              " 'aprilmay',\n",
              " 'aquacultur',\n",
              " 'aquat',\n",
              " 'aquif',\n",
              " 'ar',\n",
              " 'arab',\n",
              " 'arabia',\n",
              " 'arabian',\n",
              " 'arbitr',\n",
              " 'arbitrari',\n",
              " 'archaeolog',\n",
              " 'architect',\n",
              " 'architectur',\n",
              " 'archiv',\n",
              " 'are',\n",
              " 'area',\n",
              " 'aren',\n",
              " 'arena',\n",
              " 'argentina',\n",
              " 'argu',\n",
              " 'argument',\n",
              " 'arid',\n",
              " 'ariel',\n",
              " 'aris',\n",
              " 'arjun',\n",
              " 'arlington',\n",
              " 'arm',\n",
              " 'armi',\n",
              " 'armour',\n",
              " 'army',\n",
              " 'arnia',\n",
              " 'arora',\n",
              " 'around',\n",
              " 'arrang',\n",
              " 'arrear',\n",
              " 'arrest',\n",
              " 'arriv',\n",
              " 'arrog',\n",
              " 'arrow',\n",
              " 'arson',\n",
              " 'art',\n",
              " 'arteri',\n",
              " 'articl',\n",
              " 'articleguid',\n",
              " 'artifici',\n",
              " 'artilleri',\n",
              " 'artist',\n",
              " 'arun',\n",
              " 'arunach',\n",
              " 'arvind',\n",
              " 'arvindkejriw',\n",
              " 'as',\n",
              " 'asaduddin',\n",
              " 'asc',\n",
              " 'ascertain',\n",
              " 'asean',\n",
              " 'asg',\n",
              " 'asghar',\n",
              " 'asha',\n",
              " 'asham',\n",
              " 'ashish',\n",
              " 'ashok',\n",
              " 'ashoka',\n",
              " 'ashraf',\n",
              " 'ashram',\n",
              " 'ashutosh',\n",
              " 'ashwin',\n",
              " 'ashwini',\n",
              " 'asi',\n",
              " 'asia',\n",
              " 'asian',\n",
              " 'asid',\n",
              " 'asif',\n",
              " 'ask',\n",
              " 'asp',\n",
              " 'aspect',\n",
              " 'aspers',\n",
              " 'asphyxi',\n",
              " 'aspir',\n",
              " 'assad',\n",
              " 'assail',\n",
              " 'assam',\n",
              " 'assassin',\n",
              " 'assault',\n",
              " 'assembl',\n",
              " 'assert',\n",
              " 'assess',\n",
              " 'asset',\n",
              " 'assign',\n",
              " 'assist',\n",
              " 'associ',\n",
              " 'assuag',\n",
              " 'assum',\n",
              " 'assumpt',\n",
              " 'assur',\n",
              " 'at',\n",
              " 'atal',\n",
              " 'atc',\n",
              " 'ate',\n",
              " 'atin',\n",
              " 'atm',\n",
              " 'atmospher',\n",
              " 'atom',\n",
              " 'atop',\n",
              " 'atroc',\n",
              " 'attach',\n",
              " 'attack',\n",
              " 'attain',\n",
              " 'attempt',\n",
              " 'attend',\n",
              " 'attent',\n",
              " 'attir',\n",
              " 'attitud',\n",
              " 'attorney',\n",
              " 'attract',\n",
              " 'attribut',\n",
              " 'atul',\n",
              " 'auction',\n",
              " 'audienc',\n",
              " 'audit',\n",
              " 'auditor',\n",
              " 'auditorium',\n",
              " 'aug',\n",
              " 'augment',\n",
              " 'august',\n",
              " 'aunt',\n",
              " 'aur',\n",
              " 'aurangabad',\n",
              " 'australia',\n",
              " 'australian',\n",
              " 'authent',\n",
              " 'author',\n",
              " 'authoris',\n",
              " 'auto',\n",
              " 'autogener',\n",
              " 'autom',\n",
              " 'automat',\n",
              " 'automobil',\n",
              " 'automot',\n",
              " 'autonom',\n",
              " 'autonomi',\n",
              " 'autopsi',\n",
              " 'autorickshaw',\n",
              " 'avail',\n",
              " 'aveng',\n",
              " 'avenu',\n",
              " 'averag',\n",
              " 'avert',\n",
              " 'aviat',\n",
              " 'avid',\n",
              " 'avinash',\n",
              " 'aviv',\n",
              " 'avni',\n",
              " 'avoid',\n",
              " 'awadhi',\n",
              " 'await',\n",
              " 'awar',\n",
              " 'award',\n",
              " 'away',\n",
              " 'axe',\n",
              " 'ayodhya',\n",
              " 'ayurveda',\n",
              " 'ayush',\n",
              " 'ayyakannu',\n",
              " 'azad',\n",
              " 'azamgarh',\n",
              " 'azhar',\n",
              " 'baat',\n",
              " 'baba',\n",
              " 'babbar',\n",
              " 'babi',\n",
              " 'babu',\n",
              " 'bachao',\n",
              " 'bachno',\n",
              " 'back',\n",
              " 'backbon',\n",
              " 'backdrop',\n",
              " 'backer',\n",
              " 'background',\n",
              " 'backtoback',\n",
              " 'backward',\n",
              " 'bacteria',\n",
              " 'bad',\n",
              " 'badal',\n",
              " 'badrinath',\n",
              " 'bag',\n",
              " 'bagalkot',\n",
              " 'bagh',\n",
              " 'baghel',\n",
              " 'bahadur',\n",
              " 'bahujan',\n",
              " 'bai',\n",
              " 'baijal',\n",
              " 'bail',\n",
              " 'bait',\n",
              " 'bajra',\n",
              " 'bajrang',\n",
              " 'baker',\n",
              " 'balaghat',\n",
              " 'balanc',\n",
              " 'balconi',\n",
              " 'balewadi',\n",
              " 'bali',\n",
              " 'ball',\n",
              " 'ballari',\n",
              " 'baloch',\n",
              " 'balochistan',\n",
              " 'bamboo',\n",
              " 'ban',\n",
              " 'banana',\n",
              " 'banaskantha',\n",
              " 'band',\n",
              " 'banda',\n",
              " 'bandh',\n",
              " 'bandra',\n",
              " 'banduri',\n",
              " 'baner',\n",
              " 'banerje',\n",
              " 'bangalor',\n",
              " 'bangkok',\n",
              " 'bangladesh',\n",
              " 'bangladeshi',\n",
              " 'bank',\n",
              " 'banker',\n",
              " 'bankruptci',\n",
              " 'banner',\n",
              " 'bar',\n",
              " 'barabanki',\n",
              " 'baramulla',\n",
              " 'barb',\n",
              " 'barbar',\n",
              " 'bare',\n",
              " 'barg',\n",
              " 'bargain',\n",
              " 'barley',\n",
              " 'baroda',\n",
              " 'baron',\n",
              " 'barrag',\n",
              " 'barren',\n",
              " 'barricad',\n",
              " 'barrier',\n",
              " 'basavaraj',\n",
              " 'base',\n",
              " 'baseless',\n",
              " 'basement',\n",
              " 'bashir',\n",
              " 'basi',\n",
              " 'basic',\n",
              " 'basin',\n",
              " 'basket',\n",
              " 'basti',\n",
              " 'bastion',\n",
              " 'bat',\n",
              " 'batch',\n",
              " 'bath',\n",
              " 'bathinda',\n",
              " 'bathroom',\n",
              " 'baton',\n",
              " 'batoncharg',\n",
              " 'battalion',\n",
              " 'batter',\n",
              " 'batteri',\n",
              " 'battl',\n",
              " 'battlefield',\n",
              " 'bauxit',\n",
              " 'bawana',\n",
              " 'bay',\n",
              " 'bazaar',\n",
              " 'bbc',\n",
              " 'bbm',\n",
              " 'bbmp',\n",
              " 'bda',\n",
              " 'be',\n",
              " 'beach',\n",
              " 'bean',\n",
              " 'bear',\n",
              " 'beard',\n",
              " 'bearer',\n",
              " 'beast',\n",
              " 'beat',\n",
              " 'beaten',\n",
              " 'beauti',\n",
              " 'becam',\n",
              " 'becaus',\n",
              " 'becom',\n",
              " 'bed',\n",
              " 'bedroom',\n",
              " 'beed',\n",
              " 'beef',\n",
              " 'befit',\n",
              " 'befor',\n",
              " 'beg',\n",
              " 'began',\n",
              " 'beggar',\n",
              " 'begin',\n",
              " 'begun',\n",
              " 'behalf',\n",
              " 'behav',\n",
              " 'behaviour',\n",
              " 'behead',\n",
              " 'behest',\n",
              " 'behind',\n",
              " 'beij',\n",
              " 'belagavi',\n",
              " 'belapur',\n",
              " 'belief',\n",
              " 'believ',\n",
              " 'bell',\n",
              " 'bellandur',\n",
              " 'bellari',\n",
              " 'belliger',\n",
              " 'belong',\n",
              " 'belowventuno',\n",
              " 'belt',\n",
              " 'bench',\n",
              " 'benchmark',\n",
              " 'bend',\n",
              " 'beneath',\n",
              " 'benefici',\n",
              " 'beneficiari',\n",
              " 'benefit',\n",
              " 'bengal',\n",
              " 'bengali',\n",
              " 'bengaluru',\n",
              " 'benjamin',\n",
              " 'bereav',\n",
              " 'besid',\n",
              " 'besot',\n",
              " 'best',\n",
              " 'bet',\n",
              " 'betray',\n",
              " 'better',\n",
              " 'beverag',\n",
              " 'beyond',\n",
              " 'bhagalpur',\n",
              " 'bhagat',\n",
              " 'bhagwan',\n",
              " 'bhagwant',\n",
              " 'bhagwat',\n",
              " 'bhalerao',\n",
              " 'bhandup',\n",
              " 'bhansali',\n",
              " 'bhansaliã',\n",
              " 'bharat',\n",
              " 'bharata',\n",
              " 'bharati',\n",
              " 'bharatiya',\n",
              " 'bharatpur',\n",
              " 'bhardwaj',\n",
              " 'bharipa',\n",
              " 'bharti',\n",
              " 'bhartiya',\n",
              " 'bhaskar',\n",
              " 'bhat',\n",
              " 'bhatia',\n",
              " 'bhatt',\n",
              " 'bhavan',\n",
              " 'bhawan',\n",
              " 'bheem',\n",
              " 'bhide',\n",
              " 'bhilwara',\n",
              " 'bhim',\n",
              " 'bhima',\n",
              " 'bhimakoregaon',\n",
              " 'bhimakoregaonviol',\n",
              " 'bhimgad',\n",
              " 'bhogi',\n",
              " 'bhola',\n",
              " 'bhondsi',\n",
              " 'bhopal',\n",
              " 'bhubaneswar',\n",
              " 'bhullar',\n",
              " 'bhumika',\n",
              " 'bhupendra',\n",
              " 'bhushan',\n",
              " 'bhutan',\n",
              " 'bhutanes',\n",
              " 'bi',\n",
              " 'bias',\n",
              " 'bibi',\n",
              " 'bibl',\n",
              " 'bicentenari',\n",
              " 'bicker',\n",
              " 'bid',\n",
              " 'bidder',\n",
              " 'big',\n",
              " 'bigger',\n",
              " 'biggest',\n",
              " 'bihar',\n",
              " 'bihari',\n",
              " 'biju',\n",
              " 'bijwasan',\n",
              " 'bike',\n",
              " 'bilal',\n",
              " 'bilater',\n",
              " 'bill',\n",
              " 'billboard',\n",
              " 'billion',\n",
              " 'billionair',\n",
              " 'bima',\n",
              " 'bin',\n",
              " 'bind',\n",
              " 'bindi',\n",
              " 'bineesh',\n",
              " 'bio',\n",
              " 'biodivers',\n",
              " 'biolog',\n",
              " 'biologist',\n",
              " 'biomass',\n",
              " 'biometr',\n",
              " 'bipin',\n",
              " 'bird',\n",
              " 'birla',\n",
              " 'birmingham',\n",
              " 'birth',\n",
              " 'birthday',\n",
              " 'birthplac',\n",
              " 'biscuit',\n",
              " 'bish',\n",
              " 'bishop',\n",
              " 'biswa',\n",
              " 'bit',\n",
              " 'bitcoin',\n",
              " 'bite',\n",
              " 'bitten',\n",
              " 'bitter',\n",
              " 'bizarr',\n",
              " 'bjd',\n",
              " 'bjp',\n",
              " 'bjpled',\n",
              " 'bjprss',\n",
              " 'bjprule',\n",
              " 'bjps',\n",
              " 'bjpã',\n",
              " 'bku',\n",
              " 'bl',\n",
              " 'black',\n",
              " 'blacksmith',\n",
              " 'blair',\n",
              " 'blame',\n",
              " 'blank',\n",
              " 'blanket',\n",
              " 'blast',\n",
              " 'blatant',\n",
              " 'blaze',\n",
              " 'bleed',\n",
              " 'bless',\n",
              " 'blew',\n",
              " 'blind',\n",
              " 'blister',\n",
              " 'bloc',\n",
              " 'block',\n",
              " 'blockad',\n",
              " 'blog',\n",
              " 'blood',\n",
              " 'bloodi',\n",
              " 'bloomberg',\n",
              " 'blow',\n",
              " 'bludgeon',\n",
              " 'blue',\n",
              " 'bluff',\n",
              " 'blunder',\n",
              " 'blunt',\n",
              " 'bmc',\n",
              " 'boar',\n",
              " 'board',\n",
              " 'boast',\n",
              " 'boat',\n",
              " 'bode',\n",
              " 'bodi',\n",
              " 'bodla',\n",
              " 'bollywood',\n",
              " 'bolster',\n",
              " 'bomb',\n",
              " 'bombay',\n",
              " 'bond',\n",
              " 'bone',\n",
              " 'bonus',\n",
              " 'book',\n",
              " 'boom',\n",
              " 'boost',\n",
              " 'boot',\n",
              " 'booth',\n",
              " 'bop',\n",
              " 'borawak',\n",
              " 'border',\n",
              " 'bore',\n",
              " 'borewel',\n",
              " 'born',\n",
              " 'borrow',\n",
              " 'bose',\n",
              " 'boss',\n",
              " 'bot',\n",
              " 'both',\n",
              " 'bother',\n",
              " 'bottl',\n",
              " 'bottom',\n",
              " 'bought',\n",
              " 'boulder',\n",
              " 'bound',\n",
              " 'boundari',\n",
              " 'bounti',\n",
              " 'bovin',\n",
              " 'bow',\n",
              " 'bowl',\n",
              " 'box',\n",
              " 'boy',\n",
              " 'boycot',\n",
              " 'boycott',\n",
              " 'bracket',\n",
              " 'brahmaputra',\n",
              " 'brahmin',\n",
              " 'brain',\n",
              " 'brake',\n",
              " 'branch',\n",
              " 'brand',\n",
              " 'brandish',\n",
              " 'brave',\n",
              " 'brazil',\n",
              " 'breach',\n",
              " 'bread',\n",
              " 'break',\n",
              " 'breath',\n",
              " 'breed',\n",
              " 'brethren',\n",
              " 'brew',\n",
              " 'bribe',\n",
              " 'brick',\n",
              " 'bride',\n",
              " 'bridg',\n",
              " 'brief',\n",
              " 'briefli',\n",
              " 'brigad',\n",
              " 'bright',\n",
              " 'brihanmumbai',\n",
              " 'brilliant',\n",
              " 'bring',\n",
              " 'britain',\n",
              " ...]"
            ]
          },
          "metadata": {
            "tags": []
          },
          "execution_count": 47
        }
      ]
    },
    {
      "cell_type": "markdown",
      "metadata": {
        "id": "7JL5-IkO6bgK",
        "colab_type": "text"
      },
      "source": [
        "### converting data into vectors using BOW bigram"
      ]
    },
    {
      "cell_type": "code",
      "metadata": {
        "id": "EClHVkrk4Sdo",
        "colab_type": "code",
        "colab": {}
      },
      "source": [
        "bigram_count_vect = CountVectorizer(ngram_range=(1,2), min_df=8, max_features=10000)\n",
        "bigram_xtrain_vect = bigram_count_vect.\\\n",
        "fit_transform(train_df.stemmed_articles)\n",
        "\n",
        "bigram_xtest_vect = bigram_count_vect.transform(test_df.stemmed_articles)"
      ],
      "execution_count": 0,
      "outputs": []
    },
    {
      "cell_type": "code",
      "metadata": {
        "id": "BpL5f-YmQpM0",
        "colab_type": "code",
        "outputId": "331c70be-3527-429c-8c95-393cbcd830db",
        "colab": {
          "base_uri": "https://localhost:8080/",
          "height": 34
        }
      },
      "source": [
        "bigram_xtrain_vect.shape, bigram_xtest_vect.shape"
      ],
      "execution_count": 0,
      "outputs": [
        {
          "output_type": "execute_result",
          "data": {
            "text/plain": [
              "((2513, 10000), (629, 10000))"
            ]
          },
          "metadata": {
            "tags": []
          },
          "execution_count": 49
        }
      ]
    },
    {
      "cell_type": "code",
      "metadata": {
        "id": "nHPrrJL1QuMv",
        "colab_type": "code",
        "outputId": "bd13c2e9-cbbd-4e1d-fcce-e9a915cc7f5f",
        "colab": {
          "base_uri": "https://localhost:8080/",
          "height": 283
        }
      },
      "source": [
        "bigram_count_vect.get_feature_names()[:15]"
      ],
      "execution_count": 0,
      "outputs": [
        {
          "output_type": "execute_result",
          "data": {
            "text/plain": [
              "['000',\n",
              " '000 crore',\n",
              " '000 farmer',\n",
              " '000 peopl',\n",
              " '000 per',\n",
              " '100',\n",
              " '120',\n",
              " '130',\n",
              " '144',\n",
              " '150',\n",
              " '160',\n",
              " '180',\n",
              " '1818',\n",
              " '200',\n",
              " '200 year']"
            ]
          },
          "metadata": {
            "tags": []
          },
          "execution_count": 50
        }
      ]
    },
    {
      "cell_type": "markdown",
      "metadata": {
        "id": "yTuKYPfdRBki",
        "colab_type": "text"
      },
      "source": [
        "## TFIDF"
      ]
    },
    {
      "cell_type": "markdown",
      "metadata": {
        "id": "mWISjv9JRHUD",
        "colab_type": "text"
      },
      "source": [
        "### converting data into vectors using TF-IDF unigram"
      ]
    },
    {
      "cell_type": "code",
      "metadata": {
        "id": "NZ61EcWIQzAm",
        "colab_type": "code",
        "colab": {}
      },
      "source": [
        "tfidf_uni = TfidfVectorizer(min_df=5, max_features=10000)\n",
        "tfidf_uni_xtrain_vect = tfidf_uni.\\\n",
        "fit_transform(train_df.stemmed_articles)\n",
        "\n",
        "tfidf_uni_xtest_vect = tfidf_uni.transform(test_df.stemmed_articles)"
      ],
      "execution_count": 0,
      "outputs": []
    },
    {
      "cell_type": "code",
      "metadata": {
        "id": "LYBYwGhBRQXj",
        "colab_type": "code",
        "outputId": "98ffe816-9722-4664-b636-5abf29c75cfb",
        "colab": {
          "base_uri": "https://localhost:8080/",
          "height": 34
        }
      },
      "source": [
        "print(tfidf_uni_xtrain_vect.shape, tfidf_uni_xtest_vect.shape)"
      ],
      "execution_count": 0,
      "outputs": [
        {
          "output_type": "stream",
          "text": [
            "(2513, 7817) (629, 7817)\n"
          ],
          "name": "stdout"
        }
      ]
    },
    {
      "cell_type": "markdown",
      "metadata": {
        "id": "c_TtWd-nRY9C",
        "colab_type": "text"
      },
      "source": [
        "### converting data into vectors using TF-IDF bigram"
      ]
    },
    {
      "cell_type": "code",
      "metadata": {
        "id": "MSBzjhObRTB0",
        "colab_type": "code",
        "colab": {}
      },
      "source": [
        "tfidf = TfidfVectorizer(ngram_range=(1,2), min_df=5, max_features=10000)\n",
        "tfidf_xtrain_vect = tfidf.\\\n",
        "fit_transform(train_df.stemmed_articles)\n",
        "\n",
        "tfidf_xtest_vect = tfidf.transform(test_df.stemmed_articles)"
      ],
      "execution_count": 0,
      "outputs": []
    },
    {
      "cell_type": "code",
      "metadata": {
        "id": "nBlXPT2zRhWp",
        "colab_type": "code",
        "outputId": "cbb85895-09b0-4d9f-d290-3feb04ba5688",
        "colab": {
          "base_uri": "https://localhost:8080/",
          "height": 34
        }
      },
      "source": [
        "print(tfidf_xtrain_vect.shape, tfidf_xtest_vect.shape)"
      ],
      "execution_count": 0,
      "outputs": [
        {
          "output_type": "stream",
          "text": [
            "(2513, 10000) (629, 10000)\n"
          ],
          "name": "stdout"
        }
      ]
    },
    {
      "cell_type": "markdown",
      "metadata": {
        "id": "0Gdne0RURsVd",
        "colab_type": "text"
      },
      "source": [
        "### converting data into vectors using TF-IDF trigram"
      ]
    },
    {
      "cell_type": "code",
      "metadata": {
        "id": "ObUjIwxsRkPa",
        "colab_type": "code",
        "colab": {}
      },
      "source": [
        "tfidf_tri = TfidfVectorizer(ngram_range=(1,3), min_df=5, max_features=10000)\n",
        "tfidf_tri_xtrain_vect = tfidf_tri.\\\n",
        "fit_transform(train_df.stemmed_articles)\n",
        "\n",
        "tfidf_tri_xtest_vect = tfidf_tri.transform(test_df.stemmed_articles)"
      ],
      "execution_count": 0,
      "outputs": []
    },
    {
      "cell_type": "code",
      "metadata": {
        "id": "RRdyC0IBR0Rz",
        "colab_type": "code",
        "outputId": "841209c4-a7bc-4f1c-8aa4-86833ebec8d7",
        "colab": {
          "base_uri": "https://localhost:8080/",
          "height": 34
        }
      },
      "source": [
        "print(tfidf_tri_xtrain_vect.shape, tfidf_tri_xtest_vect.shape)"
      ],
      "execution_count": 0,
      "outputs": [
        {
          "output_type": "stream",
          "text": [
            "(2513, 10000) (629, 10000)\n"
          ],
          "name": "stdout"
        }
      ]
    },
    {
      "cell_type": "code",
      "metadata": {
        "id": "Gas7V-ZbR2zh",
        "colab_type": "code",
        "colab": {}
      },
      "source": [
        "from sklearn.model_selection import GridSearchCV\n",
        "from sklearn.metrics import make_scorer\n",
        "from sklearn.metrics import roc_auc_score\n",
        "from sklearn.linear_model import LogisticRegression\n",
        "from sklearn.metrics import precision_recall_fscore_support\n",
        "from sklearn.calibration import CalibratedClassifierCV"
      ],
      "execution_count": 0,
      "outputs": []
    },
    {
      "cell_type": "markdown",
      "metadata": {
        "id": "SpgCwX3ASnhr",
        "colab_type": "text"
      },
      "source": [
        "## Applying Logistic regression on BOW unigram,"
      ]
    },
    {
      "cell_type": "code",
      "metadata": {
        "id": "mmJBWHCyXM7Q",
        "colab_type": "code",
        "colab": {}
      },
      "source": [
        "inverse_lambda = list(np.logspace(np.log(0.00005), np.log(10000), base = np.exp(1), num = 20))"
      ],
      "execution_count": 0,
      "outputs": []
    },
    {
      "cell_type": "code",
      "metadata": {
        "id": "xxtwZGdOMsEm",
        "colab_type": "code",
        "outputId": "1c9b0680-e412-4272-fe68-d2765891ddf8",
        "colab": {
          "base_uri": "https://localhost:8080/",
          "height": 197
        }
      },
      "source": [
        "final_df.head()"
      ],
      "execution_count": 0,
      "outputs": [
        {
          "output_type": "execute_result",
          "data": {
            "text/html": [
              "<div>\n",
              "<style scoped>\n",
              "    .dataframe tbody tr th:only-of-type {\n",
              "        vertical-align: middle;\n",
              "    }\n",
              "\n",
              "    .dataframe tbody tr th {\n",
              "        vertical-align: top;\n",
              "    }\n",
              "\n",
              "    .dataframe thead th {\n",
              "        text-align: right;\n",
              "    }\n",
              "</style>\n",
              "<table border=\"1\" class=\"dataframe\">\n",
              "  <thead>\n",
              "    <tr style=\"text-align: right;\">\n",
              "      <th></th>\n",
              "      <th>class</th>\n",
              "      <th>text</th>\n",
              "      <th>article_length</th>\n",
              "      <th>stemmed_articles</th>\n",
              "    </tr>\n",
              "  </thead>\n",
              "  <tbody>\n",
              "    <tr>\n",
              "      <th>0</th>\n",
              "      <td>negative</td>\n",
              "      <td>Agartala Tripura India January  ANI Bharatiya ...</td>\n",
              "      <td>1519</td>\n",
              "      <td>agartala tripura india januari ani bharatiya j...</td>\n",
              "    </tr>\n",
              "    <tr>\n",
              "      <th>1</th>\n",
              "      <td>negative</td>\n",
              "      <td>A civil disobedience is underway in the suprem...</td>\n",
              "      <td>9090</td>\n",
              "      <td>civil disobedi underway suprem court india it ...</td>\n",
              "    </tr>\n",
              "    <tr>\n",
              "      <th>2</th>\n",
              "      <td>negative</td>\n",
              "      <td>By Lalit K JhaWashington Jan  PTI The Trump ad...</td>\n",
              "      <td>2064</td>\n",
              "      <td>lalit jhawashington jan pti trump administr qu...</td>\n",
              "    </tr>\n",
              "    <tr>\n",
              "      <th>3</th>\n",
              "      <td>positive</td>\n",
              "      <td>Rashtriya Swayamsevak Sangh chief Mohan Bhagwa...</td>\n",
              "      <td>2798</td>\n",
              "      <td>rashtriya swayamsevak sangh chief mohan bhagwa...</td>\n",
              "    </tr>\n",
              "    <tr>\n",
              "      <th>4</th>\n",
              "      <td>negative</td>\n",
              "      <td>New Delhi Jan  PTI A yearold doctor hailing fr...</td>\n",
              "      <td>693</td>\n",
              "      <td>new delhi jan pti yearold doctor hail tamil na...</td>\n",
              "    </tr>\n",
              "  </tbody>\n",
              "</table>\n",
              "</div>"
            ],
            "text/plain": [
              "      class  ...                                   stemmed_articles\n",
              "0  negative  ...  agartala tripura india januari ani bharatiya j...\n",
              "1  negative  ...  civil disobedi underway suprem court india it ...\n",
              "2  negative  ...  lalit jhawashington jan pti trump administr qu...\n",
              "3  positive  ...  rashtriya swayamsevak sangh chief mohan bhagwa...\n",
              "4  negative  ...  new delhi jan pti yearold doctor hail tamil na...\n",
              "\n",
              "[5 rows x 4 columns]"
            ]
          },
          "metadata": {
            "tags": []
          },
          "execution_count": 59
        }
      ]
    },
    {
      "cell_type": "code",
      "metadata": {
        "id": "jqtBcgJIOiH6",
        "colab_type": "code",
        "colab": {}
      },
      "source": [
        "final_df = final_df.rename(columns={'class':'class_label'})"
      ],
      "execution_count": 0,
      "outputs": []
    },
    {
      "cell_type": "code",
      "metadata": {
        "id": "MlQggwJdM-jh",
        "colab_type": "code",
        "colab": {}
      },
      "source": [
        "final_df['class'] = final_df['class_label'].apply(lambda x: 1 if x == 'positive' else 0)"
      ],
      "execution_count": 0,
      "outputs": []
    },
    {
      "cell_type": "code",
      "metadata": {
        "id": "x5NMUnoKO_aF",
        "colab_type": "code",
        "outputId": "f247592d-a45e-4a39-bd26-85502a39de4c",
        "colab": {
          "base_uri": "https://localhost:8080/",
          "height": 197
        }
      },
      "source": [
        "final_df.head()"
      ],
      "execution_count": 0,
      "outputs": [
        {
          "output_type": "execute_result",
          "data": {
            "text/html": [
              "<div>\n",
              "<style scoped>\n",
              "    .dataframe tbody tr th:only-of-type {\n",
              "        vertical-align: middle;\n",
              "    }\n",
              "\n",
              "    .dataframe tbody tr th {\n",
              "        vertical-align: top;\n",
              "    }\n",
              "\n",
              "    .dataframe thead th {\n",
              "        text-align: right;\n",
              "    }\n",
              "</style>\n",
              "<table border=\"1\" class=\"dataframe\">\n",
              "  <thead>\n",
              "    <tr style=\"text-align: right;\">\n",
              "      <th></th>\n",
              "      <th>class_label</th>\n",
              "      <th>text</th>\n",
              "      <th>article_length</th>\n",
              "      <th>stemmed_articles</th>\n",
              "      <th>class</th>\n",
              "    </tr>\n",
              "  </thead>\n",
              "  <tbody>\n",
              "    <tr>\n",
              "      <th>0</th>\n",
              "      <td>negative</td>\n",
              "      <td>Agartala Tripura India January  ANI Bharatiya ...</td>\n",
              "      <td>1519</td>\n",
              "      <td>agartala tripura india januari ani bharatiya j...</td>\n",
              "      <td>0</td>\n",
              "    </tr>\n",
              "    <tr>\n",
              "      <th>1</th>\n",
              "      <td>negative</td>\n",
              "      <td>A civil disobedience is underway in the suprem...</td>\n",
              "      <td>9090</td>\n",
              "      <td>civil disobedi underway suprem court india it ...</td>\n",
              "      <td>0</td>\n",
              "    </tr>\n",
              "    <tr>\n",
              "      <th>2</th>\n",
              "      <td>negative</td>\n",
              "      <td>By Lalit K JhaWashington Jan  PTI The Trump ad...</td>\n",
              "      <td>2064</td>\n",
              "      <td>lalit jhawashington jan pti trump administr qu...</td>\n",
              "      <td>0</td>\n",
              "    </tr>\n",
              "    <tr>\n",
              "      <th>3</th>\n",
              "      <td>positive</td>\n",
              "      <td>Rashtriya Swayamsevak Sangh chief Mohan Bhagwa...</td>\n",
              "      <td>2798</td>\n",
              "      <td>rashtriya swayamsevak sangh chief mohan bhagwa...</td>\n",
              "      <td>1</td>\n",
              "    </tr>\n",
              "    <tr>\n",
              "      <th>4</th>\n",
              "      <td>negative</td>\n",
              "      <td>New Delhi Jan  PTI A yearold doctor hailing fr...</td>\n",
              "      <td>693</td>\n",
              "      <td>new delhi jan pti yearold doctor hail tamil na...</td>\n",
              "      <td>0</td>\n",
              "    </tr>\n",
              "  </tbody>\n",
              "</table>\n",
              "</div>"
            ],
            "text/plain": [
              "  class_label  ... class\n",
              "0    negative  ...     0\n",
              "1    negative  ...     0\n",
              "2    negative  ...     0\n",
              "3    positive  ...     1\n",
              "4    negative  ...     0\n",
              "\n",
              "[5 rows x 5 columns]"
            ]
          },
          "metadata": {
            "tags": []
          },
          "execution_count": 62
        }
      ]
    },
    {
      "cell_type": "markdown",
      "metadata": {
        "id": "09qcIkYiSBOt",
        "colab_type": "text"
      },
      "source": [
        "* Lets create a pipiline to test all the ml models and see which is performing best for our case."
      ]
    },
    {
      "cell_type": "code",
      "metadata": {
        "id": "qtPq2WA_WKbH",
        "colab_type": "code",
        "colab": {}
      },
      "source": [
        "from sklearn.ensemble import RandomForestClassifier\n",
        "from sklearn.pipeline import Pipeline\n",
        "from sklearn.metrics import accuracy_score"
      ],
      "execution_count": 0,
      "outputs": []
    },
    {
      "cell_type": "code",
      "metadata": {
        "id": "9LqtHzE5xRBM",
        "colab_type": "code",
        "colab": {}
      },
      "source": [
        "def best_model(x_train, y_train, x_test, y_test):\n",
        "  pipe = Pipeline([('classifier' , RandomForestClassifier())])\n",
        "  param_grid = [\n",
        "                {'classifier' : [LogisticRegression()],\n",
        "                 'classifier__penalty' : ['l1', 'l2'],\n",
        "                 'classifier__C' : inverse_lambda,\n",
        "                 'classifier__class_weight' : [None, 'balanced'],\n",
        "                 'classifier__solver' : ['liblinear']},\n",
        "                 {'classifier' : [RandomForestClassifier()],\n",
        "                  'classifier__n_estimators' : list(range(10,300,10)),\n",
        "                  'classifier__max_features' : list(range(6,32,5))}\n",
        "                ]\n",
        "  clf = GridSearchCV(pipe, param_grid = param_grid, cv = 3, verbose=True, n_jobs=-1)\n",
        "  best_clf = clf.fit(x_train, y_train)\n",
        "  print(f'best estimator is {clf.best_estimator_}')\n",
        "\n",
        "  best_logreg_model = clf.best_params_['classifier']\n",
        "  best_logreg_model.fit(x_train, y_train)\n",
        "\n",
        "  unigram_predicts = best_logreg_model.predict(x_test)\n",
        "  cv_cm = pd.crosstab(y_test, unigram_predicts, rownames=[\"True Label\"], colnames=[\"predicted label\"])\n",
        "  print(\"confusion matrix on test data is:\")\n",
        "  print(cv_cm)\n",
        "  print(\" \")\n",
        "  print(\"classification report on test data is\")\n",
        "  print(classification_report(y_true=y_test, y_pred=unigram_predicts))\n",
        "\n",
        "  return best_logreg_model"
      ],
      "execution_count": 0,
      "outputs": []
    },
    {
      "cell_type": "code",
      "metadata": {
        "id": "73PHAOBb-9B2",
        "colab_type": "code",
        "colab": {}
      },
      "source": [
        "import pickle"
      ],
      "execution_count": 0,
      "outputs": []
    },
    {
      "cell_type": "code",
      "metadata": {
        "id": "KdIVRwP_1Kev",
        "colab_type": "code",
        "outputId": "0b8c884f-9c6d-4698-9c0e-a6184bed593e",
        "colab": {
          "base_uri": "https://localhost:8080/",
          "height": 585
        }
      },
      "source": [
        "unigram_best_model = best_model(x_train=unigram_xtrain_vect, y_train=train_df['class'], x_test=unigram_xtest_vect, y_test=test_df['class'])"
      ],
      "execution_count": 0,
      "outputs": [
        {
          "output_type": "stream",
          "text": [
            "Fitting 3 folds for each of 254 candidates, totalling 762 fits\n"
          ],
          "name": "stdout"
        },
        {
          "output_type": "stream",
          "text": [
            "[Parallel(n_jobs=-1)]: Using backend LokyBackend with 2 concurrent workers.\n",
            "[Parallel(n_jobs=-1)]: Done 104 tasks      | elapsed:    7.6s\n",
            "[Parallel(n_jobs=-1)]: Done 380 tasks      | elapsed:  1.9min\n",
            "[Parallel(n_jobs=-1)]: Done 630 tasks      | elapsed:  5.4min\n",
            "[Parallel(n_jobs=-1)]: Done 762 out of 762 | elapsed:  7.8min finished\n"
          ],
          "name": "stderr"
        },
        {
          "output_type": "stream",
          "text": [
            "best estimator is Pipeline(memory=None,\n",
            "         steps=[('classifier',\n",
            "                 LogisticRegression(C=0.15636535271414095, class_weight=None,\n",
            "                                    dual=False, fit_intercept=True,\n",
            "                                    intercept_scaling=1, l1_ratio=None,\n",
            "                                    max_iter=100, multi_class='warn',\n",
            "                                    n_jobs=None, penalty='l2',\n",
            "                                    random_state=None, solver='liblinear',\n",
            "                                    tol=0.0001, verbose=0, warm_start=False))],\n",
            "         verbose=False)\n",
            "confusion matrix on test data is:\n",
            "predicted label  negative  positive\n",
            "True Label                         \n",
            "negative              407         2\n",
            "positive               11       209\n",
            " \n",
            "classification report on test data is\n",
            "              precision    recall  f1-score   support\n",
            "\n",
            "    negative       0.97      1.00      0.98       409\n",
            "    positive       0.99      0.95      0.97       220\n",
            "\n",
            "    accuracy                           0.98       629\n",
            "   macro avg       0.98      0.97      0.98       629\n",
            "weighted avg       0.98      0.98      0.98       629\n",
            "\n"
          ],
          "name": "stdout"
        }
      ]
    },
    {
      "cell_type": "code",
      "metadata": {
        "id": "o4Ekk-8J-__8",
        "colab_type": "code",
        "colab": {}
      },
      "source": [
        "filename = 'log_uni_model.sav'\n",
        "pickle.dump(unigram_best_model, open(filename, 'wb'))"
      ],
      "execution_count": 0,
      "outputs": []
    },
    {
      "cell_type": "code",
      "metadata": {
        "id": "X95R4hluCNlw",
        "colab_type": "code",
        "colab": {}
      },
      "source": [
        "filename = 'count_vect_pickle.sav'\n",
        "pickle.dump(count_vect, open(filename, 'wb'))"
      ],
      "execution_count": 0,
      "outputs": []
    },
    {
      "cell_type": "code",
      "metadata": {
        "id": "V9895YINDhGe",
        "colab_type": "code",
        "colab": {}
      },
      "source": [
        "count_vect_loaded = pickle.load(open(filename, 'rb'))"
      ],
      "execution_count": 0,
      "outputs": []
    },
    {
      "cell_type": "code",
      "metadata": {
        "id": "pAvxZU47DsaZ",
        "colab_type": "code",
        "outputId": "abbdea7b-fb65-462d-8ce2-f4b13e873314",
        "colab": {
          "base_uri": "https://localhost:8080/",
          "height": 52
        }
      },
      "source": [
        "count_vect_loaded.transform([final_df['stemmed_articles'][982]])"
      ],
      "execution_count": 0,
      "outputs": [
        {
          "output_type": "execute_result",
          "data": {
            "text/plain": [
              "<1x7817 sparse matrix of type '<class 'numpy.int64'>'\n",
              "\twith 46 stored elements in Compressed Sparse Row format>"
            ]
          },
          "metadata": {
            "tags": []
          },
          "execution_count": 83
        }
      ]
    },
    {
      "cell_type": "code",
      "metadata": {
        "id": "dsGZiW7kBMle",
        "colab_type": "code",
        "outputId": "5a2d016a-6db2-448a-8fb8-069eedbf3fa8",
        "colab": {
          "base_uri": "https://localhost:8080/",
          "height": 34
        }
      },
      "source": [
        "unigram_best_model.predict(count_vect.transform([final_df['stemmed_articles'][982]]))"
      ],
      "execution_count": 0,
      "outputs": [
        {
          "output_type": "execute_result",
          "data": {
            "text/plain": [
              "array(['negative'], dtype=object)"
            ]
          },
          "metadata": {
            "tags": []
          },
          "execution_count": 75
        }
      ]
    },
    {
      "cell_type": "code",
      "metadata": {
        "id": "6oBPiEFg_7sD",
        "colab_type": "code",
        "outputId": "a07dbfdb-0bcb-48e4-850f-d5231531cdf7",
        "colab": {
          "base_uri": "https://localhost:8080/",
          "height": 34
        }
      },
      "source": [
        "os.getcwd()"
      ],
      "execution_count": 0,
      "outputs": [
        {
          "output_type": "execute_result",
          "data": {
            "text/plain": [
              "'/content/drive/My Drive/omdena_projects/environmental-conflict-tracker'"
            ]
          },
          "metadata": {
            "tags": []
          },
          "execution_count": 70
        }
      ]
    },
    {
      "cell_type": "markdown",
      "metadata": {
        "id": "yhFVtQjB3mKs",
        "colab_type": "text"
      },
      "source": [
        "## Now lets get the best model on bigrams Vectorizer"
      ]
    },
    {
      "cell_type": "code",
      "metadata": {
        "id": "Wb-4o27t3wy7",
        "colab_type": "code",
        "outputId": "c6dead4f-de79-4312-e290-9ebd8e93a409",
        "colab": {
          "base_uri": "https://localhost:8080/",
          "height": 603
        }
      },
      "source": [
        "bigram_best_model = best_model(x_train=bigram_xtrain_vect, y_train=train_df['class'], x_test=bigram_xtest_vect, y_test=test_df['class'])"
      ],
      "execution_count": 0,
      "outputs": [
        {
          "output_type": "stream",
          "text": [
            "Fitting 3 folds for each of 254 candidates, totalling 762 fits\n"
          ],
          "name": "stdout"
        },
        {
          "output_type": "stream",
          "text": [
            "[Parallel(n_jobs=-1)]: Using backend LokyBackend with 2 concurrent workers.\n",
            "[Parallel(n_jobs=-1)]: Done 110 tasks      | elapsed:    7.2s\n",
            "[Parallel(n_jobs=-1)]: Done 308 tasks      | elapsed:  1.1min\n",
            "[Parallel(n_jobs=-1)]: Done 558 tasks      | elapsed:  4.6min\n",
            "[Parallel(n_jobs=-1)]: Done 762 out of 762 | elapsed:  8.1min finished\n"
          ],
          "name": "stderr"
        },
        {
          "output_type": "stream",
          "text": [
            "best estimator is Pipeline(memory=None,\n",
            "         steps=[('classifier',\n",
            "                 LogisticRegression(C=0.15636535271414095,\n",
            "                                    class_weight='balanced', dual=False,\n",
            "                                    fit_intercept=True, intercept_scaling=1,\n",
            "                                    l1_ratio=None, max_iter=100,\n",
            "                                    multi_class='warn', n_jobs=None,\n",
            "                                    penalty='l2', random_state=None,\n",
            "                                    solver='liblinear', tol=0.0001, verbose=0,\n",
            "                                    warm_start=False))],\n",
            "         verbose=False)\n",
            "confusion matrix on test data is:\n",
            "predicted label  negative  positive\n",
            "True Label                         \n",
            "negative              404         5\n",
            "positive                4       216\n",
            " \n",
            "classification report on test data is\n",
            "              precision    recall  f1-score   support\n",
            "\n",
            "    negative       0.99      0.99      0.99       409\n",
            "    positive       0.98      0.98      0.98       220\n",
            "\n",
            "    accuracy                           0.99       629\n",
            "   macro avg       0.98      0.98      0.98       629\n",
            "weighted avg       0.99      0.99      0.99       629\n",
            "\n"
          ],
          "name": "stdout"
        }
      ]
    },
    {
      "cell_type": "markdown",
      "metadata": {
        "id": "7M9irKvC6-gf",
        "colab_type": "text"
      },
      "source": [
        "## Now lets get the best model on TFIDF unigram Vectorizer"
      ]
    },
    {
      "cell_type": "code",
      "metadata": {
        "id": "nGEit3JQ7VAq",
        "colab_type": "code",
        "outputId": "126011f6-9ce7-428e-b271-eda60a18ff62",
        "colab": {
          "base_uri": "https://localhost:8080/",
          "height": 585
        }
      },
      "source": [
        "tfidf_uni_best_model = best_model(x_train=tfidf_uni_xtrain_vect, y_train=train_df['class'], x_test=tfidf_uni_xtest_vect, y_test=test_df['class'])"
      ],
      "execution_count": 0,
      "outputs": [
        {
          "output_type": "stream",
          "text": [
            "Fitting 3 folds for each of 254 candidates, totalling 762 fits\n"
          ],
          "name": "stdout"
        },
        {
          "output_type": "stream",
          "text": [
            "[Parallel(n_jobs=-1)]: Using backend LokyBackend with 2 concurrent workers.\n",
            "[Parallel(n_jobs=-1)]: Done 188 tasks      | elapsed:    7.5s\n",
            "[Parallel(n_jobs=-1)]: Done 394 tasks      | elapsed:  1.9min\n",
            "[Parallel(n_jobs=-1)]: Done 644 tasks      | elapsed:  5.3min\n",
            "[Parallel(n_jobs=-1)]: Done 762 out of 762 | elapsed:  7.5min finished\n"
          ],
          "name": "stderr"
        },
        {
          "output_type": "stream",
          "text": [
            "best estimator is Pipeline(memory=None,\n",
            "         steps=[('classifier',\n",
            "                 LogisticRegression(C=23.912341624151296, class_weight=None,\n",
            "                                    dual=False, fit_intercept=True,\n",
            "                                    intercept_scaling=1, l1_ratio=None,\n",
            "                                    max_iter=100, multi_class='warn',\n",
            "                                    n_jobs=None, penalty='l2',\n",
            "                                    random_state=None, solver='liblinear',\n",
            "                                    tol=0.0001, verbose=0, warm_start=False))],\n",
            "         verbose=False)\n",
            "confusion matrix on test data is:\n",
            "predicted label  negative  positive\n",
            "True Label                         \n",
            "negative              406         3\n",
            "positive                6       214\n",
            " \n",
            "classification report on test data is\n",
            "              precision    recall  f1-score   support\n",
            "\n",
            "    negative       0.99      0.99      0.99       409\n",
            "    positive       0.99      0.97      0.98       220\n",
            "\n",
            "    accuracy                           0.99       629\n",
            "   macro avg       0.99      0.98      0.98       629\n",
            "weighted avg       0.99      0.99      0.99       629\n",
            "\n"
          ],
          "name": "stdout"
        }
      ]
    },
    {
      "cell_type": "code",
      "metadata": {
        "id": "VjodizLdGmOk",
        "colab_type": "code",
        "colab": {}
      },
      "source": [
        "# saving the model and vectorizer\n",
        "tfidf_uni_filename = 'log_tfidf_uni_model.sav'\n",
        "pickle.dump(tfidf_uni_best_model, open(tfidf_uni_filename, 'wb'))\n",
        "\n",
        "tfidf_uni_vectorizer_filename = 'tfidf_uni_pickle_vectorizer.sav'\n",
        "pickle.dump(tfidf_uni, open(tfidf_uni_vectorizer_filename, 'wb'))"
      ],
      "execution_count": 0,
      "outputs": []
    },
    {
      "cell_type": "code",
      "metadata": {
        "id": "rMYCgZzLH-T-",
        "colab_type": "code",
        "colab": {}
      },
      "source": [
        "tfidf_uni_loaded = pickle.load(open('tfidf_uni_pickle_vectorizer.sav', 'rb'))"
      ],
      "execution_count": 0,
      "outputs": []
    },
    {
      "cell_type": "code",
      "metadata": {
        "id": "eU2VeDrMIhP-",
        "colab_type": "code",
        "colab": {}
      },
      "source": [
        "lod_mat = tfidf_uni_loaded.transform([final_df['stemmed_articles'][786]])\n",
        "unload_mat = tfidf_uni.transform([final_df['stemmed_articles'][786]])"
      ],
      "execution_count": 0,
      "outputs": []
    },
    {
      "cell_type": "code",
      "metadata": {
        "id": "WdvKE-hzJKjP",
        "colab_type": "code",
        "outputId": "21ad552a-e93c-4302-9900-045061b5bb58",
        "colab": {
          "base_uri": "https://localhost:8080/",
          "height": 52
        }
      },
      "source": [
        "lod_mat"
      ],
      "execution_count": 0,
      "outputs": [
        {
          "output_type": "execute_result",
          "data": {
            "text/plain": [
              "<1x7817 sparse matrix of type '<class 'numpy.float64'>'\n",
              "\twith 156 stored elements in Compressed Sparse Row format>"
            ]
          },
          "metadata": {
            "tags": []
          },
          "execution_count": 96
        }
      ]
    },
    {
      "cell_type": "code",
      "metadata": {
        "id": "sptios3II7_B",
        "colab_type": "code",
        "outputId": "2b6eba1c-7e36-4c32-e5b3-364c38ee7644",
        "colab": {
          "base_uri": "https://localhost:8080/",
          "height": 34
        }
      },
      "source": [
        "(lod_mat.toarray() == unload_mat.toarray()).sum()"
      ],
      "execution_count": 0,
      "outputs": [
        {
          "output_type": "execute_result",
          "data": {
            "text/plain": [
              "7817"
            ]
          },
          "metadata": {
            "tags": []
          },
          "execution_count": 95
        }
      ]
    },
    {
      "cell_type": "markdown",
      "metadata": {
        "id": "IXjbKxs47Kv1",
        "colab_type": "text"
      },
      "source": [
        "## Now lets get the best model on TFIDF bigrams Vectorizer"
      ]
    },
    {
      "cell_type": "code",
      "metadata": {
        "id": "_w2bomzb7k86",
        "colab_type": "code",
        "outputId": "8f6d768d-aa7a-435d-84ec-4c07eaac46c8",
        "colab": {
          "base_uri": "https://localhost:8080/",
          "height": 585
        }
      },
      "source": [
        "tfidf_best_model = best_model(x_train=tfidf_xtrain_vect, y_train=train_df['class'], x_test=tfidf_xtest_vect, y_test=test_df['class'])"
      ],
      "execution_count": 0,
      "outputs": [
        {
          "output_type": "stream",
          "text": [
            "Fitting 3 folds for each of 254 candidates, totalling 762 fits\n"
          ],
          "name": "stdout"
        },
        {
          "output_type": "stream",
          "text": [
            "[Parallel(n_jobs=-1)]: Using backend LokyBackend with 2 concurrent workers.\n",
            "[Parallel(n_jobs=-1)]: Done 110 tasks      | elapsed:    5.0s\n",
            "[Parallel(n_jobs=-1)]: Done 380 tasks      | elapsed:  2.0min\n",
            "[Parallel(n_jobs=-1)]: Done 630 tasks      | elapsed:  6.2min\n",
            "[Parallel(n_jobs=-1)]: Done 762 out of 762 | elapsed:  9.1min finished\n"
          ],
          "name": "stderr"
        },
        {
          "output_type": "stream",
          "text": [
            "best estimator is Pipeline(memory=None,\n",
            "         steps=[('classifier',\n",
            "                 LogisticRegression(C=23.912341624151296, class_weight=None,\n",
            "                                    dual=False, fit_intercept=True,\n",
            "                                    intercept_scaling=1, l1_ratio=None,\n",
            "                                    max_iter=100, multi_class='warn',\n",
            "                                    n_jobs=None, penalty='l2',\n",
            "                                    random_state=None, solver='liblinear',\n",
            "                                    tol=0.0001, verbose=0, warm_start=False))],\n",
            "         verbose=False)\n",
            "confusion matrix on test data is:\n",
            "predicted label  negative  positive\n",
            "True Label                         \n",
            "negative              406         3\n",
            "positive                7       213\n",
            " \n",
            "classification report on test data is\n",
            "              precision    recall  f1-score   support\n",
            "\n",
            "    negative       0.98      0.99      0.99       409\n",
            "    positive       0.99      0.97      0.98       220\n",
            "\n",
            "    accuracy                           0.98       629\n",
            "   macro avg       0.98      0.98      0.98       629\n",
            "weighted avg       0.98      0.98      0.98       629\n",
            "\n"
          ],
          "name": "stdout"
        }
      ]
    },
    {
      "cell_type": "markdown",
      "metadata": {
        "id": "CQsQ23qV7PQp",
        "colab_type": "text"
      },
      "source": [
        "## Now lets get the best model on TFIDF trigrams Vectorizer"
      ]
    },
    {
      "cell_type": "code",
      "metadata": {
        "id": "PuYgrxOS7vZf",
        "colab_type": "code",
        "outputId": "ded830b0-1215-4fe2-e7de-a9b2018726cd",
        "colab": {
          "base_uri": "https://localhost:8080/",
          "height": 585
        }
      },
      "source": [
        "tfidf_tri_best_model = best_model(x_train=tfidf_tri_xtrain_vect, y_train=train_df['class'], x_test=tfidf_tri_xtest_vect, y_test=test_df['class'])"
      ],
      "execution_count": 0,
      "outputs": [
        {
          "output_type": "stream",
          "text": [
            "Fitting 3 folds for each of 254 candidates, totalling 762 fits\n"
          ],
          "name": "stdout"
        },
        {
          "output_type": "stream",
          "text": [
            "[Parallel(n_jobs=-1)]: Using backend LokyBackend with 2 concurrent workers.\n",
            "[Parallel(n_jobs=-1)]: Done 110 tasks      | elapsed:    5.0s\n",
            "[Parallel(n_jobs=-1)]: Done 380 tasks      | elapsed:  2.0min\n",
            "[Parallel(n_jobs=-1)]: Done 630 tasks      | elapsed:  6.2min\n",
            "[Parallel(n_jobs=-1)]: Done 762 out of 762 | elapsed:  9.0min finished\n"
          ],
          "name": "stderr"
        },
        {
          "output_type": "stream",
          "text": [
            "best estimator is Pipeline(memory=None,\n",
            "         steps=[('classifier',\n",
            "                 LogisticRegression(C=23.912341624151296, class_weight=None,\n",
            "                                    dual=False, fit_intercept=True,\n",
            "                                    intercept_scaling=1, l1_ratio=None,\n",
            "                                    max_iter=100, multi_class='warn',\n",
            "                                    n_jobs=None, penalty='l2',\n",
            "                                    random_state=None, solver='liblinear',\n",
            "                                    tol=0.0001, verbose=0, warm_start=False))],\n",
            "         verbose=False)\n",
            "confusion matrix on test data is:\n",
            "predicted label  negative  positive\n",
            "True Label                         \n",
            "negative              406         3\n",
            "positive                7       213\n",
            " \n",
            "classification report on test data is\n",
            "              precision    recall  f1-score   support\n",
            "\n",
            "    negative       0.98      0.99      0.99       409\n",
            "    positive       0.99      0.97      0.98       220\n",
            "\n",
            "    accuracy                           0.98       629\n",
            "   macro avg       0.98      0.98      0.98       629\n",
            "weighted avg       0.98      0.98      0.98       629\n",
            "\n"
          ],
          "name": "stdout"
        }
      ]
    }
  ]
}