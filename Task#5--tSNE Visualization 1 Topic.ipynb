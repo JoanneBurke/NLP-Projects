{
 "cells": [
  {
   "cell_type": "code",
   "execution_count": 3,
   "metadata": {},
   "outputs": [],
   "source": [
    "import pandas as pd"
   ]
  },
  {
   "cell_type": "code",
   "execution_count": 4,
   "metadata": {},
   "outputs": [
    {
     "name": "stdout",
     "output_type": "stream",
     "text": [
      "<class 'pandas.core.frame.DataFrame'>\n",
      "RangeIndex: 958 entries, 0 to 957\n",
      "Data columns (total 5 columns):\n",
      "topic_num        958 non-null int64\n",
      "topic_val        958 non-null object\n",
      "topic_weight     958 non-null float64\n",
      "anchor           958 non-null int64\n",
      "anchor_weight    958 non-null float64\n",
      "dtypes: float64(2), int64(2), object(1)\n",
      "memory usage: 37.5+ KB\n",
      "None\n",
      "        topic_num  topic_weight      anchor  anchor_weight\n",
      "count  958.000000    958.000000  958.000000     958.000000\n",
      "mean     3.713987      0.041416    5.856994       0.654269\n",
      "std      1.873656      0.046072   21.394621       4.776154\n",
      "min      0.000000      0.001000    1.000000       0.025000\n",
      "25%      2.000000      0.029000    1.000000       0.029000\n",
      "50%      5.000000      0.035000    1.000000       0.035000\n",
      "75%      5.000000      0.040000    1.000000       0.040000\n",
      "max      6.000000      0.882000  100.000000      88.176000\n",
      "   topic_num         topic_val  topic_weight  anchor  anchor_weight\n",
      "0          0              land         0.882     100         88.176\n",
      "1          0      resettlement         0.052     100          5.179\n",
      "2          0       degradation         0.020     100          2.031\n",
      "3          0              plot         0.011     100          1.085\n",
      "4          0  land acquisition         0.118       1          0.118\n"
     ]
    }
   ],
   "source": [
    "Corex = pd.read_csv(\"Corex_Topics.csv\", sep=',')\n",
    "print(Corex.info())\n",
    "print(Corex.describe())\n",
    "print(Corex.head())"
   ]
  },
  {
   "cell_type": "code",
   "execution_count": 8,
   "metadata": {},
   "outputs": [
    {
     "name": "stdout",
     "output_type": "stream",
     "text": [
      "[t-SNE] Computing 27 nearest neighbors...\n",
      "[t-SNE] Indexed 28 samples in 0.000s...\n",
      "[t-SNE] Computed neighbors for 28 samples in 0.000s...\n",
      "[t-SNE] Computed conditional probabilities for sample 28 / 28\n",
      "[t-SNE] Mean sigma: 1125899906842624.000000\n",
      "[t-SNE] Computed conditional probabilities in 0.002s\n",
      "[t-SNE] Iteration 50: error = 30.1812305, gradient norm = 1.9141923 (50 iterations in 0.013s)\n",
      "[t-SNE] Iteration 100: error = 32.1391716, gradient norm = 1.9403404 (50 iterations in 0.013s)\n",
      "[t-SNE] Iteration 150: error = 30.6205711, gradient norm = 2.0993674 (50 iterations in 0.014s)\n",
      "[t-SNE] Iteration 200: error = 30.5415077, gradient norm = 2.2440276 (50 iterations in 0.012s)\n",
      "[t-SNE] Iteration 250: error = 32.7703857, gradient norm = 1.8017229 (50 iterations in 0.013s)\n",
      "[t-SNE] KL divergence after 250 iterations with early exaggeration: 32.770386\n",
      "[t-SNE] Iteration 300: error = 0.0001233, gradient norm = 0.0000667 (50 iterations in 0.012s)\n",
      "[t-SNE] Error after 300 iterations: 0.000123\n"
     ]
    },
    {
     "name": "stderr",
     "output_type": "stream",
     "text": [
      "C:\\Program Files (x86)\\Microsoft Visual Studio\\Shared\\Anaconda3_64\\lib\\site-packages\\ipykernel_launcher.py:19: DeprecationWarning: Call to deprecated `__getitem__` (Method will be removed in 4.0.0, use self.wv.__getitem__() instead).\n"
     ]
    },
    {
     "data": {
      "text/plain": [
       "Text(0.0209527,0.432372,'Land')"
      ]
     },
     "execution_count": 8,
     "metadata": {},
     "output_type": "execute_result"
    },
    {
     "data": {
      "image/png": "[encoded data removed]",
      "text/plain": [
       "<Figure size 432x288 with 1 Axes>"
      ]
     },
     "metadata": {},
     "output_type": "display_data"
    }
   ],
   "source": [
    "\n",
    "from sklearn.manifold import TSNE\n",
    "import matplotlib.pyplot as plt\n",
    "\n",
    "import gensim \n",
    "from gensim.models import Word2Vec \n",
    "\n",
    "Corex = pd.read_csv(\"Corex_Topics.csv\", sep=',')\n",
    "\n",
    "#Select Topic plus correlated words from CorEx model\n",
    "Corex_topic = Corex[Corex['topic_num']==0]['topic_val']\n",
    "\n",
    "#Model Topic Words in a Vector of Size 100\n",
    "model = gensim.models.Word2Vec(Corex_topic, min_count = 1,  \n",
    "                              size = 100, window = 5) \n",
    "\n",
    "tokens = []\n",
    "for word in model.wv.vocab:\n",
    "    tokens.append(model[word])\n",
    "\n",
    "#Project 100-Dimension Vector onto tSNE 2-Dimensions Vector\n",
    "tsne_lda_model = TSNE(n_components=2, perplexity=50, \n",
    "                      learning_rate=10,n_iter=300, verbose=3, random_state=0, angle=0.75)\n",
    "tsne_lda_vectors0 = tsne_lda_model.fit_transform(tokens)\n",
    "\n",
    "#Add to Chart with Label\n",
    "plt.scatter(x=tsne_lda_vectors0[:,0], y=tsne_lda_vectors0[:,1], color='green')#land\n",
    "plt.text(tsne_lda_vectors0[3,0],tsne_lda_vectors0[3,1],'Land',fontsize=20,bbox=dict(boxstyle=\"round\", fc=\"w\"))\n"
   ]
  },
  {
   "cell_type": "code",
   "execution_count": null,
   "metadata": {},
   "outputs": [],
   "source": []
  }
 ],
 "metadata": {
  "kernelspec": {
   "display_name": "Python 3",
   "language": "python",
   "name": "python3"
  },
  "language_info": {
   "codemirror_mode": {
    "name": "ipython",
    "version": 3
   },
   "file_extension": ".py",
   "mimetype": "text/x-python",
   "name": "python",
   "nbconvert_exporter": "python",
   "pygments_lexer": "ipython3",
   "version": "3.6.5"
  }
 },
 "nbformat": 4,
 "nbformat_minor": 2
}
